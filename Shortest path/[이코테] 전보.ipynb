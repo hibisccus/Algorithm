{
 "cells": [
  {
   "cell_type": "markdown",
   "id": "5742fb1b",
   "metadata": {},
   "source": [
    "## 전보\n",
    "\n",
    "#### 문제\n",
    "\n",
    "    어떤 나라에는 N개의 도시가 있다. 그리고 각 도시는 보내고자 하는 메시지가 있는 경우, 다른 도시로 전보를 보내서 다른 도시로 해당 메시지를 전송할 수 있다. 하지만 X라는 도시에서 Y라는 도시로 전보를 보내고자 한다면, 도시 X에서 Y로 향하는 통로가 설치되어 있어야 한다. \n",
    "    예를 들어 X에서 Y로 향하는 통로는 있지만, Y에서 X로 향하는 통로가 없다면 Y는 X로 메시지를 보낼 수 없다. 또한 통로를 거쳐 메시지를 보낼 때는 일정 시간이 소요된다.\n",
    "    어느 날 C라는 도시에서 위급 상황이 발생했다. 그래서 최대한 많은 도시로 메시지를 보내고자 한다. 메시지는 도시 C에서 출발하여 각 도시 사이에 설치된 통로를 거쳐, 최대한 많이 퍼져나갈 것이다. 각 도시의 번호와 통로가 설치되어 있는 정보가 주어졌을 때, 도시 C에서 보낸 메시지를 받게 되는 도시의 개수는 총 몇 개이며 도시들이 모두 메시지를 받는 데까지 걸리는 시간은 얼마인지 계산하는 프로그램을 작성하시오.\n",
    "    \n",
    "#### 입력 조건\n",
    "\n",
    "    1. 첫째 줄에 도시의 개수 N, 통로의 개수 M, 메시지를 보내고자 하는 도시 C가 주어진다. (1 <= N <= 30,000, 1 <= M <= 200,000, 1 <= C <= N)\n",
    "    2. 둘째 줄부터 M + 1번째 줄에 걸쳐서 통로에 대한 정보 X, Y, Z가 주어진다. 이는 특정 도시 X에서 다른 특정 도시 Y로 이어지는 통로가 있으며, 메시지가 전달되는 시간이 Z라는 의미다. (1 <= X, Y <= N, 1 <= Z <= 1,000)\n",
    "    \n",
    "#### 출력 조건\n",
    "\n",
    "    첫째 줄에 도시 C에서 보낸 메시지를 받는 도시의 총 개수와 총 걸리는 시간을 공백으로 구분하여 출력한다."
   ]
  },
  {
   "cell_type": "markdown",
   "id": "07f52fe2",
   "metadata": {},
   "source": [
    "#### 입력 예시\n",
    "    \n",
    "    In [1] 3 2 1\n",
    "           1 2 4\n",
    "           1 3 2\n",
    "\n",
    "#### 출력 예시\n",
    "    \n",
    "    Out [1] 2 4"
   ]
  },
  {
   "cell_type": "code",
   "execution_count": 2,
   "id": "9881cf96",
   "metadata": {},
   "outputs": [
    {
     "name": "stdout",
     "output_type": "stream",
     "text": [
      "3 2 1\n",
      "1 2 4\n",
      "1 3 2\n",
      "2 4\n"
     ]
    }
   ],
   "source": [
    "import heapq\n",
    "\n",
    "def Telegram(N: int, M: int, C: int):\n",
    "    INF = int(1e9)\n",
    "    graph = [[] for _ in range(N + 1)]\n",
    "    distance = [INF] * (N + 1)\n",
    "    \n",
    "    for _ in range(M):\n",
    "        X, Y, Z = map(int, input().split())\n",
    "        graph[X].append((Y, Z))\n",
    "    \n",
    "    def dijkstra(start):\n",
    "        queue = []\n",
    "        heapq.heappush(queue, (0, start))\n",
    "        distance[start] = 0\n",
    "        \n",
    "        while queue:\n",
    "            dist, now = heapq.heappop(queue)\n",
    "            if distance[now] < dist:\n",
    "                continue\n",
    "                \n",
    "            for i in graph[now]:\n",
    "                cost = dist + i[1]\n",
    "                \n",
    "                if cost < distance[i[0]]:\n",
    "                    distance[i[0]] = cost\n",
    "                    heapq.heappush(queue, (cost, i[0]))\n",
    "                    \n",
    "        # print(distance)\n",
    "\n",
    "    dijkstra(C)\n",
    "    \n",
    "    count = 0\n",
    "    max_distance = 0\n",
    "    \n",
    "    for d in distance:\n",
    "        if d != INF:\n",
    "            count += 1\n",
    "            max_distance = max(max_distance, d)\n",
    "            \n",
    "    print(count - 1, max_distance)                \n",
    "                \n",
    "N, M, C = map(int, input().split())\n",
    "Telegram(N, M, C)"
   ]
  },
  {
   "cell_type": "markdown",
   "id": "7a659b94",
   "metadata": {},
   "source": [
    "#### 문제 참고\n",
    "    이것이 취업을 위한 코딩 테스트다 with 파이썬"
   ]
  }
 ],
 "metadata": {
  "kernelspec": {
   "display_name": "Python 3",
   "language": "python",
   "name": "python3"
  },
  "language_info": {
   "codemirror_mode": {
    "name": "ipython",
    "version": 3
   },
   "file_extension": ".py",
   "mimetype": "text/x-python",
   "name": "python",
   "nbconvert_exporter": "python",
   "pygments_lexer": "ipython3",
   "version": "3.8.8"
  }
 },
 "nbformat": 4,
 "nbformat_minor": 5
}
