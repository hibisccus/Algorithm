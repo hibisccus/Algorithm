{
 "cells": [
  {
   "cell_type": "markdown",
   "id": "7025b02e",
   "metadata": {},
   "source": [
    "## 미래 도시\n",
    "\n",
    "#### 문제\n",
    "\n",
    "    미래 도시에는 1번부터 N번까지의 회사가 있는데 특정 회사끼리는 서로 도로를 통해 연결되어 있다. 방문 판매원 A는 현재 1번 회사에 위치해 있으며, X번 회사에 방문해 물건을 판매하고자 한다. 미래 도시에서 특정 회사에 도착하기 위한 방법은 회사끼리 연결되어 있는 도로를 이용하는 방법이 유일하다. 또한 연결된 2개의 회사는 양방향으로 이동할 수 있다. 공중 미래 도시에서 특정 회사와 다른 회사가 도로로 연결되어 있다면, 정확히 1만큼의 시간으로 이동할 수 있다. 또한 오늘 방문 판매원 A는 기대하던 소개팅에도 참석하고자 한다. 소개팅의 상대는 K번 회사에 존재한다.\n",
    "\n",
    "    방문 판매원 A는 X번 회사에 가서 물건을 판매하기 전에 먼저 소개팅 상대의 회사에 찾아가서 함께 커피를 마실 예정이다. 따라서 방문 판매원 A는 1번 회사에서 출발하여 K번 회사를 방문한 뒤에 X번 회사로 가는 것이 목표다. 이때 방문 판매원 A는 가능한 한 빠르게 이동하고자 한다. 방문 판매원이 회사 사이를 이동하게 되는 최소 시간을 계산하는 프로그램을 작성하시오.\n",
    "\n",
    "#### 입력 조건\n",
    "\n",
    "    첫째 줄에 전체 회사의 개수 N과 경로의 개수 M이 공백으로 구분되어 차례대로 주어진다. (1 <= N, M <= 100)\n",
    "    둘째 줄부터 M + 1번째 줄에는 연결된 두 회사의 번호가 공백으로 구분되어 주어진다.\n",
    "    M + 2번째 줄에는 X와 K가 공백으로 구분되어 차례대로 주어진다. (1 <= K <= 100)\n",
    "\n",
    "#### 출력 조건\n",
    "\n",
    "    첫째 줄에 방문 판매원 A가 K번 회사를 거쳐 X번 회사로 가는 최소 이동 시간을 출력한다.\n",
    "    만약 X번 회사에 도달할 수 없다면 -1을 출력한다."
   ]
  },
  {
   "cell_type": "markdown",
   "id": "144ce811",
   "metadata": {},
   "source": [
    "#### 입력 예시 1    \n",
    "   \n",
    "    In [1] 5 7\n",
    "           1 2\n",
    "           1 3\n",
    "           1 4\n",
    "           2 4\n",
    "           3 4\n",
    "           3 5\n",
    "           4 5\n",
    "           4 5\n",
    "\n",
    "#### 출력 예시 1    \n",
    "    \n",
    "    Out [1] 3\n",
    "\n",
    "\n",
    "#### 입력 예시 2\n",
    "    \n",
    "    In[2] 4 2\n",
    "          1 3\n",
    "          2 4\n",
    "          3 4\n",
    "\n",
    "#### 출력 예시 2\n",
    "    \n",
    "    Out [1] -1"
   ]
  },
  {
   "cell_type": "code",
   "execution_count": 1,
   "id": "aa309a53",
   "metadata": {},
   "outputs": [
    {
     "name": "stdout",
     "output_type": "stream",
     "text": [
      "5 7\n",
      "1 2\n",
      "1 3\n",
      "1 4\n",
      "2 4\n",
      "3 4\n",
      "3 5\n",
      "4 5\n",
      "4 5\n"
     ]
    },
    {
     "data": {
      "text/plain": [
       "3"
      ]
     },
     "execution_count": 1,
     "metadata": {},
     "output_type": "execute_result"
    }
   ],
   "source": [
    "def FutureCity(n: int, m: int) -> int:\n",
    "    INF = int(1e9)\n",
    "    graph = [[INF] * (n + 1) for _ in range(n + 1)]\n",
    "    \n",
    "    for i in range(1, n + 1):\n",
    "        for j in range(1, n + 1):\n",
    "            # 대각선 부분 0 처리\n",
    "            if i == j:\n",
    "                graph[i][j] = 0\n",
    "\n",
    "    for _ in range(m):\n",
    "        a, b = map(int, input().split())\n",
    "        # 양방향 이동이 가능한 문제\n",
    "        graph[a][b] = 1\n",
    "        graph[b][a] = 1  \n",
    "        \n",
    "    for k in range(1, n + 1):\n",
    "        for a in range(1, n + 1):\n",
    "            for b in range(1, n + 1):\n",
    "                graph[a][b] = min(graph[a][b], graph[a][k] + graph[k][b]) \n",
    "                \n",
    "    X, K = map(int, input().split())\n",
    "    distance = graph[1][K] + graph[K][X]\n",
    "    \n",
    "    if distance >= INF:\n",
    "        return -1\n",
    "    else:\n",
    "        return distance\n",
    "        \n",
    "n, m = map(int, input().split())\n",
    "FutureCity(n, m)"
   ]
  },
  {
   "cell_type": "markdown",
   "id": "64b41b3f",
   "metadata": {},
   "source": [
    "#### 문제 참고\n",
    "    이것이 취업을 위한 코딩 테스트다 with 파이썬"
   ]
  }
 ],
 "metadata": {
  "kernelspec": {
   "display_name": "Python 3",
   "language": "python",
   "name": "python3"
  },
  "language_info": {
   "codemirror_mode": {
    "name": "ipython",
    "version": 3
   },
   "file_extension": ".py",
   "mimetype": "text/x-python",
   "name": "python",
   "nbconvert_exporter": "python",
   "pygments_lexer": "ipython3",
   "version": "3.8.8"
  }
 },
 "nbformat": 4,
 "nbformat_minor": 5
}
