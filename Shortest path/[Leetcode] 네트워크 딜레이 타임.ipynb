{
 "cells": [
  {
   "cell_type": "markdown",
   "metadata": {},
   "source": [
    "## 743. 네트워크 딜레이 타임  \n",
    "Leetcode link: [Network Delay Time](https://leetcode.com/problems/network-delay-time/)\n",
    "\n",
    "#### 문제\n",
    "\n",
    "    K부터 출발해 모든 노드 신호를 받을 수 있는 시간을 계산하라. 불가능할 경우 -1을 리턴한다. 입력값 (u, v, w)는 각각 출발지, 도착지, 소요 시간으로 구성되며, 전체 노드의 개수는 N으로 입력받는다.\n",
    "    \n",
    "    You are given a network of n nodes, labeled from 1 to n. You are also given times, a list of travel times as directed edges times[i] = (ui, vi, wi), where ui is the source node, vi is the target node, and wi is the time it takes for a signal to travel from source to target. \n",
    "    We will send a signal from a given node k. Return the minimum time it takes for all the n nodes to receive the signal. If it is impossible for all the n nodes to receive the signal, return -1.\n",
    "    \n",
    "#### 입력 예시\n",
    "\n",
    "    Input [1]: times = [[2,1,1],[2,3,1],[3,4,1]], n = 4, k = 2\n",
    "    \n",
    "    Input [2]: times = [[1,2,1]], n = 2, k = 1\n",
    "    \n",
    "    Input [3]: times = [[1,2,1]], n = 2, k = 2\n",
    "    \n",
    "#### 출력 예시\n",
    "    \n",
    "    Output [1]: 2\n",
    "    \n",
    "    Output [2]: 1\n",
    "    \n",
    "    Output [3]: -1"
   ]
  },
  {
   "cell_type": "markdown",
   "metadata": {},
   "source": [
    "#### 풀이\n",
    "    \n",
    "    이 문제에서는 다음과 같은 2가지 사항을 판별해야 한다.\n",
    "        \n",
    "        1. 모든 노드가 신호를 받는 데 걸리는 시간\n",
    "        2. 모든 노드에 도달할 수 있는지 여부"
   ]
  },
  {
   "cell_type": "code",
   "execution_count": 2,
   "metadata": {},
   "outputs": [
    {
     "data": {
      "text/plain": [
       "2"
      ]
     },
     "execution_count": 2,
     "metadata": {},
     "output_type": "execute_result"
    }
   ],
   "source": [
    "from collections import defaultdict\n",
    "import heapq\n",
    "\n",
    "def networkDelayTime(times: list, n: int, k: int) -> int:\n",
    "    graph = defaultdict(list)\n",
    "    # 그래프 인접 리스트 구성\n",
    "    for u, v, w in times:\n",
    "        graph[u].append((v, w))\n",
    "      \n",
    "    # Q: [소요 시간, 정점] (시작점에서 해당 정점까지의 소요 시간)\n",
    "    Q = [(0, k)]\n",
    "    dist = defaultdict(int)\n",
    "    \n",
    "    while Q:\n",
    "        time, node = heapq.heappop(Q)\n",
    "        if node not in dist:\n",
    "            dist[node] = time\n",
    "            for v, w in graph[node]:\n",
    "                alt = time + w\n",
    "                heapq.heappush(Q, (alt, v))\n",
    "        \n",
    "    if len(dist) == n:\n",
    "        return max(dist.values())\n",
    "    return -1  \n",
    "\n",
    "\n",
    "times = [[2, 1, 1], [2, 3, 1],[3, 4, 1]]\n",
    "n = 4\n",
    "k = 2\n",
    "\n",
    "networkDelayTime(times, n, k)"
   ]
  },
  {
   "cell_type": "code",
   "execution_count": 3,
   "metadata": {},
   "outputs": [
    {
     "data": {
      "text/plain": [
       "1"
      ]
     },
     "execution_count": 3,
     "metadata": {},
     "output_type": "execute_result"
    }
   ],
   "source": [
    "times = [[1,2,1]]\n",
    "n = 2\n",
    "k = 1\n",
    "\n",
    "networkDelayTime(times, n, k)"
   ]
  },
  {
   "cell_type": "code",
   "execution_count": 4,
   "metadata": {},
   "outputs": [
    {
     "data": {
      "text/plain": [
       "-1"
      ]
     },
     "execution_count": 4,
     "metadata": {},
     "output_type": "execute_result"
    }
   ],
   "source": [
    "times = [[1, 2, 1]]\n",
    "n = 2\n",
    "k = 2\n",
    "\n",
    "networkDelayTime(times, n, k)"
   ]
  }
 ],
 "metadata": {
  "kernelspec": {
   "display_name": "Python 3",
   "language": "python",
   "name": "python3"
  },
  "language_info": {
   "codemirror_mode": {
    "name": "ipython",
    "version": 3
   },
   "file_extension": ".py",
   "mimetype": "text/x-python",
   "name": "python",
   "nbconvert_exporter": "python",
   "pygments_lexer": "ipython3",
   "version": "3.8.5"
  }
 },
 "nbformat": 4,
 "nbformat_minor": 4
}
