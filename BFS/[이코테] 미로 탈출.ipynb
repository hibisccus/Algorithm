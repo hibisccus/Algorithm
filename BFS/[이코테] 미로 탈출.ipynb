{
 "cells": [
  {
   "cell_type": "markdown",
   "id": "415af2ec",
   "metadata": {},
   "source": [
    "## 미로 탈출\n",
    "\n",
    "#### 문제\n",
    "    N x M 크기의 직사각형 형태의 미로에 여러 마리의 괴물이 있어 이를 피해 탈출해야 한다. \n",
    "    현재 위치는 (1, 1)이고 미로의 출구는 (N,M)의 위치에 존재하며 한 번에 한 칸씩 이동할 수 있다. \n",
    "    괴물이 있는 부분은 0으로, 괴물이 없는 부분은 1로 표시되어 있다. 미로는 반드시 탈출할 수 있는 형태로 제시된다.\n",
    "    탈출하기 위해 움직여야 하는 최소 칸의 개수를 구하라. 칸을 셀 때는 시작 칸과 마지막 칸을 모두 포함해서 계산한다.\n",
    "\n",
    "#### 입력 조건\n",
    "    첫째 줄에 두 정수 N, M(4 <= N, M <= 200)이 주어진다. 다음 N개의 줄에는 각각 M개의 정수(0혹은 1)로 미로의 정보가 주어진다. \n",
    "    각각의 수들은 공백 없이붙어서 입력으로 제시된다. 또한 시작 칸과 마지막 칸은 항상 1이다.\n",
    "    \n",
    "#### 출력 조건\n",
    "    첫째 줄에 최소 이동 칸의 개수를 출력한다."
   ]
  },
  {
   "cell_type": "markdown",
   "id": "534e3089",
   "metadata": {},
   "source": [
    "#### 입력 예시\n",
    "\n",
    "    In [1] 5 6\n",
    "           101010\n",
    "           111111\n",
    "           000001\n",
    "           111111\n",
    "           111111\n",
    "\n",
    "#### 출력 예시\n",
    "\n",
    "    Out [1] 10"
   ]
  },
  {
   "cell_type": "markdown",
   "id": "6e6cf4cc",
   "metadata": {},
   "source": [
    "#### 풀이\n",
    "    출발 위치는 리스트의 맨 처음부터 시작. 도착 위치는 리스트의 맨 마지막으로 고정되어 있다.    \n",
    "    출발 위치부터 상하좌우 4방향을 모두 들러보며, 현재 위치에서 이동이 불가능한 지점은 예외 처리를 해준다.\n",
    "    \n",
    "    현재 좌표값이 1일 경우에만 값을 증가시키고 현재 위치를 큐에 저장한다.\n",
    "    전진했다가 이전 위치로 다시 되돌아가는 경우가 생길 수 있기 때문에 1보다 클 경우에는 증가시키지 말아야 한다."
   ]
  },
  {
   "cell_type": "code",
   "execution_count": 7,
   "id": "ac2983f4",
   "metadata": {},
   "outputs": [
    {
     "name": "stdout",
     "output_type": "stream",
     "text": [
      "5 6\n",
      "101010\n",
      "111111\n",
      "000001\n",
      "111111\n",
      "111111\n",
      "10\n"
     ]
    }
   ],
   "source": [
    "from collections import deque\n",
    "\n",
    "def EscapeMaze(N: int, M: int, graph: list) -> int:    \n",
    "    dx = [-1, 1, 0, 0]\n",
    "    dy = [0, 0, -1, 1]\n",
    "    \n",
    "    def bfs(x, y):\n",
    "        queue = deque()\n",
    "        queue.append((x, y))\n",
    "        \n",
    "        while queue:\n",
    "            x, y = queue.popleft()\n",
    "            \n",
    "            for i in range(len(dx)):\n",
    "                nx = x + dx[i]\n",
    "                ny = y + dy[i]\n",
    "                \n",
    "                if nx < 0 or nx >= N or ny < 0 or ny >= M:\n",
    "                    continue\n",
    "                \n",
    "                if graph[nx][ny] == 0:\n",
    "                    continue\n",
    "\n",
    "                if graph[nx][ny] == 1:\n",
    "                    graph[nx][ny] = graph[x][y] + 1\n",
    "                    queue.append((nx, ny))\n",
    "                    \n",
    "        return graph[-1][-1]\n",
    "    \n",
    "    print(bfs(0, 0))\n",
    "                    \n",
    "\n",
    "N, M = map(int, input().split())\n",
    "graph = [list(map(int, input())) for _ in range(N)]\n",
    "\n",
    "EscapeMaze(N, M, graph)"
   ]
  },
  {
   "cell_type": "code",
   "execution_count": 4,
   "id": "667b4bca",
   "metadata": {},
   "outputs": [
    {
     "name": "stdout",
     "output_type": "stream",
     "text": [
      "3 4\n",
      "1111\n",
      "0101\n",
      "0011\n",
      "6\n"
     ]
    }
   ],
   "source": [
    "N, M = map(int, input().split())\n",
    "graph = [list(map(int, input())) for _ in range(N)]\n",
    "\n",
    "EscapeMaze(N, M, graph)"
   ]
  },
  {
   "cell_type": "markdown",
   "id": "4e2bb4bc",
   "metadata": {},
   "source": [
    "#### 문제 참고\n",
    "    이것이 취업을 위한 코딩 테스트다 with 파이썬"
   ]
  }
 ],
 "metadata": {
  "kernelspec": {
   "display_name": "Python 3",
   "language": "python",
   "name": "python3"
  },
  "language_info": {
   "codemirror_mode": {
    "name": "ipython",
    "version": 3
   },
   "file_extension": ".py",
   "mimetype": "text/x-python",
   "name": "python",
   "nbconvert_exporter": "python",
   "pygments_lexer": "ipython3",
   "version": "3.8.8"
  }
 },
 "nbformat": 4,
 "nbformat_minor": 5
}
