{
 "cells": [
  {
   "cell_type": "markdown",
   "id": "7af4b125",
   "metadata": {},
   "source": [
    "## 위에서 아래로\n",
    "\n",
    "#### 문제\n",
    "    하나의 수열에는 다양한 수가 존재하며, 이런 큰 수는 크기와 상관 없이 무작위로 주어진다. 이 수를 큰수 부터 작은 수까지 내림차순으로 정렬하면되는 문제다. 즉 수열을 내림차순으로 정렬하는 프로그램을 만들면된다.\n",
    "\n",
    "#### 입력 조건\n",
    "    첫째 줄에 수열에 속해 있는 수의 개수 N이 주어진다. 이때 범위는 1 <= N <= 500\n",
    "    둘째 줄부터 N + 1 번째 줄 까지 N개의 수가 입력된다. 수의 범위는 1 이상 100,000 이하 자연수\n",
    "    \n",
    "#### 출력 조건\n",
    "    입력으로 주어진 수열이 내림차순으로 정렬된 결과를 공백으로 구분해서 출력하면된다. 동일한 수는 순서상관없다."
   ]
  },
  {
   "cell_type": "markdown",
   "id": "a73f6c5e",
   "metadata": {},
   "source": [
    "#### 입력 예시\n",
    "\n",
    "    In [1] 3\n",
    "           15\n",
    "           27\n",
    "           12\n",
    "\n",
    "#### 출력 예시\n",
    "\n",
    "    Out[1] 27 15 12"
   ]
  },
  {
   "cell_type": "code",
   "execution_count": 1,
   "id": "42747476",
   "metadata": {
    "scrolled": true
   },
   "outputs": [
    {
     "name": "stdout",
     "output_type": "stream",
     "text": [
      "3\n",
      "15\n",
      "27\n",
      "12\n",
      "27 15 12\n"
     ]
    }
   ],
   "source": [
    "# 위에서 아래로\n",
    "N = int(input())\n",
    "lst = sorted([int(input()) for _ in range(N)], reverse=True)\n",
    "\n",
    "print(*lst)"
   ]
  },
  {
   "cell_type": "markdown",
   "id": "ad5ffe70",
   "metadata": {},
   "source": [
    "#### 문제 참고\n",
    "    이것이 취업을 위한 코딩 테스트다 with 파이썬"
   ]
  }
 ],
 "metadata": {
  "kernelspec": {
   "display_name": "Python 3",
   "language": "python",
   "name": "python3"
  },
  "language_info": {
   "codemirror_mode": {
    "name": "ipython",
    "version": 3
   },
   "file_extension": ".py",
   "mimetype": "text/x-python",
   "name": "python",
   "nbconvert_exporter": "python",
   "pygments_lexer": "ipython3",
   "version": "3.8.8"
  }
 },
 "nbformat": 4,
 "nbformat_minor": 5
}
