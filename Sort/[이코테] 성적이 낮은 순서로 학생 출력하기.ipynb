{
 "cells": [
  {
   "cell_type": "markdown",
   "id": "5933a16a",
   "metadata": {},
   "source": [
    "## 성적이 낮은 순서로 학생 출력하기\n",
    "\n",
    "#### 문제\n",
    "    N명의 학생의 성적 정보가 주어진다. 형식은 이름 성적 으로 주어지는데 이때 이들의 성적이 낮은 순으로 학생 이름을 출력하는 문제다.\n",
    "\n",
    "#### 입력 조건\n",
    "    첫 번째 줄에 학생의 수 N이 입력된다. (1 <= N <= 100,000)\n",
    "    두 번째 줄 부터 N+1 번째 줄 까지 학생의 이름 그리고 성적이 공백으로 주어진다. 학생이름 길이는 100이하, 성적은 100이하 자연수로 주어진다.\n",
    "\n",
    "#### 출력 조건\n",
    "    모든 학생의 이름을 성적이 낮은 순으로 출력하면된다. 동일한 성적은 자유롭게 출력하면 된다."
   ]
  },
  {
   "cell_type": "markdown",
   "id": "d65b0eb9",
   "metadata": {},
   "source": [
    "#### 입력 예시\n",
    "\n",
    "    In [1] 2\n",
    "           홍길동 96\n",
    "           이순신 78\n",
    "\n",
    "#### 출력 예시\n",
    "\n",
    "    Out [1] 이순신 홍길동"
   ]
  },
  {
   "cell_type": "code",
   "execution_count": 1,
   "id": "ca937b13",
   "metadata": {},
   "outputs": [
    {
     "name": "stdout",
     "output_type": "stream",
     "text": [
      "2\n",
      "홍길동 95\n",
      "이순신 77\n",
      "이순신 홍길동 "
     ]
    }
   ],
   "source": [
    "N = int(input())\n",
    "lst = []\n",
    "\n",
    "for i in range(N):\n",
    "    data = input().split()\n",
    "    lst.append((data[0], int(data[1])))\n",
    "    \n",
    "result = sorted(lst, key=lambda x: x[1])\n",
    "\n",
    "for i in result:\n",
    "    print(i[0], end=' ')"
   ]
  },
  {
   "cell_type": "markdown",
   "id": "5e15a3fb",
   "metadata": {},
   "source": [
    "#### 문제 참고\n",
    "    이것이 취업을 위한 코딩 테스트다 with 파이썬"
   ]
  }
 ],
 "metadata": {
  "kernelspec": {
   "display_name": "Python 3",
   "language": "python",
   "name": "python3"
  },
  "language_info": {
   "codemirror_mode": {
    "name": "ipython",
    "version": 3
   },
   "file_extension": ".py",
   "mimetype": "text/x-python",
   "name": "python",
   "nbconvert_exporter": "python",
   "pygments_lexer": "ipython3",
   "version": "3.8.8"
  }
 },
 "nbformat": 4,
 "nbformat_minor": 5
}
