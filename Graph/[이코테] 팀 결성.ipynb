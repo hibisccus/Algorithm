{
 "cells": [
  {
   "cell_type": "markdown",
   "id": "5a6ec9bb",
   "metadata": {},
   "source": [
    "## 팀 결성\n",
    "\n",
    "#### 문제\n",
    "\n",
    "    학교에서 학생들에게 0번부터 N번까지의 번호를 부여했다. 처음에는 모든 학생이 서로 다른 팀으로 구분되어, 총 N + 1 개의 팀이 존재한다. 이때 선생님은 '팀 합치기'연산과 '같은 팀 여부 확인'연산을 사용할 수 있다.\n",
    "\n",
    "        '팀 합치기' 연산은 두 팀을 합치는 연산이다.\n",
    "        '같은 팀 여부 확인' 연산은 특정한 두 학생이 같은 팀에 속하는지를 확인하는 연산이다.\n",
    "    선생님이 M개의 연산을 수행할 수 있을 때, '같은 팀 여부 확인'연산에 대한 연산 결과를 출력하는 프로그램을 작성하시오.\n",
    "\n",
    "#### 입력 조건\n",
    "\n",
    "    첫째 줄에 N, M이 주어진다. M은 입력으로 주어지는 연산의 개수이다. (1 <= N, M <= 100,000)\n",
    "    다음 M개의 줄에는 각각의 연산이 주어진다.\n",
    "    '팀 합치기' 연산은 0 a b 형태로 주어진다. 이는 a번 학생이 속한 팀과 b번 학생이 속한 팀을 합친다는 의미이다.\n",
    "    '같은 팀 여부 확인' 연산은 1 a b 형태로 주어진다. 이는 a번 학생과 b번 학생이 같은 팀에 속해 있는지를 확인하는 연산이다.\n",
    "    a와 b는 N 이하의 양의 정수이다.\n",
    "    '같은 팀 여부 확인'연산에 대하여 한 줄에 하나씩 YES 혹은 NO로 결과를 출력한다."
   ]
  },
  {
   "cell_type": "markdown",
   "id": "b290cd1c",
   "metadata": {},
   "source": [
    "#### 입력 예시\n",
    "\n",
    "    In [1] 7 8\n",
    "           0 1 3\n",
    "           1 1 7\n",
    "           0 7 6\n",
    "           1 7 1\n",
    "           0 3 7\n",
    "           0 4 2\n",
    "           0 1 1\n",
    "           1 1 1\n",
    "\n",
    "#### 출력 예시\n",
    "\n",
    "    Out [1] NO\n",
    "            NO\n",
    "            YES"
   ]
  },
  {
   "cell_type": "code",
   "execution_count": null,
   "id": "2a15018f",
   "metadata": {},
   "outputs": [],
   "source": [
    "def find_parent(parent, x):\n",
    "    if parent[x] != x:\n",
    "        parent[x] = find_parent(parent, parent[x])\n",
    "        \n",
    "    return parent[x]\n",
    "\n",
    "def union_parent(parent, a, b):\n",
    "    a = find_parent(parent, a)\n",
    "    b = find_parent(parent, b)\n",
    "    \n",
    "    if a < b:\n",
    "        parent[b] = a\n",
    "    else:\n",
    "        parent[a] = b    \n",
    "\n",
    "n, m = map(int, input().split())\n",
    "team = [0] * (n + 1)\n",
    "\n",
    "for i in range(n + 1):\n",
    "    team[i] = i\n",
    "    \n",
    "isTeam = []\n",
    "for _ in range(e):\n",
    "    check, a, b = map(int, input().split())\n",
    "    \n",
    "    # 팀 합치기\n",
    "    if check == 0:\n",
    "        union_parent(team, a, b)\n",
    "    # 같은 팀 여부 확인\n",
    "    elif check == 1:\n",
    "        if find_parent(team, a) == find_parent(team, b):\n",
    "            isTeam.append('YES')\n",
    "        else:\n",
    "            isTeam.append('NO')\n",
    "            \n",
    "print(*isTeam, sep='\\n')"
   ]
  },
  {
   "cell_type": "markdown",
   "id": "186d2fad",
   "metadata": {},
   "source": [
    "#### 문제 참고\n",
    "    이것이 취업을 위한 코딩 테스트다 with 파이썬"
   ]
  }
 ],
 "metadata": {
  "kernelspec": {
   "display_name": "Python 3",
   "language": "python",
   "name": "python3"
  },
  "language_info": {
   "codemirror_mode": {
    "name": "ipython",
    "version": 3
   },
   "file_extension": ".py",
   "mimetype": "text/x-python",
   "name": "python",
   "nbconvert_exporter": "python",
   "pygments_lexer": "ipython3",
   "version": "3.8.8"
  }
 },
 "nbformat": 4,
 "nbformat_minor": 5
}
