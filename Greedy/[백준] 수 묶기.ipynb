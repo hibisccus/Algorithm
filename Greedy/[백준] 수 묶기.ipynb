{
 "cells": [
  {
   "cell_type": "markdown",
   "metadata": {},
   "source": [
    "## 1744. 수 묶기    \n",
    "Baekjoon link: [tying number](https://www.acmicpc.net/problem/1744)\n",
    "\n",
    "#### 문제\n",
    "\n",
    "    길이가 N인 수열이 주어졌을 때, 그 수열의 합을 구하려고 한다. 하지만, 그냥 그 수열의 합을 모두 더해서 구하는 것이 아니라, 수열의 두 수를 묶으려고 한다. 어떤 수를 묶으려고 할 때, 위치에 상관없이 묶을 수 있다. 하지만, 같은 위치에 있는 수(자기 자신)를 묶는 것은 불가능하다. 그리고 어떤 수를 묶게 되면, 수열의 합을 구할 때 묶은 수는 서로 곱한 후에 더한다.\n",
    "\n",
    "    예를 들면, 어떤 수열이 {0, 1, 2, 4, 3, 5}일 때, 그냥 이 수열의 합을 구하면 0+1+2+4+3+5 = 15이다. 하지만, 2와 3을 묶고, 4와 5를 묶게 되면, 0+1+(2*3)+(4*5) = 27이 되어 최대가 된다.\n",
    "\n",
    "    수열의 모든 수는 단 한번만 묶거나, 아니면 묶지 않아야한다.\n",
    "    수열이 주어졌을 때, 수열의 각 수를 적절히 묶었을 때, 그 합이 최대가 되게 하는 프로그램을 작성하시오.\n",
    "    \n",
    "#### 입력 조건\n",
    "\n",
    "    첫째 줄에 수열의 크기 N이 주어진다. N은 50보다 작은 자연수이다. 둘째 줄부터 N개의 줄에 수열의 각 수가 주어진다. 수열의 수는 -1,000보다 크거나 같고, 1,000보다 작거나 같은 정수이다.\n",
    "    \n",
    "#### 출력 조건\n",
    "    \n",
    "    수를 합이 최대가 나오게 묶었을 때 합을 출력한다. 정답은 항상 231보다 작다."
   ]
  },
  {
   "cell_type": "markdown",
   "metadata": {},
   "source": [
    "#### 입력 예시\n",
    "\n",
    "    4\n",
    "    -1\n",
    "    2\n",
    "    1\n",
    "    3\n",
    "    \n",
    "#### 출력 예시\n",
    "    \n",
    "    6"
   ]
  },
  {
   "cell_type": "code",
   "execution_count": 1,
   "metadata": {},
   "outputs": [
    {
     "name": "stdout",
     "output_type": "stream",
     "text": [
      "4\n",
      "-1\n",
      "2\n",
      "1\n",
      "3\n",
      "6\n"
     ]
    }
   ],
   "source": [
    "# 수 묶기\n",
    "\n",
    "N = int(input())\n",
    "lst = [int(input()) for _ in range(N)]\n",
    "\n",
    "positive = []\n",
    "negative = []\n",
    "\n",
    "for i in lst:\n",
    "    if i > 0:\n",
    "        positive.append(i)\n",
    "    else:\n",
    "        negative.append(i)\n",
    "# 양수의 경우 큰 수들끼리 곱해야 합이 최대가 된다.\n",
    "positive.sort(reverse=True)\n",
    "# 음수의 경우 작은 수들끼리 곱해야 합이 최대가 된다.\n",
    "negative.sort()\n",
    "\n",
    "answer = 0\n",
    "for i in range(1, len(positive), 2):\n",
    "    # 숫자 둘 중 하나가 1일 경우, 두 수를 곱하는 것보다 더하는 것이 1만큼 더 크다.\n",
    "    if positive[i] == 1 or positive[i-1] == 1:\n",
    "        answer += positive[i-1] + positive[i]        \n",
    "    else:\n",
    "        answer += positive[i-1] * positive[i] \n",
    "# 양수가 홀수개일 경우 마지막 숫자 하나(가장 작은 양수)에 대한 처리\n",
    "# 반복문에서 처리하지 않고 따로 처리한다. 괄호처리 하지 않고 그냥 더해준다.\n",
    "if len(positive) % 2:\n",
    "    answer += positive[-1]\n",
    "    \n",
    "for i in range(1, len(negative), 2):\n",
    "    answer += negative[i-1] * negative[i]    \n",
    "# 음수가 홀수개일 경우 마지막 숫자 하나(가장 큰 음수)에 대한 처리 \n",
    "if len(negative) % 2:\n",
    "    answer += negative[-1]\n",
    "    \n",
    "print(answer)"
   ]
  }
 ],
 "metadata": {
  "kernelspec": {
   "display_name": "Python 3",
   "language": "python",
   "name": "python3"
  },
  "language_info": {
   "codemirror_mode": {
    "name": "ipython",
    "version": 3
   },
   "file_extension": ".py",
   "mimetype": "text/x-python",
   "name": "python",
   "nbconvert_exporter": "python",
   "pygments_lexer": "ipython3",
   "version": "3.8.5"
  }
 },
 "nbformat": 4,
 "nbformat_minor": 4
}
