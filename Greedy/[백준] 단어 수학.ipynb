{
 "cells": [
  {
   "cell_type": "markdown",
   "metadata": {},
   "source": [
    "## 1339. 단어 수학 \n",
    "Baekjoon link: [word math](https://www.acmicpc.net/problem/1339)\n",
    "\n",
    "#### 문제\n",
    "\n",
    "    민식이는 수학학원에서 단어 수학 문제를 푸는 숙제를 받았다.\n",
    "\n",
    "    단어 수학 문제는 N개의 단어로 이루어져 있으며, 각 단어는 알파벳 대문자로만 이루어져 있다. 이때, 각 알파벳 대문자를 0부터 9까지의 숫자 중 하나로 바꿔서 N개의 수를 합하는 문제이다. 같은 알파벳은 같은 숫자로 바꿔야 하며, 두 개 이상의 알파벳이 같은 숫자로 바뀌어지면 안 된다.\n",
    "    \n",
    "    예를 들어, GCF + ACDEB를 계산한다고 할 때, A = 9, B = 4, C = 8, D = 6, E = 5, F = 3, G = 7로 결정한다면, 두 수의 합은 99437이 되어서 최대가 될 것이다.\n",
    "\n",
    "    N개의 단어가 주어졌을 때, 그 수의 합을 최대로 만드는 프로그램을 작성하시오.\n",
    "    \n",
    "#### 입력 조건\n",
    "\n",
    "    첫째 줄에 단어의 개수 N(1 ≤ N ≤ 10)이 주어진다. 둘째 줄부터 N개의 줄에 단어가 한 줄에 하나씩 주어진다. 단어는 알파벳 대문자로만 이루어져있다. 모든 단어에 포함되어 있는 알파벳은 최대 10개이고, 수의 최대 길이는 8이다. 서로 다른 문자는 서로 다른 숫자를 나타낸다.\n",
    "    \n",
    "#### 출력 조건\n",
    "    \n",
    "    첫째 줄에 주어진 단어의 합의 최댓값을 출력한다."
   ]
  },
  {
   "cell_type": "markdown",
   "metadata": {},
   "source": [
    "#### 입력 예시\n",
    "\n",
    "    2\n",
    "    GCF\n",
    "    ACDEB\n",
    "    \n",
    "#### 출력 예시\n",
    "    \n",
    "    99437"
   ]
  },
  {
   "cell_type": "code",
   "execution_count": 1,
   "metadata": {},
   "outputs": [
    {
     "name": "stdout",
     "output_type": "stream",
     "text": [
      "2\n",
      "GCF\n",
      "ACDEB\n",
      "99437\n"
     ]
    }
   ],
   "source": [
    "# 단어 수학\n",
    "N = int(input())\n",
    "lst = []\n",
    "dic = {}\n",
    "\n",
    "for _ in range(N):\n",
    "    lst.append(input())\n",
    "\n",
    "for word in lst:  \n",
    "    num = len(word) - 1\n",
    "    \n",
    "    # 단어 순서대로 자릿수 맞추기\n",
    "    for c in word:\n",
    "        # 같은 단어가 다른 자리에 또 나왔을 경우\n",
    "        if c in dic:\n",
    "            dic[c] += (10 ** num)\n",
    "        else:\n",
    "            dic[c] = (10 ** num)\n",
    "            \n",
    "        num -= 1\n",
    "\n",
    "dic = sorted(dic.values(), reverse=True)\n",
    "        \n",
    "result, cnt = 0, 9\n",
    "\n",
    "for val in dic:\n",
    "    result += (val * cnt)\n",
    "    cnt -= 1\n",
    "\n",
    "print(result)"
   ]
  }
 ],
 "metadata": {
  "kernelspec": {
   "display_name": "Python 3",
   "language": "python",
   "name": "python3"
  },
  "language_info": {
   "codemirror_mode": {
    "name": "ipython",
    "version": 3
   },
   "file_extension": ".py",
   "mimetype": "text/x-python",
   "name": "python",
   "nbconvert_exporter": "python",
   "pygments_lexer": "ipython3",
   "version": "3.8.5"
  }
 },
 "nbformat": 4,
 "nbformat_minor": 4
}
