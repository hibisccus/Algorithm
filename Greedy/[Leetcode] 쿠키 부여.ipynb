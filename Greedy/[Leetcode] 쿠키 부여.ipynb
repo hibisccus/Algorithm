{
 "cells": [
  {
   "cell_type": "markdown",
   "metadata": {},
   "source": [
    "## 455. 쿠키 부여\n",
    "Leetcode link: [Assign Cookies](https://leetcode.com/problems/assign-cookies/)\n",
    "\n",
    "#### 문제\n",
    "\n",
    "    아이들에게 1개씩 쿠키를 나눠줘야 한다. 각 아이 child_i마다 그리드 팩터 g[i]를 갖고 있으며, 이는 아이가 만족하는 최소 쿠키의 크기를 말한다. 각 쿠키 cookie_j는 크기 s[j]를 갖고 있으며 s[j] >= g[i] 이어야 아이가 만족하며 쿠키를 받는다. 최대 몇 명의 아이들에게 쿠키를 줄 수 있는지 출력하라.\n",
    "   \n",
    "    Assume you are an awesome parent and want to give your children some cookies. But, you should give each child at most one cookie.\n",
    "    Each child_i has a greed factor g[i], which is the minimum size of a cookie that the child will be content with; and each cookie_j has a size s[j]. If s[j] >= g[i], we can assign the cookie j to the child i, and the child i will be content. \n",
    "    Your goal is to maximize the number of your content children and output the maximum number.\n",
    "    \n",
    "#### 입력 예시\n",
    "\n",
    "    Input: g = [1,2,3], s = [1,1]\n",
    "    \n",
    "#### 출력 예시\n",
    "       \n",
    "    Output: 1\n",
    "    \n",
    "#### 설명\n",
    "\n",
    "    두 번째 아이부터는 크기 2 이상의 쿠키가 필요하지만, 갖고 있는 최대 크기는 1이기 때문에 1명의 아이에게만 줄 수 있다."
   ]
  },
  {
   "cell_type": "markdown",
   "metadata": {},
   "source": [
    "#### 풀이\n",
    "\n",
    "    가지고 있는 쿠키가 아이가 만족하는 최소 쿠키의 크기보다 크거나 같아야 하며, 이 조건을 만족하면 크기에 상관없이 해당 쿠키를 아이에게 주어야 한다. 따라서 가지고 있는 쿠키와 아이가 만족하는 최소 쿠키의 리스트를 정렬한 후 하나씩 소거해가는 과정을 거치면 된다."
   ]
  },
  {
   "cell_type": "code",
   "execution_count": 7,
   "metadata": {},
   "outputs": [
    {
     "data": {
      "text/plain": [
       "1"
      ]
     },
     "execution_count": 7,
     "metadata": {},
     "output_type": "execute_result"
    }
   ],
   "source": [
    "# 쿠키 부여\n",
    "def findContentChildren(g: list, s: list) -> int: \n",
    "    g.sort(reverse=True)\n",
    "    s.sort(reverse=True) \n",
    "    count = 0\n",
    "\n",
    "    while True:\n",
    "        if not s or not g:\n",
    "            break\n",
    "        else:\n",
    "            cookie = s.pop()\n",
    "\n",
    "            if cookie >= g[-1]:\n",
    "                count += 1\n",
    "                g.pop()\n",
    "\n",
    "    return count\n",
    "            \n",
    "g = [1, 2, 3]\n",
    "s = [1, 1]\n",
    "\n",
    "findContentChildren(g, s)"
   ]
  }
 ],
 "metadata": {
  "kernelspec": {
   "display_name": "Python 3",
   "language": "python",
   "name": "python3"
  },
  "language_info": {
   "codemirror_mode": {
    "name": "ipython",
    "version": 3
   },
   "file_extension": ".py",
   "mimetype": "text/x-python",
   "name": "python",
   "nbconvert_exporter": "python",
   "pygments_lexer": "ipython3",
   "version": "3.8.5"
  }
 },
 "nbformat": 4,
 "nbformat_minor": 4
}
