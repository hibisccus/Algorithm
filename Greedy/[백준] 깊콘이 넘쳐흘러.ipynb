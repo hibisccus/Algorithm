{
 "cells": [
  {
   "cell_type": "markdown",
   "metadata": {},
   "source": [
    "## 17420. 깊콘이 넘쳐흘러\n",
    "Baekjoon link: [tons of gifticon](https://www.acmicpc.net/problem/17420)\n",
    "\n",
    "#### 문제\n",
    "\n",
    "    정우는 생일을 맞아 친구들에게 기프티콘을 N개 선물받았다. 어떤 기프티콘을 언제 쓸지 다 계획을 정해놨는데, 멍청한 정우는 기프티콘에 기한이 있다는 사실을 까맣게 잊고 있었다. 다행히 기프티콘에는 기한 연장 기능이 있다. 한 기프티콘을 한 번 연장할 때마다 기한이 30일씩 늘어난다.\n",
    "    \n",
    "    정우는 기프티콘의 기한 연장을 너무 귀찮아하기 때문에, 기한 연장을 최소한으로 하고 싶어한다. 그리고 정우는 강박증이 있어서, 남은 기프티콘 중 기한이 가장 적게 남은 기프티콘만 사용할 수 있다. 단, 기한이 가장 적게 남은 기프티콘이 여러 개라면 그 중 아무거나 선택할 수 있다. 하루에 여러 기프티콘을 사용하거나 연장하는 것 모두 가능하다.\n",
    "\n",
    "    최소 횟수로 기한 연장을 하면서 기프티콘을 다 쓸 수 있도록 정우를 도와주자.\n",
    "    \n",
    "#### 입력 조건\n",
    "\n",
    "    첫째 줄에 기프티콘의 수 N이 주어진다.\n",
    "\n",
    "    둘째 줄에 A1, A2, ..., AN가 주어진다. 이는 i번째 기프티콘의 남은 기한이 Ai일이라는 뜻이다.\n",
    "    \n",
    "    셋째 줄에 B1, B2, ..., BN가 주어진다. 이는 i번째 기프티콘을 Bi일 뒤에 사용할 계획이라는 뜻이다.\n",
    "    \n",
    "#### 출력 조건\n",
    "    \n",
    "    첫째 줄에 정우가 기한 연장을 해야 하는 최소 횟수를 출력한다.\n",
    "\n",
    "    정답이 32비트 정수를 넘을 수 있으므로 유의하라.\n",
    "    \n",
    "#### 제한 조건\n",
    "\n",
    "    1 ≤ N ≤ 100,000\n",
    "    1 ≤ A_{i} ≤ 1,000,000,000\n",
    "    1 ≤ B_{i} ≤ 1,000,000,000"
   ]
  },
  {
   "cell_type": "markdown",
   "metadata": {},
   "source": [
    "#### 입력 예시\n",
    "\n",
    "    3\n",
    "    10 5 4\n",
    "    10 100 30\n",
    "    \n",
    "#### 출력 예시\n",
    "    \n",
    "    5"
   ]
  },
  {
   "cell_type": "code",
   "execution_count": 1,
   "metadata": {},
   "outputs": [
    {
     "name": "stdout",
     "output_type": "stream",
     "text": [
      "3\n",
      "10 5 4\n",
      "10 100 30\n",
      "5\n"
     ]
    }
   ],
   "source": [
    "# 깊콘이 넘쳐흘러\n",
    "# 한 번 연장할 때 30일씩 연장되는 기프티콘을 모두 사용하기 위한 최소 연장 횟수를 구한다.\n",
    "N = int(input())\n",
    "# i번째 기프티콘의 남은 기한이 Ai일\n",
    "A = list(map(int, input().split()))\n",
    "# i번째 기프티콘을 Bi일 뒤에 사용할 계획\n",
    "B = list(map(int, input().split()))\n",
    "\n",
    "lst = []\n",
    "for i in range(N):\n",
    "    lst.append([A[i], B[i]])\n",
    "# Bi순 오름차순 정렬, 값이 같다면 Ai순 오름차순 정렬\n",
    "lst.sort(key=lambda x: (x[1], x[0]))\n",
    "\n",
    "# 이전 구간의 최댓값 -> 가장 빠른 기프티콘 사용 예정일 \n",
    "prev_max = lst[0][1]\n",
    "# 현재 구간의 최댓값\n",
    "cur_max = -1\n",
    "\n",
    "answer = 0\n",
    "for i in range(N):\n",
    "    # 남은 기한이 기프티콘 사용 예정일(이전 구간의 최댓값)보다 빠른 경우\n",
    "    if prev_max > lst[i][0]:\n",
    "        # 이전 최댓값보다 현재 기프티콘 사용 예정일이 큰 경우 (오름차순 정렬했으므로 작을리는 없고 같을 경우에 조건문 패스함)\n",
    "        if prev_max < lst[i][1]:\n",
    "            # 이전 구간의 최댓값 갱신\n",
    "            prev_max = lst[i][1]\n",
    "        \n",
    "        # 기프티콘 연장 횟수 계산\n",
    "        cnt = ((prev_max - lst[i][0]) + 29) // 30\n",
    "        # 연장하여 남은 기한 갱신\n",
    "        lst[i] = (lst[i][0] + (cnt * 30), lst[i][1])\n",
    "        \n",
    "        answer += cnt\n",
    "    \n",
    "    # 현재 구간의 최댓값 갱신\n",
    "    cur_max = max(cur_max, lst[i][0])\n",
    "    \n",
    "    # 다음 구간으로 넘어갈 때 이전 구간의 최댓값을 현재 구단의 최댓값으로 갱신\n",
    "    if (i + 1) < N and lst[i][1] != lst[i + 1][1]:\n",
    "        prev_max = cur_max\n",
    "        \n",
    "print(answer)        "
   ]
  }
 ],
 "metadata": {
  "kernelspec": {
   "display_name": "Python 3",
   "language": "python",
   "name": "python3"
  },
  "language_info": {
   "codemirror_mode": {
    "name": "ipython",
    "version": 3
   },
   "file_extension": ".py",
   "mimetype": "text/x-python",
   "name": "python",
   "nbconvert_exporter": "python",
   "pygments_lexer": "ipython3",
   "version": "3.8.5"
  }
 },
 "nbformat": 4,
 "nbformat_minor": 4
}
