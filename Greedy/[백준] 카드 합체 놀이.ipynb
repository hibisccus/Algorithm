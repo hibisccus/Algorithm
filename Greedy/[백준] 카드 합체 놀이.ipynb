{
 "cells": [
  {
   "cell_type": "markdown",
   "metadata": {},
   "source": [
    "## 15903. 카드 합체 놀이\n",
    "Baekjoon link: [card game](https://www.acmicpc.net/problem/15903)\n",
    "\n",
    "#### 문제\n",
    "\n",
    "    석환이는 아기다. 아기 석환이는 자연수가 쓰여져있는 카드를 갖고 다양한 놀이를 하며 노는 것을 좋아한다. 오늘 아기 석환이는 무슨 놀이를 하고 있을까? 바로 카드 합체 놀이이다!\n",
    "    아기 석환이는 자연수가 쓰여진 카드를 n장 갖고 있다. 처음에 i번 카드엔 ai가 쓰여있다. 카드 합체 놀이는 이 카드들을 합체하며 노는 놀이이다. 카드 합체는 다음과 같은 과정으로 이루어진다.\n",
    "\n",
    "        1. x번 카드와 y번 카드를 골라 그 두 장에 쓰여진 수를 더한 값을 계산한다. (x ≠ y)\n",
    "        2. 계산한 값을 x번 카드와 y번 카드 두 장 모두에 덮어 쓴다.\n",
    "        \n",
    "    이 카드 합체를 총 m번 하면 놀이가 끝난다. m번의 합체를 모두 끝낸 뒤, n장의 카드에 쓰여있는 수를 모두 더한 값이 이 놀이의 점수가 된다. 이 점수를 가장 작게 만드는 것이 놀이의 목표이다.\n",
    "    아기 석환이는 수학을 좋아하긴 하지만, 아직 아기이기 때문에 점수를 얼마나 작게 만들 수 있는지를 알 수는 없었다(어른 석환이는 당연히 쉽게 알 수 있다). 그래서 문제 해결 능력이 뛰어난 여러분에게 도움을 요청했다. 만들 수 있는 가장 작은 점수를 계산하는 프로그램을 만들어보자.\n",
    "    \n",
    "#### 입력 조건\n",
    "\n",
    "    첫 번째 줄에 카드의 개수를 나타내는 수 n(2 ≤ n ≤ 1,000)과 카드 합체를 몇 번 하는지를 나타내는 수 m(0 ≤ m ≤ 15×n)이 주어진다. 두 번째 줄에 맨 처음 카드의 상태를 나타내는 n개의 자연수 a1, a2, …, an이 공백으로 구분되어 주어진다. (1 ≤ ai ≤ 1,000,000)\n",
    "    \n",
    "#### 출력 조건\n",
    "    \n",
    "    첫 번째 줄에 만들 수 있는 가장 작은 점수를 출력한다."
   ]
  },
  {
   "cell_type": "markdown",
   "metadata": {},
   "source": [
    "#### 입력 예시\n",
    "\n",
    "    3 1\n",
    "    3 2 6\n",
    "    \n",
    "#### 출력 예시\n",
    "    \n",
    "    16"
   ]
  },
  {
   "cell_type": "code",
   "execution_count": 1,
   "metadata": {},
   "outputs": [
    {
     "name": "stdout",
     "output_type": "stream",
     "text": [
      "3 1\n",
      "3 2 6\n",
      "16\n"
     ]
    }
   ],
   "source": [
    "# 카드 합체 놀이\n",
    "\n",
    "import heapq\n",
    "\n",
    "N, M = map(int, input().split())\n",
    "A = list(map(int, input().split()))\n",
    "heapq.heapify(A)\n",
    "\n",
    "for _ in range(M):\n",
    "    x = heapq.heappop(A)\n",
    "    y = heapq.heappop(A)\n",
    "    \n",
    "    alt = x + y\n",
    "    heapq.heappush(A, alt)\n",
    "    heapq.heappush(A, alt)\n",
    "    \n",
    "print(sum(A))"
   ]
  }
 ],
 "metadata": {
  "kernelspec": {
   "display_name": "Python 3",
   "language": "python",
   "name": "python3"
  },
  "language_info": {
   "codemirror_mode": {
    "name": "ipython",
    "version": 3
   },
   "file_extension": ".py",
   "mimetype": "text/x-python",
   "name": "python",
   "nbconvert_exporter": "python",
   "pygments_lexer": "ipython3",
   "version": "3.8.5"
  }
 },
 "nbformat": 4,
 "nbformat_minor": 4
}
