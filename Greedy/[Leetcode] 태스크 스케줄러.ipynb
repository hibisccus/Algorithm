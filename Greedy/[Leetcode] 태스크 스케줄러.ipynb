{
 "cells": [
  {
   "cell_type": "markdown",
   "metadata": {},
   "source": [
    "## 621. 태스크 스케줄러\n",
    "Leetcode link: [Tesk Scheduler](https://leetcode.com/problems/task-scheduler/)\n",
    "\n",
    "#### 문제\n",
    "\n",
    "    A에서 Z로 표현된 태스크가 있다. 각 간격마다 CPU는 한 번의 태스크만 실행할 수 있고, n번의 간격 내에는 동일한 태스크를 실행할 수 없다.\n",
    "    더 이상 태스크를 실행할 수 없는 경우 idle 상태가 된다. 모든 태스크를 실행하기 위한 최소 간격을 출력하라.\n",
    "    \n",
    "    Given a characters array tasks, representing the tasks a CPU needs to do, where each letter represents a different task. Tasks could be done in any order. Each task is done in one unit of time. For each unit of time, the CPU could complete either one task or just be idle.\n",
    "    However, there is a non-negative integer n that represents the cooldown period between two same tasks (the same letter in the array), that is that there must be at least n units of time between any two same tasks.\n",
    "    Return the least number of units of times that the CPU will take to finish all the given tasks.\n",
    "    \n",
    "#### 입력 예시\n",
    "\n",
    "    Input: tasks = [\"A\",\"A\",\"A\",\"B\",\"B\",\"B\"], n = 2\n",
    "    \n",
    "#### 출력 예시\n",
    "       \n",
    "    Output: 8\n",
    "    \n",
    "#### 설명\n",
    "\n",
    "    키가 5인 사람이 가장 먼저 섰고, 앞에는 아무도 없다. 7인 사람이 뒤따르고, 그보다 키가 더 큰 사람은 아무도 없다.\n",
    "    5인 사람이 섰으며, 앞에 5, 7 두명이 자신보다 크거나 같다. 6인 사람의 앞에는 자신보다 큰 키 7인 사람 한 명이 있다.\n",
    "    4인 사람 앞에는 5, 7, 5, 6 네명이 있다. 마지막으로 7인 사람 앞에 자신보다 크거나 같은 이는 키가 7인 사람 한명이다."
   ]
  },
  {
   "cell_type": "markdown",
   "metadata": {},
   "source": [
    "#### 풀이\n",
    "\n",
    "    가장 많은 task의 개수인 max_val이 idle의 값을 결정할 수 있다. \n",
    "    \n",
    "    (max_value - 1) * (n + 1) + ties \n",
    "    \n",
    "    예를 들어 tasks = [A, B, C, D, A, B, C, D, A], n = 3의 경우 가장 많은 task는 A, 개수인 max_val은 3이 된다.\n",
    "    배치해보면 A _ _ _ A _ _ _ A 이 된다. 빈 칸에는 나머지 요소가 아무거나 들어가면 된다.\n",
    "    \n",
    "    각 줄로 나누어보면 아래와 같으며 두번째 줄까지의 식이 (max_val - 1) * (n + 1) 이 된다.\n",
    "    max_val - 1은 A의 개수, n + 1은 줄당 요소의 개수가 된다.\n",
    "    이후 나머지 세번째 줄은 가장 많은 task의 개수를 가지고 있는 요소만 배치되며, 이를 ties를 통해 이전 식에 더해준다.\n",
    "    A _ _ _\n",
    "    A _ _ _\n",
    "    A    \n",
    "    \n",
    "    예시를 하나만 들었으나, 많은 예시를 적어보고 식을 도출하는 것이 중요하다."
   ]
  },
  {
   "cell_type": "code",
   "execution_count": 10,
   "metadata": {},
   "outputs": [
    {
     "data": {
      "text/plain": [
       "8"
      ]
     },
     "execution_count": 10,
     "metadata": {},
     "output_type": "execute_result"
    }
   ],
   "source": [
    "def leastInterval(tasks: list, n: int) -> int:\n",
    "    values = list(Counter(tasks).values())\n",
    "    max_val = max(values)\n",
    "    ties = values.count(max_val)\n",
    "\n",
    "    return max((max_val - 1) * (n + 1) + ties, len(tasks))\n",
    "\n",
    "tasks = [\"A\", \"A\", \"A\", \"B\", \"B\", \"B\"]\n",
    "n = 2\n",
    "\n",
    "leastInterval(tasks, n)"
   ]
  }
 ],
 "metadata": {
  "kernelspec": {
   "display_name": "Python 3",
   "language": "python",
   "name": "python3"
  },
  "language_info": {
   "codemirror_mode": {
    "name": "ipython",
    "version": 3
   },
   "file_extension": ".py",
   "mimetype": "text/x-python",
   "name": "python",
   "nbconvert_exporter": "python",
   "pygments_lexer": "ipython3",
   "version": "3.8.5"
  }
 },
 "nbformat": 4,
 "nbformat_minor": 4
}
