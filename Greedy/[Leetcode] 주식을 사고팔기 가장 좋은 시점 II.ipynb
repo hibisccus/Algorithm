{
 "cells": [
  {
   "cell_type": "markdown",
   "metadata": {},
   "source": [
    "## 122. 주식을 사고팔기 가장 좋은 시점 II     \n",
    "Leetcode link: [Best Time to Buy and Sell Stock II](https://leetcode.com/problems/best-time-to-buy-and-sell-stock-ii/)\n",
    "\n",
    "#### 문제\n",
    "\n",
    "    여러 번의 거래로 낼 수 있는 최대 이익을 산출하라.\n",
    "    \n",
    "    You are given an integer array prices where prices[i] is the price of a given stock on the ith day.\n",
    "    On each day, you may decide to buy and/or sell the stock. You can only hold at most one share of the stock at any time. However, you can buy it then immediately sell it on the same day. Find and return the maximum profit you can achieve.\n",
    "    \n",
    "#### 입력 예시\n",
    "\n",
    "    Input: prices = [7,1,5,3,6,4]\n",
    "    \n",
    "#### 출력 예시\n",
    "    \n",
    "    Output: 7\n",
    "    \n",
    "#### 설명\n",
    "\n",
    "    1일 때 사서 5일 때 팔아 4의 이익을 얻고, 3일 때 사서 6일 때 팔아 3의 이익을 얻는다. 둘을 합하면 7이 된다."
   ]
  },
  {
   "cell_type": "markdown",
   "metadata": {},
   "source": [
    "#### 풀이\n",
    "\n",
    "    현재 값과 다음 값을 비교하여 다음 값이 현재 값보다 큰 경우 profit에 차액을 더하여 누적시킨다. "
   ]
  },
  {
   "cell_type": "code",
   "execution_count": 2,
   "metadata": {
    "scrolled": true
   },
   "outputs": [
    {
     "data": {
      "text/plain": [
       "7"
      ]
     },
     "execution_count": 2,
     "metadata": {},
     "output_type": "execute_result"
    }
   ],
   "source": [
    "def maxProfit(prices: list) -> int:     \n",
    "    profit = 0\n",
    "    \n",
    "    for i in range(1, len(prices)): \n",
    "        if prices[i] > prices[i - 1]: \n",
    "            profit += (prices[i] - prices[i - 1])\n",
    "            \n",
    "    return profit\n",
    "\n",
    "prices = [7, 1, 5, 3, 6, 4]\n",
    "\n",
    "maxProfit(prices)"
   ]
  }
 ],
 "metadata": {
  "kernelspec": {
   "display_name": "Python 3",
   "language": "python",
   "name": "python3"
  },
  "language_info": {
   "codemirror_mode": {
    "name": "ipython",
    "version": 3
   },
   "file_extension": ".py",
   "mimetype": "text/x-python",
   "name": "python",
   "nbconvert_exporter": "python",
   "pygments_lexer": "ipython3",
   "version": "3.8.5"
  }
 },
 "nbformat": 4,
 "nbformat_minor": 4
}
