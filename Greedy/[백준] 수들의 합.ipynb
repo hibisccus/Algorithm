{
 "cells": [
  {
   "cell_type": "markdown",
   "metadata": {},
   "source": [
    "## 1789. 수들의 합\n",
    "Baekjoon link: [sum of numbers](https://www.acmicpc.net/problem/1789)\n",
    "\n",
    "#### 문제\n",
    "\n",
    "    서로 다른 N개의 자연수의 합이 S라고 한다. S를 알 때, 자연수 N의 최댓값은 얼마일까?\n",
    "    \n",
    "#### 입력 조건\n",
    "\n",
    "    첫째 줄에 자연수 S(1 ≤ S ≤ 4,294,967,295)가 주어진다.\n",
    "    \n",
    "#### 출력 조건\n",
    "    \n",
    "    첫째 줄에 자연수 N의 최댓값을 출력한다."
   ]
  },
  {
   "cell_type": "markdown",
   "metadata": {},
   "source": [
    "#### 입력 예시\n",
    "\n",
    "    200\n",
    "    \n",
    "#### 출력 예시\n",
    "    \n",
    "    19"
   ]
  },
  {
   "cell_type": "code",
   "execution_count": 1,
   "metadata": {},
   "outputs": [
    {
     "name": "stdout",
     "output_type": "stream",
     "text": [
      "200\n",
      "19\n"
     ]
    }
   ],
   "source": [
    "# 수들의 합\n",
    "S = int(input())\n",
    "\n",
    "summ = 0\n",
    "answer = 0\n",
    "for i in range(1, S+1):\n",
    "    summ += i\n",
    "    answer += 1\n",
    "    if summ > S:\n",
    "        answer -= 1\n",
    "        break\n",
    "        \n",
    "print(answer)"
   ]
  }
 ],
 "metadata": {
  "kernelspec": {
   "display_name": "Python 3",
   "language": "python",
   "name": "python3"
  },
  "language_info": {
   "codemirror_mode": {
    "name": "ipython",
    "version": 3
   },
   "file_extension": ".py",
   "mimetype": "text/x-python",
   "name": "python",
   "nbconvert_exporter": "python",
   "pygments_lexer": "ipython3",
   "version": "3.8.5"
  }
 },
 "nbformat": 4,
 "nbformat_minor": 4
}
