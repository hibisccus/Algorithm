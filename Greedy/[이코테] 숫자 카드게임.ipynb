{
 "cells": [
  {
   "cell_type": "markdown",
   "id": "a45eb3be",
   "metadata": {},
   "source": [
    "## 숫자 카드게임\n",
    "\n",
    "#### 문제\n",
    "    숫자 카드 게임은 여러 개의 숫자 카드 중에서 가장 높은 숫자가 쓰인 카드 한 장을 뽑는 게임이다. \n",
    "    단, 게임의 룰을 지키며 카드를 뽑아야 하고 룰은 다음과 같다.\n",
    "        1. 숫자가 쓰인 카드들이 N x M 형태로 놓여 있다. 이때 N은 행의 개수를 의미하며, M은 열의 개수를 의미한다.\n",
    "        2. 먼저 뽑고자 하는 카드가 포함되어 있는 행을 선택한다.\n",
    "        3. 그다음 선택된 행에 포함된 카드들 중 가장 숫자가 낮은 카드를 뽑아야 한다.\n",
    "        4. 따라서 처음에 카드를 골라낼 행을 선택할 때, 이후에 해당 행에서 가장 숫자가 낮은 카드를 뽑을 것을 고려하여 최종적으로 \n",
    "           가장 높은 숫자의 카드를 뽑을 수 있도록 전략을 세워야 한다.\n",
    "           \n",
    "    카드들이 N x M 형태로 놓여 있을 때, 게임의 룰에 맞게 카드를 뽑는 프로그램을 만드시오.\n",
    "\n",
    "#### 입력 조건\n",
    "    첫째 줄에 숫자 카드들이 놓인 행의 개수 N과 열의 개수 M이 공백을 기준으로 하여 각각 자연수로 주어진다. (1 <= N, M <= 100)\n",
    "    둘째 줄부터 N개의 줄에 걸쳐 각 카드에 적힌 숫자가 주어진다. 각 숫자는 1 이상 10,000 이하의 자연수이다.\n",
    "\n",
    "#### 출력 조건\n",
    "    첫째 줄에 게임의 룰에 맞게 선택한 카드에 적힌 숫자를 출력한다."
   ]
  },
  {
   "cell_type": "markdown",
   "id": "ff553d7a",
   "metadata": {},
   "source": [
    "#### 입력 예시\n",
    "    In [1] 3 3\n",
    "           3 1 2\n",
    "           4 1 4\n",
    "           2 2 2\n",
    "    \n",
    "    In [2] 2 4\n",
    "           7 3 1 8\n",
    "           3 3 3 4\n",
    "    \n",
    "#### 출력 예시\n",
    "    Out [1] 2\n",
    "    \n",
    "    Out [2] 3"
   ]
  },
  {
   "cell_type": "markdown",
   "id": "ad94f1c2",
   "metadata": {},
   "source": [
    "#### 풀이\n",
    "    각각의 행을 입력받아 최솟값을 찾은 후 그 최솟값들 중 최댓값을 찾으면 된다."
   ]
  },
  {
   "cell_type": "code",
   "execution_count": 1,
   "id": "0cffa106",
   "metadata": {},
   "outputs": [
    {
     "name": "stdout",
     "output_type": "stream",
     "text": [
      "3 3\n",
      "3 1 2\n",
      "4 1 4\n",
      "2 2 2\n"
     ]
    },
    {
     "data": {
      "text/plain": [
       "2"
      ]
     },
     "execution_count": 1,
     "metadata": {},
     "output_type": "execute_result"
    }
   ],
   "source": [
    "def CardGame(N):\n",
    "    result = 0\n",
    "    \n",
    "    for n in range(N):\n",
    "        row = list(map(int, input().split()))\n",
    "        min_value = min(row)\n",
    "        result = max(result, min_value)\n",
    "    \n",
    "    return result    \n",
    "\n",
    "N, M = map(int, input().split())\n",
    "CardGame(N)"
   ]
  },
  {
   "cell_type": "code",
   "execution_count": 2,
   "id": "743dc6a3",
   "metadata": {},
   "outputs": [
    {
     "name": "stdout",
     "output_type": "stream",
     "text": [
      "2 4\n",
      "7 3 1 8\n",
      "3 3 3 4\n"
     ]
    },
    {
     "data": {
      "text/plain": [
       "3"
      ]
     },
     "execution_count": 2,
     "metadata": {},
     "output_type": "execute_result"
    }
   ],
   "source": [
    "N, M = map(int, input().split())\n",
    "CardGame(N)"
   ]
  },
  {
   "cell_type": "markdown",
   "id": "eb734e1a",
   "metadata": {},
   "source": [
    "#### 출처\n",
    "    이것이 취업을 위한 코딩 테스트다 with 파이썬"
   ]
  }
 ],
 "metadata": {
  "kernelspec": {
   "display_name": "Python 3",
   "language": "python",
   "name": "python3"
  },
  "language_info": {
   "codemirror_mode": {
    "name": "ipython",
    "version": 3
   },
   "file_extension": ".py",
   "mimetype": "text/x-python",
   "name": "python",
   "nbconvert_exporter": "python",
   "pygments_lexer": "ipython3",
   "version": "3.8.8"
  }
 },
 "nbformat": 4,
 "nbformat_minor": 5
}
