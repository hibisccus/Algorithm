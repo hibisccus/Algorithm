{
 "cells": [
  {
   "cell_type": "markdown",
   "metadata": {},
   "source": [
    "## 11047. 동전 0    \n",
    "Baekjoon link: [coin 0](https://www.acmicpc.net/problem/11047)\n",
    "\n",
    "#### 문제\n",
    "\n",
    "    준규가 가지고 있는 동전은 총 N종류이고, 각각의 동전을 매우 많이 가지고 있다.\n",
    "    동전을 적절히 사용해서 그 가치의 합을 K로 만들려고 한다. 이때 필요한 동전 개수의 최솟값을 구하는 프로그램을 작성하시오.\n",
    "    \n",
    "#### 입력 조건\n",
    "\n",
    "    첫째 줄에 N과 K가 주어진다. (1 ≤ N ≤ 10, 1 ≤ K ≤ 100,000,000)\n",
    "    둘째 줄부터 N개의 줄에 동전의 가치 Ai가 오름차순으로 주어진다. (1 ≤ Ai ≤ 1,000,000, A1 = 1, i ≥ 2인 경우에 Ai는 Ai-1의 배수)\n",
    "    \n",
    "#### 출력 조건\n",
    "    \n",
    "    첫째 줄에 K원을 만드는데 필요한 동전 개수의 최솟값을 출력한다."
   ]
  },
  {
   "cell_type": "markdown",
   "metadata": {},
   "source": [
    "#### 입력 예시\n",
    "\n",
    "    10 4200\n",
    "    1\n",
    "    5\n",
    "    10\n",
    "    50\n",
    "    100\n",
    "    500\n",
    "    1000\n",
    "    5000\n",
    "    10000\n",
    "    50000\n",
    "    \n",
    "#### 출력 예시\n",
    "    \n",
    "    6"
   ]
  },
  {
   "cell_type": "code",
   "execution_count": 2,
   "metadata": {},
   "outputs": [
    {
     "name": "stdout",
     "output_type": "stream",
     "text": [
      "10 4200\n",
      "1\n",
      "5\n",
      "10\n",
      "50\n",
      "100\n",
      "500\n",
      "1000\n",
      "5000\n",
      "10000\n",
      "50000\n",
      "6\n"
     ]
    }
   ],
   "source": [
    "# 동전 0\n",
    "\n",
    "N, K = map(int, input().split())\n",
    "lst = [int(input()) for _ in range(N)]\n",
    "# 동전 개수의 최솟값을 구하는 문제이기 때문에, 가장 큰 단위의 동전부터 개수를 매긴다.\n",
    "lst.sort(reverse=True)\n",
    "\n",
    "count = 0\n",
    "for i in lst:\n",
    "    # 현재 금액이 현재 단위의 동전의 액수보다 작은 경우 다음으로 넘어간다.\n",
    "    if i > K:\n",
    "        continue\n",
    "       \n",
    "    # 현재 단위의 동전을 최대한 사용할 수 있는 개수를 구하고, 현재 금액은 잔여 금액으로 변경해 준다.\n",
    "    alt = (K // i)\n",
    "    K -= alt * i\n",
    "    count += alt\n",
    "    \n",
    "    # 금액이 0이 되었을 경우 출력하고 종료한다.\n",
    "    if K == 0:\n",
    "        print(count)\n",
    "        break"
   ]
  }
 ],
 "metadata": {
  "kernelspec": {
   "display_name": "Python 3",
   "language": "python",
   "name": "python3"
  },
  "language_info": {
   "codemirror_mode": {
    "name": "ipython",
    "version": 3
   },
   "file_extension": ".py",
   "mimetype": "text/x-python",
   "name": "python",
   "nbconvert_exporter": "python",
   "pygments_lexer": "ipython3",
   "version": "3.8.5"
  }
 },
 "nbformat": 4,
 "nbformat_minor": 4
}
