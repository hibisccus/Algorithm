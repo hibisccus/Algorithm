{
 "cells": [
  {
   "cell_type": "markdown",
   "metadata": {},
   "source": [
    "## 1931. 회의실 배정   \n",
    "Baekjoon link: [meeting room](https://www.acmicpc.net/problem/1931)\n",
    "\n",
    "#### 문제\n",
    "\n",
    "    한 개의 회의실이 있는데 이를 사용하고자 하는 N개의 회의에 대하여 회의실 사용표를 만들려고 한다. 각 회의 I에 대해 시작시간과 끝나는 시간이 주어져 있고, 각 회의가 겹치지 않게 하면서 회의실을 사용할 수 있는 회의의 최대 개수를 찾아보자. 단, 회의는 한번 시작하면 중간에 중단될 수 없으며 한 회의가 끝나는 것과 동시에 다음 회의가 시작될 수 있다. 회의의 시작시간과 끝나는 시간이 같을 수도 있다. 이 경우에는 시작하자마자 끝나는 것으로 생각하면 된다.\n",
    "    \n",
    "#### 입력 조건\n",
    "\n",
    "    첫째 줄에 회의의 수 N(1 ≤ N ≤ 100,000)이 주어진다. 둘째 줄부터 N+1 줄까지 각 회의의 정보가 주어지는데 이것은 공백을 사이에 두고 회의의 시작시간과 끝나는 시간이 주어진다. 시작 시간과 끝나는 시간은 231-1보다 작거나 같은 자연수 또는 0이다.\n",
    "    \n",
    "#### 출력 조건\n",
    "    \n",
    "    첫째 줄에 최대 사용할 수 있는 회의의 최대 개수를 출력한다."
   ]
  },
  {
   "cell_type": "markdown",
   "metadata": {},
   "source": [
    "#### 입력 예시\n",
    "\n",
    "    11\n",
    "    1 4\n",
    "    3 5\n",
    "    0 6\n",
    "    5 7\n",
    "    3 8\n",
    "    5 9\n",
    "    6 10\n",
    "    8 11\n",
    "    8 12\n",
    "    2 13\n",
    "    12 14\n",
    "    \n",
    "#### 출력 예시\n",
    "    \n",
    "    4"
   ]
  },
  {
   "cell_type": "code",
   "execution_count": 1,
   "metadata": {},
   "outputs": [
    {
     "name": "stdout",
     "output_type": "stream",
     "text": [
      "11\n",
      "1 4\n",
      "3 5\n",
      "0 6\n",
      "5 7\n",
      "3 8\n",
      "5 9\n",
      "6 10\n",
      "8 11\n",
      "8 12\n",
      "2 13\n",
      "12 14\n",
      "4\n"
     ]
    }
   ],
   "source": [
    "# 회의실 배정\n",
    "\n",
    "N = int(input())\n",
    "lst = [list(map(int, input().split())) for _ in range(N)]\n",
    "# 회의가 끝나는 가장 빠른 시간이 회의를 최대한 많이 할 수 있다. 따라서 회의가 끝나는 시간을 기준으로 오름차순 정렬한다.\n",
    "lst.sort(key=lambda x: (x[1], x[0]))\n",
    "\n",
    "# 회의가 끝나는 시간을 저장한다.\n",
    "_, end = lst[0]\n",
    "count = 1\n",
    "    \n",
    "for i in range(1, N):\n",
    "    # 현재 회의가 시작하는 시간이 이전 회의가 끝나는 시간보다 빠른 경우 다음으로 넘어간다.\n",
    "    if lst[i][0] < end:\n",
    "        continue\n",
    "    \n",
    "    # 아닌 경우 끝나는 시간을 현재 회의가 끝나는 시간으로 변경해 주고 회의 개수를 하나 늘린다.\n",
    "    end = lst[i][1]\n",
    "    count += 1\n",
    "    \n",
    "print(count)"
   ]
  }
 ],
 "metadata": {
  "kernelspec": {
   "display_name": "Python 3",
   "language": "python",
   "name": "python3"
  },
  "language_info": {
   "codemirror_mode": {
    "name": "ipython",
    "version": 3
   },
   "file_extension": ".py",
   "mimetype": "text/x-python",
   "name": "python",
   "nbconvert_exporter": "python",
   "pygments_lexer": "ipython3",
   "version": "3.8.5"
  }
 },
 "nbformat": 4,
 "nbformat_minor": 4
}
