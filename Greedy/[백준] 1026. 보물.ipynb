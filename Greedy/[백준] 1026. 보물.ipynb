{
 "cells": [
  {
   "cell_type": "markdown",
   "metadata": {},
   "source": [
    "## 1026. 보물 \n",
    "Baekjoon link: [treasure](https://www.acmicpc.net/problem/1026)\n",
    "\n",
    "#### 문제\n",
    "\n",
    "    옛날 옛적에 수학이 항상 큰 골칫거리였던 나라가 있었다. 이 나라의 국왕 김지민은 다음과 같은 문제를 내고 큰 상금을 걸었다.\n",
    "    길이가 N인 정수 배열 A와 B가 있다. 다음과 같이 함수 S를 정의하자.\n",
    "    \n",
    "        S = A[0] × B[0] + ... + A[N-1] × B[N-1]\n",
    "\n",
    "    S의 값을 가장 작게 만들기 위해 A의 수를 재배열하자. 단, B에 있는 수는 재배열하면 안 된다.\n",
    "    S의 최솟값을 출력하는 프로그램을 작성하시오.\n",
    "    \n",
    "#### 입력 조건\n",
    "\n",
    "    첫째 줄에 N이 주어진다. 둘째 줄에는 A에 있는 N개의 수가 순서대로 주어지고, 셋째 줄에는 B에 있는 수가 순서대로 주어진다. N은 50보다 작거나 같은 자연수이고, A와 B의 각 원소는 100보다 작거나 같은 음이 아닌 정수이다.\n",
    "    \n",
    "#### 출력 조건\n",
    "    \n",
    "    첫째 줄에 S의 최솟값을 출력한다."
   ]
  },
  {
   "cell_type": "markdown",
   "metadata": {},
   "source": [
    "#### 입력 예시\n",
    "\n",
    "    5\n",
    "    1 1 1 6 0\n",
    "    2 7 8 3 1\n",
    "    \n",
    "#### 출력 예시\n",
    "    \n",
    "    18"
   ]
  },
  {
   "cell_type": "code",
   "execution_count": 1,
   "metadata": {},
   "outputs": [
    {
     "name": "stdout",
     "output_type": "stream",
     "text": [
      "5\n",
      "1 1 1 6 0\n",
      "2 7 8 3 1\n",
      "18\n"
     ]
    }
   ],
   "source": [
    "# 보물\n",
    "\n",
    "N = int(input())\n",
    "A = list(map(int, input().split()))\n",
    "B = list(map(int, input().split()))\n",
    "\n",
    "# 한쪽은 가장 큰 값, 한쪽은 가장 작은 값을 곱하여 더해주면 최종적으로 가장 작은 값 S가 나온다.\n",
    "# 따라서 리스트 하나는 오름차순, 하나는 내림차순으로 정렬한 뒤 계산한다.\n",
    "A.sort(reverse=True)\n",
    "B.sort()\n",
    "\n",
    "answer = 0\n",
    "for i in range(N):\n",
    "    answer += A[i] * B[i]\n",
    "    \n",
    "print(answer)"
   ]
  }
 ],
 "metadata": {
  "kernelspec": {
   "display_name": "Python 3",
   "language": "python",
   "name": "python3"
  },
  "language_info": {
   "codemirror_mode": {
    "name": "ipython",
    "version": 3
   },
   "file_extension": ".py",
   "mimetype": "text/x-python",
   "name": "python",
   "nbconvert_exporter": "python",
   "pygments_lexer": "ipython3",
   "version": "3.8.5"
  }
 },
 "nbformat": 4,
 "nbformat_minor": 4
}
