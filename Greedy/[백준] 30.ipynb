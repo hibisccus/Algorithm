{
 "cells": [
  {
   "cell_type": "markdown",
   "metadata": {},
   "source": [
    "## 10610. 30\n",
    "Baekjoon link: [30](https://www.acmicpc.net/problem/10610)\n",
    "\n",
    "#### 문제\n",
    "\n",
    "    어느 날, 미르코는 우연히 길거리에서 양수 N을 보았다. 미르코는 30이란 수를 존경하기 때문에, 그는 길거리에서 찾은 수에 포함된 숫자들을 섞어 30의 배수가 되는 가장 큰 수를 만들고 싶어한다.\n",
    "\n",
    "    미르코를 도와 그가 만들고 싶어하는 수를 계산하는 프로그램을 작성하라.\n",
    "    \n",
    "#### 입력 조건\n",
    "\n",
    "    N을 입력받는다. N는 최대 105개의 숫자로 구성되어 있으며, 0으로 시작하지 않는다.\n",
    "    \n",
    "#### 출력 조건\n",
    "    \n",
    "    미르코가 만들고 싶어하는 수가 존재한다면 그 수를 출력하라. 그 수가 존재하지 않는다면, -1을 출력하라."
   ]
  },
  {
   "cell_type": "markdown",
   "metadata": {},
   "source": [
    "#### 입력 예시\n",
    "\n",
    "    30\n",
    "    \n",
    "#### 출력 예시\n",
    "    \n",
    "    30"
   ]
  },
  {
   "cell_type": "code",
   "execution_count": 1,
   "metadata": {},
   "outputs": [
    {
     "name": "stdout",
     "output_type": "stream",
     "text": [
      "30\n",
      "30\n"
     ]
    }
   ],
   "source": [
    "# 30\n",
    "# 입력된 숫자를 조합하여 30의 배수가 되는 가장 큰 수를 만들기\n",
    "N = input()\n",
    "N = sorted(N, reverse=True)\n",
    "\n",
    "summ = 0\n",
    "# 입력된 숫자 중 0이 포함되어 있지 않은 경우\n",
    "if '0' not in N:\n",
    "    print(-1)\n",
    "else:\n",
    "    for i in N:\n",
    "        summ += int(i)\n",
    "    # 해당 수의 모든 자릿수의 합이 3의 배수인 경우\n",
    "    if summ % 3 == 0:\n",
    "        print(''.join(N))\n",
    "    else:\n",
    "        print(-1)"
   ]
  }
 ],
 "metadata": {
  "kernelspec": {
   "display_name": "Python 3",
   "language": "python",
   "name": "python3"
  },
  "language_info": {
   "codemirror_mode": {
    "name": "ipython",
    "version": 3
   },
   "file_extension": ".py",
   "mimetype": "text/x-python",
   "name": "python",
   "nbconvert_exporter": "python",
   "pygments_lexer": "ipython3",
   "version": "3.8.5"
  }
 },
 "nbformat": 4,
 "nbformat_minor": 4
}
