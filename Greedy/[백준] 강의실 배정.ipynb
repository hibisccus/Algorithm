{
 "cells": [
  {
   "cell_type": "markdown",
   "metadata": {},
   "source": [
    "## 11000. 강의실 배정\n",
    "Baekjoon link: [assign to classroom](https://www.acmicpc.net/problem/11000)\n",
    "\n",
    "#### 문제\n",
    "\n",
    "    수강신청의 마스터 김종혜 선생님에게 새로운 과제가 주어졌다. \n",
    "    김종혜 선생님한테는 Si에 시작해서 Ti에 끝나는 N개의 수업이 주어지는데, 최소의 강의실을 사용해서 모든 수업을 가능하게 해야 한다. \n",
    "    참고로, 수업이 끝난 직후에 다음 수업을 시작할 수 있다. (즉, Ti ≤ Sj 일 경우 i 수업과 j 수업은 같이 들을 수 있다.)\n",
    "    수강신청 대충한 게 찔리면, 선생님을 도와드리자!\n",
    "    \n",
    "#### 입력 조건\n",
    "\n",
    "    첫 번째 줄에 N이 주어진다. (1 ≤ N ≤ 200,000)\n",
    "    이후 N개의 줄에 Si, Ti가 주어진다. (0 ≤ Si < Ti ≤ 109)\n",
    "    \n",
    "#### 출력 조건\n",
    "    \n",
    "    강의실의 개수를 출력하라."
   ]
  },
  {
   "cell_type": "markdown",
   "metadata": {},
   "source": [
    "#### 입력 예시\n",
    "    \n",
    "    3\n",
    "    1 3\n",
    "    2 4\n",
    "    3 5\n",
    "    \n",
    "#### 출력 예시\n",
    "    \n",
    "    2"
   ]
  },
  {
   "cell_type": "code",
   "execution_count": 1,
   "metadata": {},
   "outputs": [
    {
     "name": "stdout",
     "output_type": "stream",
     "text": [
      "3\n",
      "1 3\n",
      "2 4\n",
      "3 5\n",
      "2\n"
     ]
    }
   ],
   "source": [
    "# 강의실 배정\n",
    "# 최소 힙 사용\n",
    "import heapq\n",
    "\n",
    "N = int(input())\n",
    "lst = [list(map(int, input().split())) for _ in range(N)]\n",
    "# 강의 시작 시간을 기준으로 오름차순 정렬\n",
    "lst.sort()\n",
    "\n",
    "# 가장 빨리 시작하는 강의가 끝나는 시간\n",
    "arr = [lst[0][1]]\n",
    "heapq.heapify(arr)\n",
    "\n",
    "for i in range(1, N):\n",
    "    # 강의가 끝나는 시간보다 다음 강의가 먼저 시작되는 경우\n",
    "    if arr[0] > lst[i][0]:\n",
    "        # 강의실을 하나 더 빌린다.\n",
    "        heapq.heappush(arr, lst[i][1])\n",
    "    else:\n",
    "        # 아닌 경우 현재 강의실에서 강의가 가능하므로 끝나는 시간만 갱신해준다.\n",
    "        heapq.heappop(arr)\n",
    "        heapq.heappush(arr, lst[i][1])\n",
    "        \n",
    "print(len(arr))"
   ]
  }
 ],
 "metadata": {
  "kernelspec": {
   "display_name": "Python 3",
   "language": "python",
   "name": "python3"
  },
  "language_info": {
   "codemirror_mode": {
    "name": "ipython",
    "version": 3
   },
   "file_extension": ".py",
   "mimetype": "text/x-python",
   "name": "python",
   "nbconvert_exporter": "python",
   "pygments_lexer": "ipython3",
   "version": "3.8.5"
  }
 },
 "nbformat": 4,
 "nbformat_minor": 4
}
