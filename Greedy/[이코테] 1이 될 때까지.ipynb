{
 "cells": [
  {
   "cell_type": "markdown",
   "id": "96ddd031",
   "metadata": {},
   "source": [
    "## 1이 될 때까지\n",
    "\n",
    "#### 문제\n",
    "    어떠한 수 N이 1이 될 때까지 다음의 두 과정 중 하나를 반복적으로 선택하여 수행하려고 한다.\n",
    "    단, 두 번째 연산은 N이 K로 나누어떨어질 때만 선택할 수 있다.\n",
    "        1. N에서 1을 뺀다.\n",
    "        2. N을 K로 나눈다.\n",
    "        \n",
    "    N과 K가 주어질 때 N이 1이 될 때까지 1번 혹은 2번 과정을 수행해야 하는 최소 횟수를 구하는 프로그램 작성하시오.\n",
    "    \n",
    "#### 입력 조건\n",
    "    첫째 줄에 N(2<=N<=100,000)과 K(2<=K<100,000)가 공백으로 구분되며 각각 자연수로 주어진다.\n",
    "    이때 입력으로 주어지는 N은 항상 K보다 크거나 같다.\n",
    "\n",
    "#### 출력 조건\n",
    "    첫째 줄에 N이 1이 될 때까지 1번 혹은 2번의 과정을 수행해야 하는 횟수의 최소값을 출력한다."
   ]
  },
  {
   "cell_type": "markdown",
   "id": "6bea0993",
   "metadata": {},
   "source": [
    "#### 입력 예시\n",
    "    In [1] 25 5\n",
    "    \n",
    "    In [2] 17 4\n",
    "    \n",
    "#### 출력 예시\n",
    "    Out [1] 2\n",
    "    \n",
    "    Out [2] 3"
   ]
  },
  {
   "cell_type": "markdown",
   "id": "f2d3b4d2",
   "metadata": {},
   "source": [
    "#### 풀이\n",
    "    N이 K로 나누어 질 때까지 N에 1을 빼면 되고, N이 1이 될 때까지 반복하면 된다."
   ]
  },
  {
   "cell_type": "code",
   "execution_count": 3,
   "id": "3af032ee",
   "metadata": {},
   "outputs": [
    {
     "name": "stdout",
     "output_type": "stream",
     "text": [
      "25 5\n"
     ]
    },
    {
     "data": {
      "text/plain": [
       "2"
      ]
     },
     "execution_count": 3,
     "metadata": {},
     "output_type": "execute_result"
    }
   ],
   "source": [
    "def UntilOne(N, K):\n",
    "    count = 0\n",
    "    \n",
    "    while N != 1:\n",
    "        if N % K == 0:\n",
    "            N //= K\n",
    "        else:\n",
    "            N -= 1\n",
    "        count += 1\n",
    "            \n",
    "    return count\n",
    "\n",
    "N, K = map(int, input().split())\n",
    "UntilOne(N, K)"
   ]
  },
  {
   "cell_type": "code",
   "execution_count": 4,
   "id": "4b47ba97",
   "metadata": {},
   "outputs": [
    {
     "name": "stdout",
     "output_type": "stream",
     "text": [
      "17 4\n"
     ]
    },
    {
     "data": {
      "text/plain": [
       "3"
      ]
     },
     "execution_count": 4,
     "metadata": {},
     "output_type": "execute_result"
    }
   ],
   "source": [
    "N, K = map(int, input().split())\n",
    "UntilOne(N, K)"
   ]
  },
  {
   "cell_type": "markdown",
   "id": "7d4abec5",
   "metadata": {},
   "source": [
    "#### 문제 참고\n",
    "    이것이 취업을 위한 코딩 테스트다 with 파이썬"
   ]
  }
 ],
 "metadata": {
  "kernelspec": {
   "display_name": "Python 3",
   "language": "python",
   "name": "python3"
  },
  "language_info": {
   "codemirror_mode": {
    "name": "ipython",
    "version": 3
   },
   "file_extension": ".py",
   "mimetype": "text/x-python",
   "name": "python",
   "nbconvert_exporter": "python",
   "pygments_lexer": "ipython3",
   "version": "3.8.8"
  }
 },
 "nbformat": 4,
 "nbformat_minor": 5
}
