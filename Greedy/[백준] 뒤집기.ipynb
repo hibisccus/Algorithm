{
 "cells": [
  {
   "cell_type": "markdown",
   "metadata": {},
   "source": [
    "## 1439. 뒤집기\n",
    "Baekjoon link: [flip](https://www.acmicpc.net/problem/1439)\n",
    "\n",
    "#### 문제\n",
    "\n",
    "    다솜이는 0과 1로만 이루어진 문자열 S를 가지고 있다. 다솜이는 이 문자열 S에 있는 모든 숫자를 전부 같게 만들려고 한다. 다솜이가 할 수 있는 행동은 S에서 연속된 하나 이상의 숫자를 잡고 모두 뒤집는 것이다. 뒤집는 것은 1을 0으로, 0을 1로 바꾸는 것을 의미한다.\n",
    "\n",
    "    예를 들어 S=0001100 일 때,\n",
    "        1. 전체를 뒤집으면 1110011이 된다.\n",
    "        2. 4번째 문자부터 5번째 문자까지 뒤집으면 1111111이 되어서 2번 만에 모두 같은 숫자로 만들 수 있다.\n",
    "        \n",
    "    하지만, 처음부터 4번째 문자부터 5번째 문자까지 문자를 뒤집으면 한 번에 0000000이 되어서 1번 만에 모두 같은 숫자로 만들 수 있다. 문자열 S가 주어졌을 때, 다솜이가 해야하는 행동의 최소 횟수를 출력하시오.\n",
    "    \n",
    "#### 입력 조건\n",
    "\n",
    "    첫째 줄에 문자열 S가 주어진다. S의 길이는 100만보다 작다.\n",
    "    \n",
    "#### 출력 조건\n",
    "    \n",
    "    첫째 줄에 다솜이가 해야하는 행동의 최소 횟수를 출력한다."
   ]
  },
  {
   "cell_type": "markdown",
   "metadata": {},
   "source": [
    "#### 입력 예시\n",
    "    \n",
    "    0001100\n",
    "    \n",
    "#### 출력 예시\n",
    "    \n",
    "    1"
   ]
  },
  {
   "cell_type": "code",
   "execution_count": 1,
   "metadata": {},
   "outputs": [
    {
     "name": "stdout",
     "output_type": "stream",
     "text": [
      "0001100\n",
      "1\n"
     ]
    }
   ],
   "source": [
    "# 뒤집기\n",
    "S = input()\n",
    "\n",
    "count = 0\n",
    "# 현재 값과 다음 인덱스의 값이 다른 경우 횟수를 1 증가시킨다.\n",
    "for i in range(len(S)-1):\n",
    "    if S[i] != S[i+1]:\n",
    "        count += 1\n",
    "\n",
    "# 예시\n",
    "# 0101 의 경우, count는 01 때 +1, 10때 +1, 01때 +1이 되어 3이 된다.\n",
    "# 이 문제의 경우 뒤집는 횟수를 최소로 만들어야 하기 때문에, 1이나 0을 뒤집어 0000 또는 1111을 만들어야 한다.\n",
    "# 따라서 count에 1을 더하고 2로 나눈 몫이 최소 횟수가 된다.\n",
    "print((count + 1) // 2)"
   ]
  }
 ],
 "metadata": {
  "kernelspec": {
   "display_name": "Python 3",
   "language": "python",
   "name": "python3"
  },
  "language_info": {
   "codemirror_mode": {
    "name": "ipython",
    "version": 3
   },
   "file_extension": ".py",
   "mimetype": "text/x-python",
   "name": "python",
   "nbconvert_exporter": "python",
   "pygments_lexer": "ipython3",
   "version": "3.8.5"
  }
 },
 "nbformat": 4,
 "nbformat_minor": 4
}
