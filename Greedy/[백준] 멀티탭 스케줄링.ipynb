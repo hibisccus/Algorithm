{
 "cells": [
  {
   "cell_type": "markdown",
   "metadata": {},
   "source": [
    "## 1700. 멀티탭 스케줄링\n",
    "Baekjoon link: [power strip scheduling](https://www.acmicpc.net/problem/11399)\n",
    "\n",
    "#### 문제\n",
    "\n",
    "    기숙사에서 살고 있는 준규는 한 개의 멀티탭을 이용하고 있다. 준규는 키보드, 헤어드라이기, 핸드폰 충전기, 디지털 카메라 충전기 등 여러 개의 전기용품을 사용하면서 어쩔 수 없이 각종 전기용품의 플러그를 뺐다 꽂았다 하는 불편함을 겪고 있다. 그래서 준규는 자신의 생활 패턴을 분석하여, 자기가 사용하고 있는 전기용품의 사용순서를 알아내었고, 이를 기반으로 플러그를 빼는 횟수를 최소화하는 방법을 고안하여 보다 쾌적한 생활환경을 만들려고 한다.\n",
    "\n",
    "    예를 들어 3 구(구멍이 세 개 달린) 멀티탭을 쓸 때, 전기용품의 사용 순서가 아래와 같이 주어진다면,\n",
    "\n",
    "        1. 키보드\n",
    "        2. 헤어드라이기\n",
    "        3. 핸드폰 충전기\n",
    "        4. 디지털 카메라 충전기\n",
    "        5. 키보드\n",
    "        6. 헤어드라이기\n",
    "        \n",
    "    키보드, 헤어드라이기, 핸드폰 충전기의 플러그를 순서대로 멀티탭에 꽂은 다음 디지털 카메라 충전기 플러그를 꽂기 전에 핸드폰충전기 플러그를 빼는 것이 최적일 것이므로 플러그는 한 번만 빼면 된다.\n",
    "    \n",
    "#### 입력 조건\n",
    "\n",
    "    첫 줄에는 멀티탭 구멍의 개수 N (1 ≤ N ≤ 100)과 전기 용품의 총 사용횟수 K (1 ≤ K ≤ 100)가 정수로 주어진다. 두 번째 줄에는 전기용품의 이름이 K 이하의 자연수로 사용 순서대로 주어진다. 각 줄의 모든 정수 사이는 공백문자로 구분되어 있다.\n",
    "    \n",
    "#### 출력 조건\n",
    "    \n",
    "    하나씩 플러그를 빼는 최소의 횟수를 출력하시오."
   ]
  },
  {
   "cell_type": "markdown",
   "metadata": {},
   "source": [
    "#### 입력 예시\n",
    "\n",
    "    2 7\n",
    "    2 3 2 3 1 2 7\n",
    "    \n",
    "#### 출력 예시\n",
    "    \n",
    "    2"
   ]
  },
  {
   "cell_type": "code",
   "execution_count": 12,
   "metadata": {},
   "outputs": [
    {
     "name": "stdout",
     "output_type": "stream",
     "text": [
      "2 7\n",
      "2 3 2 3 1 2 7\n",
      "2\n"
     ]
    }
   ],
   "source": [
    "# 멀티탭 스케줄링\n",
    "from collections import defaultdict\n",
    "\n",
    "N, K = map(int, input().split())\n",
    "prod = list(map(int, input().split()))\n",
    "\n",
    "dic = defaultdict(int)\n",
    "for i in prod:\n",
    "    dic[i] += 1\n",
    "    \n",
    "fuse = []\n",
    "count = 0\n",
    "# 전자제품의 사용 순서대로 탐색\n",
    "for idx, prod_num in enumerate(prod):\n",
    "    # 해당 전자제품이 이미 멀티탭에 꽂혀 있을 경우\n",
    "    if prod_num in fuse:\n",
    "        dic[prod_num] -= 1\n",
    "        continue\n",
    "    \n",
    "    # 멀티탭에 자리가 남아있을 경우\n",
    "    elif len(fuse) < N:\n",
    "        fuse.append(prod_num)\n",
    "        dic[prod_num] -= 1\n",
    "        continue    \n",
    "    \n",
    "    # 멀티탭에 자리가 없을 경우\n",
    "    else :\n",
    "        del_fuse_idx = 0\n",
    "        max_idx = 0\n",
    "        \n",
    "        # 현재 멀티탭에 꽂혀 있는 전자제품이 이후에도 사용되는지 탐색\n",
    "        for i, fuse_num in enumerate(fuse):\n",
    "            # 이후에 해당 제품을 사용하지 않는 경우\n",
    "            if dic[fuse_num] == 0:\n",
    "                del_fuse_idx = i\n",
    "                break\n",
    "                \n",
    "            # 이후에도 해당 제품을 사용하는 경우    \n",
    "            else:\n",
    "                # 멀티탭에 꽂혀 있는 전자제품 중 가장 나중에 사용하는 전자제품을 탐색\n",
    "                if prod[idx + 1:].index(fuse_num) > max_idx:\n",
    "                    del_fuse_idx = i\n",
    "                    max_idx = prod[idx + 1:].index(fuse_num)\n",
    "        \n",
    "        # 멀티탭 자리를 비우고 채워넣어줌           \n",
    "        del fuse[del_fuse_idx]\n",
    "        fuse.append(prod_num)\n",
    "        dic[prod_num] -= 1\n",
    "        count += 1\n",
    "        \n",
    "print(count)"
   ]
  }
 ],
 "metadata": {
  "kernelspec": {
   "display_name": "Python 3",
   "language": "python",
   "name": "python3"
  },
  "language_info": {
   "codemirror_mode": {
    "name": "ipython",
    "version": 3
   },
   "file_extension": ".py",
   "mimetype": "text/x-python",
   "name": "python",
   "nbconvert_exporter": "python",
   "pygments_lexer": "ipython3",
   "version": "3.8.5"
  }
 },
 "nbformat": 4,
 "nbformat_minor": 4
}
