{
 "cells": [
  {
   "cell_type": "markdown",
   "metadata": {},
   "source": [
    "## 15904. UCPC는 무엇의 약자일까? \n",
    "Baekjoon link: [UCPC](https://www.acmicpc.net/problem/15904)\n",
    "\n",
    "#### 문제\n",
    "\n",
    "    UCPC는 '전국 대학생 프로그래밍 대회 동아리 연합 여름 대회'의 줄임말로 알려져있다. 하지만 이 줄임말이 정확히 어떻게 구성되었는지는 아무도 모른다. UCPC 2018을 준비하던 ntopia는 여러 사람들에게 UCPC가 정확히 무엇의 줄임말인지 물어보았지만, 아무도 정확한 답을 제시해주지 못했다. ntopia가 들은 몇 가지 답을 아래에 적어보았다.\n",
    "\n",
    "        Union of Computer Programming Contest club contest\n",
    "        Union of Computer Programming contest Club contest\n",
    "        Union of Computer Programming contest club Contest\n",
    "        Union of Collegiate Programming Contest club contest\n",
    "        Union of Collegiate Programming contest Club contest\n",
    "        Union of Collegiate Programming contest club Contest\n",
    "        University Computer Programming Contest\n",
    "        University Computer Programming Club contest\n",
    "        University Computer Programming club Contest\n",
    "        University Collegiate Programming Contest\n",
    "        University CPC\n",
    "        ...\n",
    "        \n",
    "    ntopia는 이렇게 다양한 답을 듣고는 UCPC가 무엇의 약자인지는 아무도 모른다고 결론내렸다. 적당히 슥삭해서 UCPC를 남길 수 있으면 모두 UCPC의 약자인 것이다!\n",
    "\n",
    "    문자열이 주어지면 이 문자열을 적절히 축약해서 \"UCPC\"로 만들 수 있는지 확인하는 프로그램을 만들어보자.\n",
    "\n",
    "    축약이라는 것은 문자열에서 임의의 문자들을 제거하는 행동을 뜻한다. 예를 들면, \"apple\"에서 a와 e를 지워 \"ppl\"로 만들 수 있고, \"University Computer Programming Contest\"에서 공백과 소문자를 모두 지워 \"UCPC\"로 만들 수 있다.\n",
    "    \n",
    "    문자열을 비교할 때는 대소문자를 구분해 정확히 비교한다. 예를 들어 \"UCPC\"와 \"UCpC\"는 다른 문자열이다. 따라서 \"University Computer programming Contest\"를 \"UCPC\"로 축약할 수 있는 방법은 없다.\n",
    "    \n",
    "#### 입력 조건\n",
    "\n",
    "    첫 번째 줄에 알파벳 대소문자, 공백으로 구성된 문자열이 주어진다. 문자열의 길이는 최대 1,000자이다. 문자열의 맨 앞과 맨 끝에 공백이 있는 경우는 없고, 공백이 연속해서 2번 이상 주어지는 경우도 없다.\n",
    "    \n",
    "#### 출력 조건\n",
    "    \n",
    "    첫 번째 줄에 입력으로 주어진 문자열을 적절히 축약해 \"UCPC\"로 만들 수 있으면 \"I love UCPC\"를 출력하고, 만들 수 없으면 \"I hate UCPC\"를 출력한다."
   ]
  },
  {
   "cell_type": "markdown",
   "metadata": {},
   "source": [
    "#### 입력 예시\n",
    "\n",
    "    Union of Computer Programming Contest club contest\n",
    "    \n",
    "#### 출력 예시\n",
    "    \n",
    "    I love UCPC"
   ]
  },
  {
   "cell_type": "code",
   "execution_count": 4,
   "metadata": {},
   "outputs": [
    {
     "name": "stdout",
     "output_type": "stream",
     "text": [
      "Union of Computer Programming Contest club contest\n",
      "I love UCPC\n"
     ]
    }
   ],
   "source": [
    "# UCPC는 무엇의 약자일까?\n",
    "# 문제가 설명이 모자라다고 생각..\n",
    "# 대문자 U, C, P, C가 해당 순서대로 배치되어 있으면 된다. \n",
    "# 해당 4단어 중간에 어떤 문자가 있든 상관 없이 해당 순서대로만 배치되어 있으면 정답\n",
    "\n",
    "# 예시\n",
    "# USCKPC -> I love UCPC\n",
    "\n",
    "import re\n",
    "\n",
    "S = input()\n",
    "# 소문자는 볼 필요가 없으니 제거\n",
    "S = re.sub(r\"[a-z]\", \"\", S)\n",
    "\n",
    "alpha = [\"U\", \"C\", \"P\", \"C\"]\n",
    "cnt = 0\n",
    "for a in alpha:\n",
    "    if a in S:\n",
    "        S = S[S.index(a) + 1:]\n",
    "        cnt += 1\n",
    "    else:\n",
    "        print(\"I hate UCPC\")\n",
    "        break\n",
    "        \n",
    "if cnt == 4:\n",
    "    print(\"I love UCPC\")"
   ]
  }
 ],
 "metadata": {
  "kernelspec": {
   "display_name": "Python 3",
   "language": "python",
   "name": "python3"
  },
  "language_info": {
   "codemirror_mode": {
    "name": "ipython",
    "version": 3
   },
   "file_extension": ".py",
   "mimetype": "text/x-python",
   "name": "python",
   "nbconvert_exporter": "python",
   "pygments_lexer": "ipython3",
   "version": "3.8.5"
  }
 },
 "nbformat": 4,
 "nbformat_minor": 4
}
