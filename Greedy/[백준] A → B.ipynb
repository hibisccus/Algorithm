{
 "cells": [
  {
   "cell_type": "markdown",
   "metadata": {},
   "source": [
    "## 16953. A → B\n",
    "Baekjoon link: [A->B](https://www.acmicpc.net/problem/16953)\n",
    "\n",
    "#### 문제\n",
    "\n",
    "    정수 A를 B로 바꾸려고 한다. 가능한 연산은 다음과 같은 두 가지이다.\n",
    "\n",
    "        2를 곱한다.\n",
    "        1을 수의 가장 오른쪽에 추가한다. \n",
    "        \n",
    "    A를 B로 바꾸는데 필요한 연산의 최솟값을 구해보자.\n",
    "    \n",
    "#### 입력 조건\n",
    "\n",
    "    첫째 줄에 A, B (1 ≤ A < B ≤ 109)가 주어진다.\n",
    "    \n",
    "#### 출력 조건\n",
    "    \n",
    "    A를 B로 바꾸는데 필요한 연산의 최솟값에 1을 더한 값을 출력한다. 만들 수 없는 경우에는 -1을 출력한다."
   ]
  },
  {
   "cell_type": "markdown",
   "metadata": {},
   "source": [
    "#### 입력 예시\n",
    "\n",
    "    2 162\n",
    "    \n",
    "#### 출력 예시\n",
    "    \n",
    "    5"
   ]
  },
  {
   "cell_type": "code",
   "execution_count": 1,
   "metadata": {},
   "outputs": [
    {
     "name": "stdout",
     "output_type": "stream",
     "text": [
      "2 162\n",
      "5\n"
     ]
    }
   ],
   "source": [
    "# A -> B\n",
    "A, B = map(int, input().split())\n",
    "\n",
    "cnt = 1\n",
    "while A != B:\n",
    "    tmp = B\n",
    "    cnt += 1\n",
    "    # 현재 B의 가장 오른쪽 수가 1일 경우\n",
    "    if B % 10 == 1:\n",
    "        B //= 10\n",
    "    # 현재 B가 2의 배수일 경우\n",
    "    elif B % 2 == 0:\n",
    "        B //= 2\n",
    "        \n",
    "    if tmp == B:\n",
    "        print(-1)\n",
    "        break\n",
    "        \n",
    "else:\n",
    "    print(cnt)"
   ]
  }
 ],
 "metadata": {
  "kernelspec": {
   "display_name": "Python 3",
   "language": "python",
   "name": "python3"
  },
  "language_info": {
   "codemirror_mode": {
    "name": "ipython",
    "version": 3
   },
   "file_extension": ".py",
   "mimetype": "text/x-python",
   "name": "python",
   "nbconvert_exporter": "python",
   "pygments_lexer": "ipython3",
   "version": "3.8.5"
  }
 },
 "nbformat": 4,
 "nbformat_minor": 4
}
