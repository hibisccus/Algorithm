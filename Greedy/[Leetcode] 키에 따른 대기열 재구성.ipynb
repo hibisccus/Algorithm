{
 "cells": [
  {
   "cell_type": "markdown",
   "metadata": {},
   "source": [
    "## 406. 키에 따른 대기열 재구성\n",
    "Leetcode link: [Queue Reconstruction by Height](https://leetcode.com/problems/queue-reconstruction-by-height/)\n",
    "\n",
    "#### 문제\n",
    "\n",
    "    여러 명의 사람들이 줄을 서 있다. 각각의 사람은 (h, k)의 두 정수 쌍을 갖는데, h는 그 사람의 키, k는 앞에 줄 서있는\n",
    "    사람들 중 자신의 키 이상인 사람들의 수를 뜻한다. 이 값이 올바르도록 줄을 재정렬하는 알고리즘을 작성하라.\n",
    "    \n",
    "    You are given an integer array prices where prices[i] is the price of a given stock on the ith day.\n",
    "    On each day, you may decide to buy and/or sell the stock. You can only hold at most one share of the stock at any time. However, you can buy it then immediately sell it on the same day. Find and return the maximum profit you can achieve.\n",
    "    \n",
    "#### 입력 예시\n",
    "\n",
    "    Input: people = [[7,0],[4,4],[7,1],[5,0],[6,1],[5,2]]\n",
    "    \n",
    "#### 출력 예시\n",
    "    \n",
    "    Output: [[5,0],[7,0],[5,2],[6,1],[4,4],[7,1]]\n",
    "    \n",
    "#### 설명\n",
    "\n",
    "    키가 5인 사람이 가장 먼저 섰고, 앞에는 아무도 없다. 7인 사람이 뒤따르고, 그보다 키가 더 큰 사람은 아무도 없다.\n",
    "    5인 사람이 섰으며, 앞에 5, 7 두명이 자신보다 크거나 같다. 6인 사람의 앞에는 자신보다 큰 키 7인 사람 한 명이 있다.\n",
    "    4인 사람 앞에는 5, 7, 5, 6 네명이 있다. 마지막으로 7인 사람 앞에 자신보다 크거나 같은 이는 키가 7인 사람 한명이다."
   ]
  },
  {
   "cell_type": "markdown",
   "metadata": {},
   "source": [
    "#### 풀이\n",
    "    키를 기준으로 내림차순 정렬 -> 이후 하나씩 인덱스를 기준으로 리스트에 삽입\n",
    "    .insert()는 비교값이 같은 값일 경우 나중에 삽입되는 값이 앞으로 온다."
   ]
  },
  {
   "cell_type": "code",
   "execution_count": 2,
   "metadata": {},
   "outputs": [
    {
     "data": {
      "text/plain": [
       "[[5, 0], [7, 0], [5, 2], [6, 1], [4, 4], [7, 1]]"
      ]
     },
     "execution_count": 2,
     "metadata": {},
     "output_type": "execute_result"
    }
   ],
   "source": [
    "def reconstructQueue(people: list) -> list:\n",
    "    queue = []\n",
    "    \n",
    "    people.sort(key=lambda x:(-x[0], x[1]))\n",
    "    for person in people:\n",
    "        queue.insert(person[1], person)\n",
    "        \n",
    "    return queue\n",
    "\n",
    "people = [[7,0],[4,4],[7,1],[5,0],[6,1],[5,2]]\n",
    "\n",
    "reconstructQueue(people)"
   ]
  }
 ],
 "metadata": {
  "kernelspec": {
   "display_name": "Python 3",
   "language": "python",
   "name": "python3"
  },
  "language_info": {
   "codemirror_mode": {
    "name": "ipython",
    "version": 3
   },
   "file_extension": ".py",
   "mimetype": "text/x-python",
   "name": "python",
   "nbconvert_exporter": "python",
   "pygments_lexer": "ipython3",
   "version": "3.8.5"
  }
 },
 "nbformat": 4,
 "nbformat_minor": 4
}
