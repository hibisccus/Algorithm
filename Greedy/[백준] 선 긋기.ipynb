{
 "cells": [
  {
   "cell_type": "markdown",
   "metadata": {},
   "source": [
    "## 2170. 선 긋기\n",
    "Baekjoon link: [drawing line](https://www.acmicpc.net/problem/2170)\n",
    "\n",
    "#### 문제\n",
    "\n",
    "    매우 큰 도화지에 자를 대고 선을 그으려고 한다. 선을 그을 때에는 자의 한 점에서 다른 한 점까지 긋게 된다. 선을 그을 때에는 이미 선이 있는 위치에 겹쳐서 그릴 수도 있는데, 여러 번 그은 곳과 한 번 그은 곳의 차이를 구별할 수 없다고 하자.\n",
    "    이와 같은 식으로 선을 그었을 때, 그려진 선(들)의 총 길이를 구하는 프로그램을 작성하시오. 선이 여러 번 그려진 곳은 한 번씩만 계산한다..\n",
    "    \n",
    "#### 입력 조건\n",
    "\n",
    "    첫째 줄에 선을 그은 횟수 N (1 ≤ N ≤ 1,000,000)이 주어진다. 다음 N개의 줄에는 선을 그을 때 선택한 두 점의 위치 x, y (-1,000,000,000 ≤ x < y ≤ 1,000,000,000)가 주어진다.\n",
    "    \n",
    "#### 출력 조건\n",
    "    \n",
    "    첫째 줄에 각 사람이 돈을 인출하는데 필요한 시간의 합의 최솟값을 출력한다."
   ]
  },
  {
   "cell_type": "markdown",
   "metadata": {},
   "source": [
    "#### 입력 예시\n",
    "\n",
    "    4\n",
    "    1 3\n",
    "    2 5\n",
    "    3 5\n",
    "    6 7\n",
    "    \n",
    "#### 출력 예시\n",
    "    \n",
    "    5"
   ]
  },
  {
   "cell_type": "code",
   "execution_count": 1,
   "metadata": {},
   "outputs": [
    {
     "name": "stdout",
     "output_type": "stream",
     "text": [
      "4\n",
      "1 3\n",
      "2 5\n",
      "3 5\n",
      "6 7\n",
      "5\n"
     ]
    }
   ],
   "source": [
    "# 선 긋기\n",
    "\n",
    "N = int(input())\n",
    "lst = [list(map(int, input().split())) for _ in range(N)]\n",
    "# 시작점이 가장 작은 선부터 오름차순 정렬\n",
    "lst.sort()\n",
    "\n",
    "# 시작점이 가장 작은 선의 두 점\n",
    "start, end = lst[0]\n",
    "\n",
    "answer = 0\n",
    "for i in range(1, N):\n",
    "    # 현재 인덱스의 선의 시작점이 이전의 끝점보다 작은 경우\n",
    "    if lst[i][0] < end:\n",
    "        # 현재 인덱스의 선의 끝점이 이전의 끝점보다 작은 경우\n",
    "        # 현재 선이 이전의 선에 완전히 포함되는 경우이므로 아무것도 하지 않는다.\n",
    "        if lst[i][1] < end:\n",
    "            continue\n",
    "        else:\n",
    "            # 현재 인덱스의 선의 끝점이 이전의 끝점보다 작은 경우\n",
    "            # 선의 일부가 겹치는 경우이므로 끝점 갱신\n",
    "            end = lst[i][1]            \n",
    "    # 아닌 경우 (이전과 완전히 독립적인 또다른 선)\n",
    "    # 오름차순으로 정렬이 되어있는 상태고 겹치지 않는다면 이후 겹치는 선은 현재 선과 비교한다.\n",
    "    # 이전의 선은 길이를 계산한다.\n",
    "    else:\n",
    "        answer += (end - start)\n",
    "        start = lst[i][0]\n",
    "        end = lst[i][1]\n",
    "        \n",
    "answer += (end - start)       \n",
    "print(answer)"
   ]
  }
 ],
 "metadata": {
  "kernelspec": {
   "display_name": "Python 3",
   "language": "python",
   "name": "python3"
  },
  "language_info": {
   "codemirror_mode": {
    "name": "ipython",
    "version": 3
   },
   "file_extension": ".py",
   "mimetype": "text/x-python",
   "name": "python",
   "nbconvert_exporter": "python",
   "pygments_lexer": "ipython3",
   "version": "3.8.5"
  }
 },
 "nbformat": 4,
 "nbformat_minor": 4
}
