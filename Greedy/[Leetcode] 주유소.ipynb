{
 "cells": [
  {
   "cell_type": "markdown",
   "metadata": {},
   "source": [
    "## 134. 주유소\n",
    "Leetcode link: [Gas Station](https://leetcode.com/problems/gas-station/)\n",
    "\n",
    "#### 문제\n",
    "\n",
    "    원형으로 경로가 연결된 주유소 목록이 있다. 각 주유소는 gas[i]만큼의 기름을 갖고 있으며, 다음 주유소로 이동하는데 cost[i]가 필요하다.\n",
    "    기름이 부족하면 이동할 수 없다고 할 때 모든 주유소를 방문할 수 있는 출발점의 인덱스를 출력하라. \n",
    "    해가 없을 경우 -1을 출력하고, 해가 있을 경우 해를 출력하며 그 해가 유일해가 됨을 보장한다.\n",
    "   \n",
    "    There are n gas stations along a circular route, where the amount of gas at the ith station is gas[i].\n",
    "    You have a car with an unlimited gas tank and it costs cost[i] of gas to travel from the ith station to its next (i + 1)th station. You begin the journey with an empty tank at one of the gas stations.\n",
    "    Given two integer arrays gas and cost, return the starting gas station's index if you can travel around the circuit once in the clockwise direction, otherwise return -1. If there exists a solution, it is guaranteed to be unique\n",
    "    \n",
    "#### 입력 예시\n",
    "\n",
    "    Input: gas = [1, 2, 3, 4, 5], cost = [3, 4, 5, 1, 2]\n",
    "    \n",
    "#### 출력 예시\n",
    "       \n",
    "    Output: 3\n",
    "    \n",
    "#### 설명\n",
    "\n",
    "    3번 인덱스(기름을 4만큼 충전할 수 있는)에서 출발할 경우는 다음과 같다.\n",
    "    \n",
    "    3번 -> 4번 +4 -1 fuel 3\n",
    "    4번 -> 0번 +5 -2 fuel 6\n",
    "    0번 -> 1번 +1 -3 fuel 4\n",
    "    1번 -> 2번 +2 -4 fuel 2\n",
    "    2번 -> 3번 +3 -5 fuel 0\n",
    "    \n",
    "    정확하게 기름이 0까지 소모되며, 모든 주유소를 방문할 수 있다."
   ]
  },
  {
   "cell_type": "markdown",
   "metadata": {},
   "source": [
    "#### 풀이\n",
    "\n",
    "    유일해가 보장되는 문제이므로, 소모되는 기름의 합이 충전되는 기름의 합보다 많을 경우 해가 없다.\n",
    "    이후 순차적으로 접근하여, 출발이 불가능한 지점(충전되는 기름의 양 < 소모되는 기름의 양)을 판별하여 제외시킨다."
   ]
  },
  {
   "cell_type": "code",
   "execution_count": 1,
   "metadata": {},
   "outputs": [
    {
     "data": {
      "text/plain": [
       "3"
      ]
     },
     "execution_count": 1,
     "metadata": {},
     "output_type": "execute_result"
    }
   ],
   "source": [
    "def canCompleteCircuit(gas: list, cost: list) -> int:\n",
    "    if sum(gas) < sum(cost):\n",
    "        return -1\n",
    "    \n",
    "    start, fuel = 0, 0\n",
    "    for i in range(len(gas)):\n",
    "        if gas[i] + fuel < cost[i]:\n",
    "            start = i + 1\n",
    "            fuel = 0\n",
    "        else:\n",
    "            fuel += gas[i] - cost[i]\n",
    "            \n",
    "    return start\n",
    "    \n",
    "\n",
    "gas = [1, 2, 3, 4, 5]\n",
    "cost = [3, 4, 5, 1, 2]\n",
    "\n",
    "canCompleteCircuit(gas, cost)"
   ]
  }
 ],
 "metadata": {
  "kernelspec": {
   "display_name": "Python 3",
   "language": "python",
   "name": "python3"
  },
  "language_info": {
   "codemirror_mode": {
    "name": "ipython",
    "version": 3
   },
   "file_extension": ".py",
   "mimetype": "text/x-python",
   "name": "python",
   "nbconvert_exporter": "python",
   "pygments_lexer": "ipython3",
   "version": "3.8.5"
  }
 },
 "nbformat": 4,
 "nbformat_minor": 4
}
