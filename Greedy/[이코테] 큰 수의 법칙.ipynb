{
 "cells": [
  {
   "cell_type": "markdown",
   "id": "ea0e4f67",
   "metadata": {},
   "source": [
    "## 큰 수의 법칙\n",
    "\n",
    "#### 문제\n",
    "    동빈이의 큰 수의 법칙은 다양한 수로 이루어진 배열이 있을 때 주어진 수들을 M번 더하여 가장 큰 수를 만드는 법칙이다.\n",
    "    단, 배열의 특정한 인덱스(번호)에 해당하는 수가 연속해서 K번을 초과하여 더해질 수 없다.\n",
    "    \n",
    "    예를 들어 순서대로 2, 4, 5, 4, 6으로 이루어진 배열이 있을 때 M이 8이고, K가 3이라고 가정하자.\n",
    "    이 경우 특정한 인덱스의 수가 연속해서 세번까지만 더해질 수 있으므로 큰 수의 법칙에 따라 6 + 6 + 6 + 5 + 6 + 6 + 6 + 5 = 46이 된다.\n",
    "    단, 서로 다른 인덱스에 해당하는 수가 같은 경우에도 서로 다른 것으로 간주한다.\n",
    "    \n",
    "    예를 들어 순서대로 3, 4, 3, 4, 3으로 이루어진 배열이 있을 때 M이 7이고, K가 2라고 가정하자.\n",
    "    이 경우 두 번째 원소에 해당하는 4와 네 번째 원소에 해당하는 4를 번갈아 두 번씩 더하는 것이가능하다.\n",
    "    결과적으로 4 + 4 + 4 + 4 + 4 + 4 + 4 + 4인 28이 도출된다.\n",
    "    \n",
    "    배열의 크기 N, 숫자가 더해지는 횟수 M, 그리고 K가 주어질 때 동빈이의 큰 수의 법칙에 따른 결과를 출력하시오.\n",
    "    \n",
    "#### 입력 조건\n",
    "    첫째 줄에 N(2 <= N <= 1,000), M(1 <= M <= 10,000), K(1 <= K <= 10,000)의 자연수가 주어지며, 각 자연수는 공백으로 구분한다.\n",
    "    둘째 줄에 N개의 자연수가 주어진다. 각 자연수는 공백으로 구분한다. 단, 각각의 자연수는 1 이상 10,000 이하의 수로 주어진다.\n",
    "    입력으로 주어지는 K는 항상 M보다 작거나 같다.\n",
    "    \n",
    "#### 출력 조건\n",
    "    첫째 줄에 동빈이의 큰 수의 법칙에 따라 더해진 답을 출력한다."
   ]
  },
  {
   "cell_type": "markdown",
   "id": "ead067ec",
   "metadata": {},
   "source": [
    "#### 입력 예시\n",
    "    In [1] 5 8 3\n",
    "           2 4 5 4 6\n",
    "    \n",
    "    In [2] 5 7 2\n",
    "           3 4 3 4 3\n",
    "    \n",
    "#### 출력 예시\n",
    "    Out [1] 46\n",
    "    \n",
    "    Out [2] 28"
   ]
  },
  {
   "cell_type": "markdown",
   "id": "d7778be8",
   "metadata": {},
   "source": [
    "#### 풀이\n",
    "    일정한 수열의 반복 (K개의 가장 큰 수 + 1개의 두번째로 큰 수)\n",
    "    숫자가 더해지는 횟수인 M과, 수열 안 숫자의 개수인 K+1을 나눈 몫은 수열에 곱하고,\n",
    "    나머지는 가장 큰 수에 곱해서 더해주면 된다."
   ]
  },
  {
   "cell_type": "code",
   "execution_count": 3,
   "id": "04e4b79b",
   "metadata": {},
   "outputs": [
    {
     "name": "stdout",
     "output_type": "stream",
     "text": [
      "5 8 3\n",
      "2 4 5 4 6\n"
     ]
    },
    {
     "data": {
      "text/plain": [
       "46"
      ]
     },
     "execution_count": 3,
     "metadata": {},
     "output_type": "execute_result"
    }
   ],
   "source": [
    "def RuleOfBigNum(M: int, K: int, lst: list) -> int:\n",
    "    lst.sort()\n",
    "    \n",
    "    first = lst[-1]\n",
    "    second = lst[-2]\n",
    "    \n",
    "    result = (M // (K+1)) * (K * first + second)\n",
    "    result += (M % (K+1)) * first\n",
    "    \n",
    "    return result    \n",
    "    \n",
    "N, M, K = map(int, input().split())\n",
    "lst = list(map(int, input().split()))\n",
    "\n",
    "RuleOfBigNum(M, K, lst)"
   ]
  },
  {
   "cell_type": "code",
   "execution_count": 4,
   "id": "97b81f27",
   "metadata": {},
   "outputs": [
    {
     "name": "stdout",
     "output_type": "stream",
     "text": [
      "5 7 2\n",
      "3 4 3 4 3\n"
     ]
    },
    {
     "data": {
      "text/plain": [
       "28"
      ]
     },
     "execution_count": 4,
     "metadata": {},
     "output_type": "execute_result"
    }
   ],
   "source": [
    "N, M, K = map(int, input().split())\n",
    "lst = list(map(int, input().split()))\n",
    "\n",
    "RuleOfBigNum(M, K, lst)"
   ]
  },
  {
   "cell_type": "markdown",
   "id": "fade9ee9",
   "metadata": {},
   "source": [
    "#### 문제 \n",
    "    이것이 취업을 위한 코딩 테스트다 with 파이썬"
   ]
  }
 ],
 "metadata": {
  "kernelspec": {
   "display_name": "Python 3",
   "language": "python",
   "name": "python3"
  },
  "language_info": {
   "codemirror_mode": {
    "name": "ipython",
    "version": 3
   },
   "file_extension": ".py",
   "mimetype": "text/x-python",
   "name": "python",
   "nbconvert_exporter": "python",
   "pygments_lexer": "ipython3",
   "version": "3.8.8"
  }
 },
 "nbformat": 4,
 "nbformat_minor": 5
}
