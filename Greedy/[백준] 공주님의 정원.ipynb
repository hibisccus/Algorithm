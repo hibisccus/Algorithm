{
 "cells": [
  {
   "cell_type": "markdown",
   "metadata": {},
   "source": [
    "## 2457. 공주님의 정원    \n",
    "Baekjoon link: [garden of the princess](https://www.acmicpc.net/problem/2457)\n",
    "\n",
    "#### 문제\n",
    "\n",
    "    오늘은 공주님이 태어난 경사스러운 날이다. 왕은 이 날을 기념하기 위해 늘 꽃이 피어있는 작은 정원을 만들기로 결정했다.\n",
    "    \n",
    "    총 N개의 꽃이 있는 데, 꽃은 모두 같은 해에 피어서 같은 해에 진다. 하나의 꽃은 피는 날과 지는 날이 정해져 있다. 예를 들어, 5월 8일 피어서 6월 13일 지는 꽃은 5월 8일부터 6월 12일까지는 꽃이 피어 있고, 6월 13일을 포함하여 이후로는 꽃을 볼 수 없다는 의미이다. (올해는 4, 6, 9, 11월은 30일까지 있고, 1, 3, 5, 7, 8, 10, 12월은 31일까지 있으며, 2월은 28일까지만 있다.)\n",
    "\n",
    "    이러한 N개의 꽃들 중에서 다음의 두 조건을 만족하는 꽃들을 선택하고 싶다.\n",
    "\n",
    "        1. 공주가 가장 좋아하는 계절인 3월 1일부터 11월 30일까지 매일 꽃이 한 가지 이상 피어 있도록 한다. \n",
    "        2. 정원이 넓지 않으므로 정원에 심는 꽃들의 수를 가능한 적게 한다. \n",
    "        \n",
    "    N개의 꽃들 중에서 위의 두 조건을 만족하는, 즉 3월 1일부터 11월 30일까지 매일 꽃이 한 가지 이상 피어 있도록 꽃들을 선택할 때, 선택한 꽃들의 최소 개수를 출력하는 프로그램을 작성하시오. \n",
    "    \n",
    "#### 입력 조건\n",
    "\n",
    "    첫째 줄에는 꽃들의 총 개수 N (1 ≤ N ≤ 100,000)이 주어진다. 다음 N개의 줄에는 각 꽃이 피는 날짜와 지는 날짜가 주어진다. 하나의 날짜는 월과 일을 나타내는 두 숫자로 표현된다. 예를 들어서, 3 8 7 31은 꽃이 3월 8일에 피어서 7월 31일에 진다는 것을 나타낸다.\n",
    "    \n",
    "#### 출력 조건\n",
    "    \n",
    "    첫째 줄에 선택한 꽃들의 최소 개수를 출력한다. 만약 두 조건을 만족하는 꽃들을 선택할 수 없다면 0을 출력한다."
   ]
  },
  {
   "cell_type": "markdown",
   "metadata": {},
   "source": [
    "#### 입력 예시\n",
    "\n",
    "    4\n",
    "    1 1 5 31\n",
    "    1 1 6 30\n",
    "    5 15 8 31\n",
    "    6 10 12 10\n",
    "    \n",
    "#### 출력 예시\n",
    "    \n",
    "    2"
   ]
  },
  {
   "cell_type": "code",
   "execution_count": 1,
   "metadata": {},
   "outputs": [
    {
     "name": "stdout",
     "output_type": "stream",
     "text": [
      "4\n",
      "1 1 5 31\n",
      "1 1 6 30\n",
      "5 15 8 30\n",
      "6 10 12 10\n",
      "2\n"
     ]
    }
   ],
   "source": [
    "# 공주님의 정원\n",
    "# 공주가 좋아하는 계절의 시작인 3월 1일~ 끝인 11월 30일\n",
    "# 꽃이 피는 날짜는 3월 1일보다 이전이거나 같아야 하며, 최대한 늦게 져야 최소한의 개수로 공주가 좋아하는 계절을 채울수 있다.\n",
    "N = int(input())\n",
    "\n",
    "lst = []\n",
    "for _ in range(N):\n",
    "    start_m, start_d, end_m, end_d = map(int, input().split())\n",
    "    lst.append([start_m * 100 + start_d, end_m * 100 + end_d])\n",
    "\n",
    "# 꽃이 피는 날짜, 꽃이 지는 날짜 순으로 오름차순 정렬 \n",
    "lst.sort()\n",
    "\n",
    "# 마지막 꽃이 지는 날짜. 초기값은 공주가 좋아하는 계절의 시작인 3월 1일로 시작해서 값을 갱신해 나간다\n",
    "end_d = 301\n",
    "count = 0\n",
    "\n",
    "while lst:\n",
    "    if end_d >= 1201 or lst[0][0] > end_d:\n",
    "        break\n",
    "        \n",
    "    # 가장 느리게 꽃이 지는 날짜 갱신\n",
    "    tmp_end_d = -1\n",
    "    \n",
    "    for _ in range(len(lst)):\n",
    "        # 꽃이 피는 날짜는 end_d보다 이전이거나 같아야 한다.\n",
    "        if lst[0][0] <= end_d:\n",
    "            # 그 중 가장 느리게 지는 꽃의 날짜를 확인한다.\n",
    "            if tmp_end_d <= lst[0][1]:\n",
    "                tmp_end_d = lst[0][1]\n",
    "                \n",
    "            lst.remove(lst[0])\n",
    "        \n",
    "        else:\n",
    "            break\n",
    "          \n",
    "    # 가장 느리게 지는 꽃의 날짜를 갱신, 이후 반복\n",
    "    end_d = tmp_end_d\n",
    "    count += 1\n",
    "    \n",
    "# 루프가 모두 실행된 이후 마지막 꽃이 지는 날짜가 12월 1일보다 작은 경우\n",
    "# 공주가 좋아하는 계절동안 계속 피어있는 것이 아니므로 0을 출력한다.\n",
    "if end_d < 1201:\n",
    "    print(0)\n",
    "else:\n",
    "    print(count)"
   ]
  }
 ],
 "metadata": {
  "kernelspec": {
   "display_name": "Python 3",
   "language": "python",
   "name": "python3"
  },
  "language_info": {
   "codemirror_mode": {
    "name": "ipython",
    "version": 3
   },
   "file_extension": ".py",
   "mimetype": "text/x-python",
   "name": "python",
   "nbconvert_exporter": "python",
   "pygments_lexer": "ipython3",
   "version": "3.8.5"
  }
 },
 "nbformat": 4,
 "nbformat_minor": 4
}
