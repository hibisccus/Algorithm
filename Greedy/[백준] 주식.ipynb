{
 "cells": [
  {
   "cell_type": "markdown",
   "metadata": {},
   "source": [
    "## 11501. 주식   \n",
    "Baekjoon link: [stock](https://www.acmicpc.net/problem/11501)\n",
    "\n",
    "#### 문제\n",
    "\n",
    "    홍준이는 요즘 주식에 빠져있다. 그는 미래를 내다보는 눈이 뛰어나, 날 별로 주가를 예상하고 언제나 그게 맞아떨어진다. 매일 그는 아래 세 가지 중 한 행동을 한다.\n",
    "\n",
    "        1. 주식 하나를 산다.\n",
    "        2. 원하는 만큼 가지고 있는 주식을 판다.\n",
    "        3. 아무것도 안한다.\n",
    "        \n",
    "    홍준이는 미래를 예상하는 뛰어난 안목을 가졌지만, 어떻게 해야 자신이 최대 이익을 얻을 수 있는지 모른다. 따라서 당신에게 날 별로 주식의 가격을 알려주었을 때, 최대 이익이 얼마나 되는지 계산을 해달라고 부탁했다.\n",
    "    예를 들어 날 수가 3일이고 날 별로 주가가 10, 7, 6일 때, 주가가 계속 감소하므로 최대 이익은 0이 된다. 그러나 만약 날 별로 주가가 3, 5, 9일 때는 처음 두 날에 주식을 하나씩 사고, 마지막날 다 팔아 버리면 이익이 10이 된다.\n",
    "    \n",
    "#### 입력 조건\n",
    "\n",
    "    입력의 첫 줄에는 테스트케이스 수를 나타내는 자연수 T가 주어진다. 각 테스트케이스 별로 첫 줄에는 날의 수를 나타내는 자연수 N(2 ≤ N ≤ 1,000,000)이 주어지고, 둘째 줄에는 날 별 주가를 나타내는 N개의 자연수들이 공백으로 구분되어 순서대로 주어진다. 날 별 주가는 10,000이하다.\n",
    "    \n",
    "#### 출력 조건\n",
    "    \n",
    "    각 테스트케이스 별로 최대 이익을 나타내는 정수 하나를 출력한다. 답은 부호있는 64bit 정수형으로 표현 가능하다."
   ]
  },
  {
   "cell_type": "markdown",
   "metadata": {},
   "source": [
    "#### 입력 예시\n",
    "\n",
    "    3\n",
    "    3\n",
    "    10 7 6\n",
    "    3\n",
    "    3 5 9\n",
    "    5\n",
    "    1 1 3 1 2\n",
    "    \n",
    "#### 출력 예시\n",
    "    \n",
    "    0\n",
    "    10\n",
    "    5"
   ]
  },
  {
   "cell_type": "code",
   "execution_count": 1,
   "metadata": {},
   "outputs": [
    {
     "name": "stdout",
     "output_type": "stream",
     "text": [
      "3\n",
      "3\n",
      "10 7 6\n",
      "0\n",
      "3\n",
      "3 5 9\n",
      "10\n",
      "5\n",
      "1 1 3 1 2\n",
      "5\n"
     ]
    }
   ],
   "source": [
    "# 주식\n",
    "T = int(input())\n",
    "\n",
    "for _ in range(T):\n",
    "    N = int(input())\n",
    "    lst = list(map(int, input().split()))\n",
    "    \n",
    "    answer = 0\n",
    "    max_value = lst[-1]\n",
    "    # 리스트의 뒤부터 조회 (맨 뒤의 다음부터)\n",
    "    for i in range(N-2, -1, -1):\n",
    "        # 현재 값이 최댓값보다 클 경우 최댓값을 갱신하고 넘어간다.\n",
    "        if lst[i] > max_value:\n",
    "            max_value = lst[i]\n",
    "        # 작다면 최대값에서 현재 가격을 뺀 만큼을 더해준다.\n",
    "        else:\n",
    "            answer += max_value - lst[i]\n",
    "            \n",
    "    print(answer)"
   ]
  }
 ],
 "metadata": {
  "kernelspec": {
   "display_name": "Python 3",
   "language": "python",
   "name": "python3"
  },
  "language_info": {
   "codemirror_mode": {
    "name": "ipython",
    "version": 3
   },
   "file_extension": ".py",
   "mimetype": "text/x-python",
   "name": "python",
   "nbconvert_exporter": "python",
   "pygments_lexer": "ipython3",
   "version": "3.8.5"
  }
 },
 "nbformat": 4,
 "nbformat_minor": 4
}
