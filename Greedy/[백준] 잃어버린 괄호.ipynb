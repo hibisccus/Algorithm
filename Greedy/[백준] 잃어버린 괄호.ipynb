{
 "cells": [
  {
   "cell_type": "markdown",
   "metadata": {},
   "source": [
    "## 1541. 잃어버린 괄호   \n",
    "Baekjoon link: [lost bracket](https://www.acmicpc.net/problem/1541)\n",
    "\n",
    "#### 문제\n",
    "\n",
    "    세준이는 양수와 +, -, 그리고 괄호를 가지고 식을 만들었다. 그리고 나서 세준이는 괄호를 모두 지웠다.\n",
    "    그리고 나서 세준이는 괄호를 적절히 쳐서 이 식의 값을 최소로 만들려고 한다.\n",
    "    괄호를 적절히 쳐서 이 식의 값을 최소로 만드는 프로그램을 작성하시오.\n",
    "    \n",
    "#### 입력 조건\n",
    "\n",
    "    첫째 줄에 식이 주어진다. 식은 ‘0’~‘9’, ‘+’, 그리고 ‘-’만으로 이루어져 있고, 가장 처음과 마지막 문자는 숫자이다. 그리고 연속해서 두 개 이상의 연산자가 나타나지 않고, 5자리보다 많이 연속되는 숫자는 없다. 수는 0으로 시작할 수 있다. 입력으로 주어지는 식의 길이는 50보다 작거나 같다.\n",
    "    \n",
    "#### 출력 조건\n",
    "    \n",
    "    첫째 줄에 정답을 출력한다."
   ]
  },
  {
   "cell_type": "markdown",
   "metadata": {},
   "source": [
    "#### 입력 예시\n",
    "\n",
    "    55-50+40\n",
    "    \n",
    "#### 출력 예시\n",
    "    \n",
    "    -35"
   ]
  },
  {
   "cell_type": "code",
   "execution_count": 1,
   "metadata": {},
   "outputs": [
    {
     "name": "stdout",
     "output_type": "stream",
     "text": [
      "55-50+40\n",
      "-35\n"
     ]
    }
   ],
   "source": [
    "# 잃어버린 괄호\n",
    "# 식의 값을 최소로 하려면, - 밑으로는 전부 더해주어 음수처리를 해야 한다.\n",
    "# 따라서 '-'를 기준으로 문자열을 분리한다.\n",
    "S = list(input().split('-'))\n",
    "lst = []\n",
    "\n",
    "# 분리된 문자열은 리스트로 저장되어 있고, 각각의 문자열은 '+'를 포함하거나 포함하지 않는다.\n",
    "# '+'가 포함된 경우 + 연산을 하여 다른 리스트에 저장해준다.\n",
    "for s in S:       \n",
    "    add = map(int, s.split('+'))\n",
    "    alt = sum(add)\n",
    "    lst.append(alt)\n",
    "           \n",
    "# 이제 이 리스트에 저장되어 있는 숫자는 각각 -로 구분되어 있다. \n",
    "# 이전 입력 조건에서 처음과 마지막 문자는 숫자이므로, 첫 번째 숫자가 음수인 경우는 없다.\n",
    "# 따라서 첫 번째 값을 기준으로 나머지 리스트에 있는 값들을 순차적으로 빼주면 된다.\n",
    "answer = lst[0] \n",
    "for i in range(1, len(lst)):\n",
    "    answer -= lst[i]\n",
    "print(answer)"
   ]
  }
 ],
 "metadata": {
  "kernelspec": {
   "display_name": "Python 3",
   "language": "python",
   "name": "python3"
  },
  "language_info": {
   "codemirror_mode": {
    "name": "ipython",
    "version": 3
   },
   "file_extension": ".py",
   "mimetype": "text/x-python",
   "name": "python",
   "nbconvert_exporter": "python",
   "pygments_lexer": "ipython3",
   "version": "3.8.5"
  }
 },
 "nbformat": 4,
 "nbformat_minor": 4
}
