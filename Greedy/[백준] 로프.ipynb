{
 "cells": [
  {
   "cell_type": "markdown",
   "metadata": {},
   "source": [
    "## 2217. 로프 \n",
    "Baekjoon link: [rope](https://www.acmicpc.net/problem/2217)\n",
    "\n",
    "#### 문제\n",
    "\n",
    "    N(1 ≤ N ≤ 100,000)개의 로프가 있다. 이 로프를 이용하여 이런 저런 물체를 들어올릴 수 있다. 각각의 로프는 그 굵기나 길이가 다르기 때문에 들 수 있는 물체의 중량이 서로 다를 수도 있다.\n",
    "    하지만 여러 개의 로프를 병렬로 연결하면 각각의 로프에 걸리는 중량을 나눌 수 있다. k개의 로프를 사용하여 중량이 w인 물체를 들어올릴 때, 각각의 로프에는 모두 고르게 w/k 만큼의 중량이 걸리게 된다.\n",
    "    각 로프들에 대한 정보가 주어졌을 때, 이 로프들을 이용하여 들어올릴 수 있는 물체의 최대 중량을 구해내는 프로그램을 작성하시오. 모든 로프를 사용해야 할 필요는 없으며, 임의로 몇 개의 로프를 골라서 사용해도 된다.\n",
    "    \n",
    "#### 입력 조건\n",
    "\n",
    "    첫째 줄에 정수 N이 주어진다. 다음 N개의 줄에는 각 로프가 버틸 수 있는 최대 중량이 주어진다. 이 값은 10,000을 넘지 않는 자연수이다.\n",
    "    \n",
    "#### 출력 조건\n",
    "    \n",
    "    첫째 줄에 답을 출력한다."
   ]
  },
  {
   "cell_type": "markdown",
   "metadata": {},
   "source": [
    "#### 입력 예시\n",
    "\n",
    "    2\n",
    "    10\n",
    "    15\n",
    "    \n",
    "#### 출력 예시\n",
    "    \n",
    "    20"
   ]
  },
  {
   "cell_type": "code",
   "execution_count": 1,
   "metadata": {},
   "outputs": [
    {
     "name": "stdout",
     "output_type": "stream",
     "text": [
      "2\n",
      "10\n",
      "15\n",
      "20\n"
     ]
    }
   ],
   "source": [
    "# 로프\n",
    "\n",
    "N = int(input())\n",
    "lst = [int(input()) for _ in range(N)]\n",
    "# 로프가 최대로 들 수 있는 중량은 최솟값에 영향을 받기 때문에 중량이 가장 큰 순서대로 정렬한 뒤 순차적으로 접근한다. \n",
    "lst.sort(reverse=True)\n",
    "\n",
    "# 로프 하나의 최대 중량 값과 로프들을 이용하여 들어올릴 수 있는 최대 무게를 초기화한다.\n",
    "weight, answer = lst[0], lst[0]\n",
    "for i in range(1, N):\n",
    "    # 현재 로프의 중량과 이전 로프의 최대 중량 중 작은 값을 선택한다.\n",
    "    weight = min(weight, lst[i])\n",
    "    # 현재 들어올릴 수 있는 최대 무게와 이전 들어올릴 수 있는 최대 무게 중 큰 값을 선택한다.\n",
    "    answer = max(answer, weight * (i+1)) \n",
    "    \n",
    "print(answer)"
   ]
  }
 ],
 "metadata": {
  "kernelspec": {
   "display_name": "Python 3",
   "language": "python",
   "name": "python3"
  },
  "language_info": {
   "codemirror_mode": {
    "name": "ipython",
    "version": 3
   },
   "file_extension": ".py",
   "mimetype": "text/x-python",
   "name": "python",
   "nbconvert_exporter": "python",
   "pygments_lexer": "ipython3",
   "version": "3.8.5"
  }
 },
 "nbformat": 4,
 "nbformat_minor": 4
}
