{
 "cells": [
  {
   "cell_type": "markdown",
   "metadata": {},
   "source": [
    "## 2847. 게임을 만든 동준이 \n",
    "Baekjoon link: [Dongjun made a game](https://www.acmicpc.net/problem/2847)\n",
    "\n",
    "#### 문제\n",
    "\n",
    "    학교에서 그래픽스 수업을 들은 동준이는 수업시간에 들은 내용을 바탕으로 스마트폰 게임을 만들었다. 게임에는 총 N개의 레벨이 있고, 각 레벨을 클리어할 때 마다 점수가 주어진다. 플레이어의 점수는 레벨을 클리어하면서 얻은 점수의 합으로, 이 점수를 바탕으로 온라인 순위를 매긴다. 동준이는 레벨을 난이도 순으로 배치했다. 하지만, 실수로 쉬운 레벨이 어려운 레벨보다 점수를 많이 받는 경우를 만들었다.\n",
    "\n",
    "    이 문제를 해결하기 위해 동준이는 특정 레벨의 점수를 감소시키려고 한다. 이렇게해서 각 레벨을 클리어할 때 주는 점수가 증가하게 만들려고 한다.\n",
    "\n",
    "    각 레벨을 클리어할 때 얻는 점수가 주어졌을 때, 몇 번 감소시키면 되는지 구하는 프로그램을 작성하시오. 점수는 항상 양수이어야 하고, 1만큼 감소시키는 것이 1번이다. 항상 답이 존재하는 경우만 주어진다. 정답이 여러 가지인 경우에는 점수를 내리는 것을 최소한으로 하는 방법을 찾아야 한다.\n",
    "    \n",
    "#### 입력 조건\n",
    "\n",
    "    첫째 줄에 레벨의 수 N이 주어진다. (1 ≤ N ≤ 100) 다음 N개 줄에는 각 레벨을 클리어하면 얻는 점수가 첫 번째 레벨부터 마지막 레벨까지 순서대로 주어진다. 점수는 20,000보다 작은 양의 정수이다.\n",
    "    \n",
    "#### 출력 조건\n",
    "    \n",
    "    첫째 줄에 점수를 몇 번 감소시키면 되는지 출력한다."
   ]
  },
  {
   "cell_type": "markdown",
   "metadata": {},
   "source": [
    "#### 입력 예시\n",
    "\n",
    "    3\n",
    "    5\n",
    "    5\n",
    "    5\n",
    "    \n",
    "#### 출력 예시\n",
    "    \n",
    "    3"
   ]
  },
  {
   "cell_type": "code",
   "execution_count": 1,
   "metadata": {},
   "outputs": [
    {
     "name": "stdout",
     "output_type": "stream",
     "text": [
      "3\n",
      "5\n",
      "5\n",
      "5\n",
      "3\n"
     ]
    }
   ],
   "source": [
    "# 게임을 만든 동준이\n",
    "# 맨 처음 레벨부터 점수를 감소시키는 것이 아닌, 맨 마지막 레벨부터 점수를 감소시켜야 한다.\n",
    "# 따라서 점수가 저장된 리스트를 역순으로 탐색한다.\n",
    "N = int(input())\n",
    "lst = [int(input()) for _ in range(N)]\n",
    "lst.reverse()\n",
    "\n",
    "count = 0\n",
    "# 가장 어려운 레벨의 점수를 저장\n",
    "first = lst[0]\n",
    "for i in range(1, N):\n",
    "    # 가장 어려운 레벨의 점수보다 높은 경우\n",
    "    if first <= lst[i]:\n",
    "        # 해당 인덱스의 레벨의 점수는 가장 어려운 레벨의 점수보다 1 낮아야 한다.\n",
    "        alt = (lst[i] - first + 1)\n",
    "        count += alt\n",
    "        lst[i] -= alt\n",
    "    first = lst[i]\n",
    "    \n",
    "print(count)"
   ]
  }
 ],
 "metadata": {
  "kernelspec": {
   "display_name": "Python 3",
   "language": "python",
   "name": "python3"
  },
  "language_info": {
   "codemirror_mode": {
    "name": "ipython",
    "version": 3
   },
   "file_extension": ".py",
   "mimetype": "text/x-python",
   "name": "python",
   "nbconvert_exporter": "python",
   "pygments_lexer": "ipython3",
   "version": "3.8.5"
  }
 },
 "nbformat": 4,
 "nbformat_minor": 4
}
