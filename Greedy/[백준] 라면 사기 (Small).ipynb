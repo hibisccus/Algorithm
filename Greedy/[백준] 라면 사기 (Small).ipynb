{
 "cells": [
  {
   "cell_type": "markdown",
   "metadata": {},
   "source": [
    "## 18185. 라면 사기 (Small)\n",
    "Baekjoon link: [buy ramen](https://www.acmicpc.net/problem/18185)\n",
    "\n",
    "#### 문제\n",
    "\n",
    "    라면매니아 교준이네 집 주변에는 N개의 라면 공장이 있다. 각 공장은 1번부터 N번까지 차례대로 번호가 부여되어 있다. 교준이는 i번 공장에서 정확하게 Ai개의 라면을 구매하고자 한다(1 ≤ i ≤ N).\n",
    "\n",
    "    교준이는 아래의 세 가지 방법으로 라면을 구매할 수 있다.\n",
    "\n",
    "        1. i번 공장에서 라면을 하나 구매한다(1 ≤ i ≤ N). 이 경우 비용은 3원이 든다.\n",
    "        2. i번 공장과 (i+1)번 공장에서 각각 라면을 하나씩 구매한다(1 ≤ i ≤ N-1). 이 경우 비용은 5원이 든다.\n",
    "        3. i번 공장과 (i+1)번 공장, (i+2)번 공장에서 각각 라면을 하나씩 구매한다(1 ≤ i ≤ N-2). 이 경우 비용은 7원이 든다.\n",
    "        \n",
    "    최소의 비용으로 라면을 구매하고자 할 때, 교준이가 필요한 금액을 출력하는 프로그램을 작성하시오.\n",
    "    \n",
    "#### 입력 조건\n",
    "\n",
    "    첫 번째 줄에 라면 공장의 개수를 의미하는 자연수 N가 주어진다.\n",
    "    \n",
    "    두번째 줄에 N개의 정수 A1, ···, AN가 사이에 공백을 두고 주어진다.\n",
    "    \n",
    "#### 출력 조건\n",
    "    \n",
    "    첫 번째 줄에 교준이가 필요한 최소 금액을 출력한다.\n",
    "    \n",
    "#### 제한 조건\n",
    "\n",
    "    모든 입력 데이터는 다음 조건을 만족한다.\n",
    "\n",
    "        3 ≤ N ≤ 10^{4}\n",
    "        0 ≤ A_{i} ≤ 10^{4} (1 ≤ i ≤ N)"
   ]
  },
  {
   "cell_type": "markdown",
   "metadata": {},
   "source": [
    "#### 입력 예시\n",
    "\n",
    "    3\n",
    "    1 0 1\n",
    "    \n",
    "#### 출력 예시\n",
    "    \n",
    "    6"
   ]
  },
  {
   "cell_type": "code",
   "execution_count": 1,
   "metadata": {},
   "outputs": [
    {
     "name": "stdout",
     "output_type": "stream",
     "text": [
      "3\n",
      "1 0 1\n",
      "6\n"
     ]
    }
   ],
   "source": [
    "# 라면 사기\n",
    "N = int(input())\n",
    "lst = list(map(int, input().split()))\n",
    "# 최댓값 10000에 2(i+2)만큼 더 탐색\n",
    "A = [0] * 10002\n",
    "\n",
    "for i in range(N):\n",
    "    A[i] = lst[i]\n",
    "\n",
    "answer = 0\n",
    "for i in range(N):\n",
    "    # 반례\n",
    "    # A = [1 2 1 1] 의 경우\n",
    "    # 앞의 1 2를 우선적으로 2번 조건에 따라 줄이고, 이후 1 1 1을 3번 조건에 따라 줄인다 -> 따라서 답은 12\n",
    "    # 3번 조건을 먼저 시행해서 답이 13이 되는 경우를 조심해야 한다.\n",
    "    \n",
    "    # 왜 i+1과 i+2를 비교하는 것인지는 [2, 1, 1, 1], [1, 1, 2, 1]의 경우를 비교하여 생각해보면 된다.\n",
    "    if A[i+1] > A[i+2]:\n",
    "        two = min(A[i], A[i+1]-A[i+2])\n",
    "        answer += (5 * two)\n",
    "        A[i] -= two\n",
    "        A[i+1] -= two\n",
    "        \n",
    "        three = min(A[i], min(A[i+1], A[i+2]))\n",
    "        answer += (7 * three)\n",
    "        A[i] -= three\n",
    "        A[i+1] -= three\n",
    "        A[i+2] -= three\n",
    "        \n",
    "    else:\n",
    "        three = min(A[i], min(A[i+1], A[i+2]))\n",
    "        answer += (7 * three)\n",
    "        A[i] -= three\n",
    "        A[i+1] -= three\n",
    "        A[i+2] -= three\n",
    "        \n",
    "        two = min(A[i], A[i+1])\n",
    "        answer += (5 * two)\n",
    "        A[i] -= two\n",
    "        A[i+1] -= two\n",
    "        \n",
    "    answer += (3 * A[i])\n",
    "    \n",
    "print(answer)"
   ]
  }
 ],
 "metadata": {
  "kernelspec": {
   "display_name": "Python 3",
   "language": "python",
   "name": "python3"
  },
  "language_info": {
   "codemirror_mode": {
    "name": "ipython",
    "version": 3
   },
   "file_extension": ".py",
   "mimetype": "text/x-python",
   "name": "python",
   "nbconvert_exporter": "python",
   "pygments_lexer": "ipython3",
   "version": "3.8.5"
  }
 },
 "nbformat": 4,
 "nbformat_minor": 4
}
