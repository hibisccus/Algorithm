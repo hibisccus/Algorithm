{
 "cells": [
  {
   "cell_type": "markdown",
   "id": "35ccc5f9",
   "metadata": {},
   "source": [
    "## 떡볶이 떡 만들기\n",
    "\n",
    "#### 문제\n",
    "    오늘 동빈이는 여행 가신 부모님을 대신해서 떡집 일을 하기로 했다. 오늘은 떡볶이 떡을 만드는 날이다. 동빈이네 떡볶이 떡은 재밌게도 떡볶이 떡의 길이가 일정하지 않다. 대신에 한 봉지 안에 들어가는 떡의 총 길이는 절단기로 잘라서 맞춰준다.\n",
    "\n",
    "    절단기에 높이 H를 지정하면 줄지어진 떡을 한 번에 절단한다. 높이가 H보다 긴 떡은 H 위의 부분이 잘릴 것이고, 낮은 떡은 잘리지 않는다.\n",
    "\n",
    "    예를 들어 높이가 19, 14, 10, 17cm인 떡이 나란히 있고 절단기를 높이를 15cm로 지정하면 자른 뒤 떡의 높이는 15, 14, 10, 15cm가 될 것이다. 잘린 떡의 길이는 차례대로 4, 0, 0, 2cm 이다, 손님은 6cm만큼의 길이를 가져간다.\n",
    "\n",
    "    손님이 왔을 때 요청한 총 길이가 M일때, 적어도 M만큼의 떡을 얻기 위해 절단기에 설정할 수 있는 높이의 최댓값을 구하는 프로그램을 작성하시오.\n",
    "\n",
    "#### 입력 조건\n",
    "    첫째 줄에 떡의 개수 N과 요청한 떡의 길이 M이 주어진다. (1 <= N <= 1000000, 1 <= M <= 2000000000)\n",
    "    둘째 줄에는 떡의 개별 높이가 주어진다. 떡 높이의 총합은 항상 M 이상이므로, 손님은 필요한 양만큼 떡을 사갈 수 있다. 높이는 10억보다 작거나 같은 양의 정수 또는 0이다.\n",
    "\n",
    "#### 출력 조건\n",
    "    적어도 M만큼의 떡을 집에 가져가기 위해 절단기에 설정할 수 있는 높이의 최댓값을 출력한다."
   ]
  },
  {
   "cell_type": "markdown",
   "id": "74ef7fb6",
   "metadata": {},
   "source": [
    "#### 입력 예시\n",
    "\n",
    "    In [1] 4 6\n",
    "\n",
    "#### 출력 예시\n",
    "\n",
    "    Out [1] 19 15 10 17"
   ]
  },
  {
   "cell_type": "code",
   "execution_count": 1,
   "id": "8fb94d69",
   "metadata": {},
   "outputs": [
    {
     "name": "stdout",
     "output_type": "stream",
     "text": [
      "4 6\n",
      "19 15 10 17\n",
      "15\n"
     ]
    }
   ],
   "source": [
    "def MakeRiceCake(N: int, M: int, lst: list) -> int:\n",
    "    start, end = 0, max(lst)\n",
    "    result = 0\n",
    "    \n",
    "    while start <= end:\n",
    "        total = 0\n",
    "        mid = (start + end) // 2\n",
    "        \n",
    "        for l in lst:\n",
    "            if l > mid:\n",
    "                total += (l - mid)\n",
    "        \n",
    "        if total < M:\n",
    "            end = mid - 1\n",
    "        else:\n",
    "            result = mid\n",
    "            start = mid + 1\n",
    "            \n",
    "    print(result)\n",
    "    \n",
    "\n",
    "N, M = map(int, input().split())\n",
    "lst = list(map(int, input().split()))\n",
    "\n",
    "MakeRiceCake(N, M, sorted(lst))"
   ]
  },
  {
   "cell_type": "markdown",
   "id": "523f87f0",
   "metadata": {},
   "source": [
    "#### 문제 참고\n",
    "    이것이 취업을 위한 코딩 테스트다 with 파이썬"
   ]
  }
 ],
 "metadata": {
  "kernelspec": {
   "display_name": "Python 3",
   "language": "python",
   "name": "python3"
  },
  "language_info": {
   "codemirror_mode": {
    "name": "ipython",
    "version": 3
   },
   "file_extension": ".py",
   "mimetype": "text/x-python",
   "name": "python",
   "nbconvert_exporter": "python",
   "pygments_lexer": "ipython3",
   "version": "3.8.8"
  }
 },
 "nbformat": 4,
 "nbformat_minor": 5
}
