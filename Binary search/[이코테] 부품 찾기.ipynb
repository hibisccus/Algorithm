{
 "cells": [
  {
   "cell_type": "markdown",
   "id": "4da255b4",
   "metadata": {},
   "source": [
    "## 부품 찾기\n",
    "\n",
    "#### 문제\n",
    "    동빈이네 전자 매장에는 부품이 N개 있다. 각 부품은 정수 형태의 고유한 번호가 있다. 어느 날 손님이 M개의 종류의 부품을 대량으로 구매하겠다며 당일 날 견적서를 요청했다. 동빈이는 때를 놓치지 않고 손님이 문의한 부품 M개 종류를 모두 확인해서 견적서를 작성해야 한다. 이때 가게 안에 부품이 모두 있는지 확인하는 프로그램을 작성해보자.\n",
    "\n",
    "    예를 들어 가게의 부품이 총 5개일 때 부품 번호가 다음과 같다고 하자.\n",
    "\n",
    "        N=5\n",
    "        [8, 3, 7, 9, 2]\n",
    "        손님은 총 3개의 부품이 있는지 확인 요청했는데 부품 번호는 다음과 같다.\n",
    "\n",
    "        M=3\n",
    "        [5, 7, 9]\n",
    "        이때 손님이 요청한 부품 번호의 순서대로 부품을 확인해 부품이 있으면 yes를, 없으면 no를 출력한다. 구분은 공백으로 한다.\n",
    "\n",
    "#### 입력 조건\n",
    "    첫째 줄에 정수 N이 주어진다. (1<=N<=1,000,000)\n",
    "    둘째 줄에는 공백으로 구분하여 N개의 정수가 주어진다. 이때 정수는 1보다 크고 1,000,000 이하이다.\n",
    "    셋째 줄에는 정수 M이 주어진다. (1<=M<=100,000)\n",
    "    넷째 줄에는 공백으로 구분하여 M개의 정수가 주어진다. 이때 정수는 1보다 크고 10억 이하이다.\n",
    "\n",
    "#### 출력 조건\n",
    "    첫째 줄에 공백으로 구분하여 각 부품이 존재하면 yes를, 없으면 no를 출력한다."
   ]
  },
  {
   "cell_type": "markdown",
   "id": "4eb5bc58",
   "metadata": {},
   "source": [
    "#### 입력 예시\n",
    "\n",
    "    In [1] 5\n",
    "           8 3 7 9 2\n",
    "           3\n",
    "           5 7 9\n",
    "\n",
    "#### 출력 예시\n",
    "\n",
    "    Out [1] no yes yes"
   ]
  },
  {
   "cell_type": "code",
   "execution_count": 1,
   "id": "11addd05",
   "metadata": {},
   "outputs": [
    {
     "name": "stdout",
     "output_type": "stream",
     "text": [
      "5\n",
      "8 3 7 9 2\n",
      "3\n",
      "5 7 9\n",
      "no yes yes "
     ]
    }
   ],
   "source": [
    "def FindParts(N: int, M: int, n_list: list, m_list: list):    \n",
    "    def binary_search(array, target, start, end):\n",
    "         while start <= end:\n",
    "            mid = (start + end) // 2\n",
    "        \n",
    "            if array[mid] == target:\n",
    "                return mid\n",
    "        \n",
    "            elif array[mid] > target:\n",
    "                end = mid - 1\n",
    "            \n",
    "            else:\n",
    "                start = mid + 1\n",
    "                \n",
    "         return None\n",
    "    \n",
    "    check = 0   \n",
    "    for m in m_list:\n",
    "        check = binary_search(n_list, m, 0, N-1)\n",
    "        print('yes' if check else 'no', end=' ')\n",
    "    \n",
    "N = int(input())\n",
    "n_list = list(map(int, input().split()))\n",
    "M = int(input())\n",
    "m_list = list(map(int, input().split()))\n",
    "\n",
    "FindParts(N, M, sorted(n_list), m_list)"
   ]
  },
  {
   "cell_type": "markdown",
   "id": "8e10e5ad",
   "metadata": {},
   "source": [
    "#### 문제 참고\n",
    "    이것이 취업을 위한 코딩 테스트다 with 파이썬"
   ]
  }
 ],
 "metadata": {
  "kernelspec": {
   "display_name": "Python 3",
   "language": "python",
   "name": "python3"
  },
  "language_info": {
   "codemirror_mode": {
    "name": "ipython",
    "version": 3
   },
   "file_extension": ".py",
   "mimetype": "text/x-python",
   "name": "python",
   "nbconvert_exporter": "python",
   "pygments_lexer": "ipython3",
   "version": "3.8.8"
  }
 },
 "nbformat": 4,
 "nbformat_minor": 5
}
