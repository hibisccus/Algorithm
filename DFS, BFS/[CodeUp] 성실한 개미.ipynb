{
 "cells": [
  {
   "cell_type": "markdown",
   "metadata": {},
   "source": [
    "## 6098. 성실한 개미\n",
    "CodeUp link: [ants](https://www.codeup.kr/problem.php?id=6098)\n",
    "\n",
    "#### 문제\n",
    "\n",
    "    영일이는 생명과학에 관심이 생겨 왕개미를 연구하고 있었다. 왕개미를 유심히 살펴보던 중 특별히 성실해 보이는 개미가 있었는데, 그 개미는 개미굴에서 나와 먹이까지 가장 빠른 길로 이동하는 것이었다.\n",
    "    \n",
    "    개미는 오른쪽으로 움직이다가 벽을 만나면 아래쪽으로 움직여 가장 빠른 길로 움직였다.(오른쪽에 길이 나타나면 다시 오른쪽으로 움직인다.) 이에 호기심이 생긴 영일이는 그 개미를 미로 상자에 넣고 살펴보기 시작하였다. 미로 상자에 넣은 개미는 먹이를 찾았거나, 더 이상 움직일 수 없을 때까지 오른쪽 또는 아래쪽으로만 움직였다. 미로 상자의 구조가 0(갈 수 있는 곳), 1(벽 또는 장애물)로 주어지고,먹이가 2로 주어질 때, 성실한 개미의 이동 경로를 예상해보자.\n",
    "\n",
    "    단, 맨 아래의 가장 오른쪽에 도착한 경우, 더 이상 움직일 수 없는 경우, 먹이를 찾은 경우에는 더이상 이동하지 않고 그 곳에 머무른다고 가정한다. 미로 상자의 테두리는 모두 벽으로 되어 있으며, 개미집은 반드시 (2, 2)에 존재하기 때문에 개미는 (2, 2)에서 출발한다.\n",
    "    \n",
    "    \n",
    "#### 입력 예시\n",
    "\n",
    "    Input [1]: 1 1 1 1 1 1 1 1 1 1\n",
    "               1 0 0 1 0 0 0 0 0 1\n",
    "               1 0 0 1 1 1 0 0 0 1\n",
    "               1 0 0 0 0 0 0 1 0 1\n",
    "               1 0 0 0 0 0 0 1 0 1\n",
    "               1 0 0 0 0 1 0 1 0 1\n",
    "               1 0 0 0 0 1 2 1 0 1\n",
    "               1 0 0 0 0 1 0 0 0 1\n",
    "               1 0 0 0 0 0 0 0 0 1\n",
    "               1 1 1 1 1 1 1 1 1 1\n",
    "               \n",
    "#### 출력 예시\n",
    "\n",
    "    Output [1]: 1 1 1 1 1 1 1 1 1 1\n",
    "                1 9 9 1 0 0 0 0 0 1\n",
    "                1 0 9 1 1 1 0 0 0 1\n",
    "                1 0 9 9 9 9 9 1 0 1\n",
    "                1 0 0 0 0 0 9 1 0 1\n",
    "                1 0 0 0 0 1 9 1 0 1\n",
    "                1 0 0 0 0 1 9 1 0 1\n",
    "                1 0 0 0 0 1 0 0 0 1\n",
    "                1 0 0 0 0 0 0 0 0 1\n",
    "                1 1 1 1 1 1 1 1 1 1"
   ]
  },
  {
   "cell_type": "code",
   "execution_count": 2,
   "metadata": {},
   "outputs": [
    {
     "name": "stdout",
     "output_type": "stream",
     "text": [
      "1 1 1 1 1 1 1 1 1 1\n",
      "1 0 0 1 0 0 0 0 0 1\n",
      "1 0 0 1 1 1 0 0 0 1\n",
      "1 0 0 0 0 0 0 1 0 1\n",
      "1 0 0 0 0 0 0 1 0 1\n",
      "1 0 0 0 0 1 0 1 0 1\n",
      "1 0 0 0 0 1 2 1 0 1\n",
      "1 0 0 0 0 1 0 0 0 1\n",
      "1 0 0 0 0 0 0 0 0 1\n",
      "1 1 1 1 1 1 1 1 1 1\n",
      "\n",
      "1 1 1 1 1 1 1 1 1 1 \n",
      "1 9 9 1 0 0 0 0 0 1 \n",
      "1 0 9 1 1 1 0 0 0 1 \n",
      "1 0 9 9 9 9 9 1 0 1 \n",
      "1 0 0 0 0 0 9 1 0 1 \n",
      "1 0 0 0 0 1 9 1 0 1 \n",
      "1 0 0 0 0 1 9 1 0 1 \n",
      "1 0 0 0 0 1 0 0 0 1 \n",
      "1 0 0 0 0 0 0 0 0 1 \n",
      "1 1 1 1 1 1 1 1 1 1 \n"
     ]
    }
   ],
   "source": [
    "coord = list()\n",
    "for i in range(10):\n",
    "    coord.append(list(map(int, input().split())))\n",
    "print()\n",
    "\n",
    "def dfs(x, y):\n",
    "    if coord[x][y] == 0:\n",
    "        coord[x][y] = 9\n",
    "    elif coord[x][y] == 2:\n",
    "        coord[x][y] = 9\n",
    "        return\n",
    "        \n",
    "    if (coord[x][y+1] == 1 and coord[x+1][y] == 1) or (x==9 and y==9):\n",
    "        return\n",
    "        \n",
    "    if coord[x][y+1] != 1:\n",
    "        dfs(x, y+1)\n",
    "    elif coord[x+1][y] != 1:\n",
    "        dfs(x+1, y)\n",
    "        \n",
    "dfs(1, 1) \n",
    "\n",
    "for i in range(10):\n",
    "    for j in range(10):\n",
    "        print(coord[i][j], end=' ')\n",
    "    print()"
   ]
  }
 ],
 "metadata": {
  "kernelspec": {
   "display_name": "Python 3",
   "language": "python",
   "name": "python3"
  },
  "language_info": {
   "codemirror_mode": {
    "name": "ipython",
    "version": 3
   },
   "file_extension": ".py",
   "mimetype": "text/x-python",
   "name": "python",
   "nbconvert_exporter": "python",
   "pygments_lexer": "ipython3",
   "version": "3.8.5"
  }
 },
 "nbformat": 4,
 "nbformat_minor": 4
}
