{
 "cells": [
  {
   "cell_type": "markdown",
   "metadata": {},
   "source": [
    "## 77. 조합    \n",
    "Leetcode link: [Combinations](https://leetcode.com/problems/combinations/)\n",
    "\n",
    "#### 문제\n",
    "\n",
    "    전체 수 n을 입력받아 k개의 조합을 리턴하라\n",
    "    \n",
    "    Given two integers n and k, return all possible combinations of k numbers chosen from the range [1, n]. \n",
    "    You may return the answer in any order.\n",
    "    \n",
    "#### 입력 예시\n",
    "\n",
    "    Input [1]: n = 4, k = 2\n",
    "    \n",
    "    Input [2]: n = 1, k = 1\n",
    "    \n",
    "#### 출력 예시\n",
    "    \n",
    "    Output [1]: [[1,2],[1,3],[1,4],[2,3],[2,4],[3,4]]\n",
    "    \n",
    "    Output [2]: [[1]]"
   ]
  },
  {
   "cell_type": "markdown",
   "metadata": {},
   "source": [
    "#### 풀이\n",
    "    \n",
    "    1부터 순서대로 for문으로 반복하되, 재귀 호출할 때 넘겨주는 값은 자기 자신 이전의 모든 값을 고정하여 넘긴다. 따라서 남아 있는 값끼리 나머지 조합을 수행하게 되며, k를 하나씩 줄여나가고 0이 되었을 때 결과 리스트에 추가한다."
   ]
  },
  {
   "cell_type": "code",
   "execution_count": 1,
   "metadata": {},
   "outputs": [
    {
     "data": {
      "text/plain": [
       "[[1], [2]]"
      ]
     },
     "execution_count": 1,
     "metadata": {},
     "output_type": "execute_result"
    }
   ],
   "source": [
    "# 조합\n",
    "def combine(n: int, k: int) -> list:     \n",
    "    results = []\n",
    "    \n",
    "    def dfs(elements, start, k):\n",
    "        if k == 0:\n",
    "            results.append(elements[:])\n",
    "            return\n",
    "        \n",
    "        for i in range(start, n + 1):\n",
    "            elements.append(i)\n",
    "            dfs(elements, i + 1, k - 1)\n",
    "            elements.pop()\n",
    "            \n",
    "    dfs([], 1, k) \n",
    "    return results\n",
    "\n",
    "n = 2\n",
    "k = 1\n",
    "combine(n, k)"
   ]
  },
  {
   "cell_type": "code",
   "execution_count": 2,
   "metadata": {},
   "outputs": [
    {
     "data": {
      "text/plain": [
       "[[1]]"
      ]
     },
     "execution_count": 2,
     "metadata": {},
     "output_type": "execute_result"
    }
   ],
   "source": [
    "n, k = 1, 1\n",
    "combine(n, k)"
   ]
  }
 ],
 "metadata": {
  "kernelspec": {
   "display_name": "Python 3",
   "language": "python",
   "name": "python3"
  },
  "language_info": {
   "codemirror_mode": {
    "name": "ipython",
    "version": 3
   },
   "file_extension": ".py",
   "mimetype": "text/x-python",
   "name": "python",
   "nbconvert_exporter": "python",
   "pygments_lexer": "ipython3",
   "version": "3.8.5"
  }
 },
 "nbformat": 4,
 "nbformat_minor": 4
}
