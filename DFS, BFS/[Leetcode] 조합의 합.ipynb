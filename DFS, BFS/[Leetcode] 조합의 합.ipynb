{
 "cells": [
  {
   "cell_type": "markdown",
   "metadata": {},
   "source": [
    "## 39. 조합의 합  \n",
    "Leetcode link: [Subsets](https://leetcode.com/problems/subsets/)\n",
    "\n",
    "#### 문제\n",
    "\n",
    "    숫자 집합 candidates를 조합하여 합이 target이 되는 원소를 나열하라. 각 원소는 중복으로 나열 가능하다.\n",
    "    \n",
    "    Given an array of distinct integers candidates and a target integer target, return a list of all unique combinations of candidates where the chosen numbers sum to target. You may return the combinations in any order. The same number may be chosen from candidates an unlimited number of times. Two combinations are unique if the frequency of at least one of the chosen numbers is different.\n",
    "    The test cases are generated such that the number of unique combinations that sum up to target is less than 150 combinations for the given input.\n",
    "    \n",
    "#### 입력 예시\n",
    "\n",
    "    Input [1]: candidates = [2,3,6,7], target = 7\n",
    "    \n",
    "    Input [2]: candidates = [2,3,5], target = 8\n",
    "    \n",
    "    Input [3]: candidates = [2], target = 1\n",
    "    \n",
    "#### 출력 예시\n",
    "    \n",
    "    Output [1]: [[2,2,3],[7]]\n",
    "    \n",
    "    Output [2]: [[2,2,2,2],[2,3,3],[3,5]]\n",
    "    \n",
    "    Output [3]: []"
   ]
  },
  {
   "cell_type": "code",
   "execution_count": 2,
   "metadata": {},
   "outputs": [
    {
     "data": {
      "text/plain": [
       "[[2, 2, 3], [7]]"
      ]
     },
     "execution_count": 2,
     "metadata": {},
     "output_type": "execute_result"
    }
   ],
   "source": [
    "# 조합의 합\n",
    "def combinationSum(candidates: list, target: int) -> list:\n",
    "    results = []\n",
    "    \n",
    "    def dfs(csum, elements, index): \n",
    "        if csum < 0: \n",
    "            return \n",
    "        \n",
    "        if csum == 0:\n",
    "            results.append(elements)\n",
    "            return\n",
    "            \n",
    "        for i in range(index, len(candidates)):\n",
    "            dfs(csum - candidates[i], elements + [candidates[i]], i)        \n",
    "        \n",
    "    dfs(target, [], 0)\n",
    "    return results\n",
    "        \n",
    "candidates = [2, 3, 6, 7]\n",
    "target = 7\n",
    "combinationSum(candidates, target)"
   ]
  },
  {
   "cell_type": "code",
   "execution_count": 3,
   "metadata": {},
   "outputs": [
    {
     "data": {
      "text/plain": [
       "[[2, 2, 2, 2], [2, 3, 3], [3, 5]]"
      ]
     },
     "execution_count": 3,
     "metadata": {},
     "output_type": "execute_result"
    }
   ],
   "source": [
    "candidates = [2,3,5]\n",
    "target = 8\n",
    "combinationSum(candidates, target)"
   ]
  },
  {
   "cell_type": "code",
   "execution_count": 4,
   "metadata": {},
   "outputs": [
    {
     "data": {
      "text/plain": [
       "[]"
      ]
     },
     "execution_count": 4,
     "metadata": {},
     "output_type": "execute_result"
    }
   ],
   "source": [
    "candidates = [2]\n",
    "target = 1\n",
    "combinationSum(candidates, target)"
   ]
  }
 ],
 "metadata": {
  "kernelspec": {
   "display_name": "Python 3",
   "language": "python",
   "name": "python3"
  },
  "language_info": {
   "codemirror_mode": {
    "name": "ipython",
    "version": 3
   },
   "file_extension": ".py",
   "mimetype": "text/x-python",
   "name": "python",
   "nbconvert_exporter": "python",
   "pygments_lexer": "ipython3",
   "version": "3.8.5"
  }
 },
 "nbformat": 4,
 "nbformat_minor": 4
}
