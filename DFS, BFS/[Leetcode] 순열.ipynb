{
 "cells": [
  {
   "cell_type": "markdown",
   "metadata": {},
   "source": [
    "## 46. 순열     \n",
    "Leetcode link: [Permutations](https://leetcode.com/problems/permutations/)\n",
    "\n",
    "#### 문제\n",
    "\n",
    "    서로 다른 정수를 입력받아 가능한 모든 순열을 리턴하라.\n",
    "    \n",
    "    Given an array nums of distinct integers, return all the possible permutations. You can return the answer in any order.\n",
    "    \n",
    "#### 입력 예시\n",
    "\n",
    "    Input [1]: nums = [1,2,3]\n",
    "    \n",
    "    Input [2]: nums = [1]\n",
    "    \n",
    "#### 출력 예시\n",
    "    \n",
    "    Output [1]: [[1,2,3],[1,3,2],[2,1,3],[2,3,1],[3,1,2],[3,2,1]]\n",
    "    \n",
    "    Output [2]: [[1]]"
   ]
  },
  {
   "cell_type": "markdown",
   "metadata": {},
   "source": [
    "#### 풀이\n",
    "    \n",
    "    순열이란 입력받은 숫자로 가능한 모든 경우를 그래프 형태로 나열한 결과라고 할 수 있다.\n",
    "    입력받은 값에서 순차적으로 반복문을 시행하며, 리스트에 해당 값이 없을 경우 저장하고 다음으로 넘어간다.\n",
    "    \n",
    "    elements\n",
    "    [] > 1 > 1, 2 > 1, 2, 3 > append > 1, 2 (pop) > 1 (pop) > 1, 3 > 1, 3, 2 > append > 1, 3 (pop) > 1 (pop) > [] (pop) > 2 > ..."
   ]
  },
  {
   "cell_type": "code",
   "execution_count": 1,
   "metadata": {},
   "outputs": [
    {
     "data": {
      "text/plain": [
       "[[1, 2, 3], [1, 3, 2], [2, 1, 3], [2, 3, 1], [3, 1, 2], [3, 2, 1]]"
      ]
     },
     "execution_count": 1,
     "metadata": {},
     "output_type": "execute_result"
    }
   ],
   "source": [
    "# 순열\n",
    "def permute(nums: list) -> list:   \n",
    "    result = []\n",
    "    \n",
    "    def dfs(elements):\n",
    "        if len(elements) == len(nums):\n",
    "            result.append(elements[:])\n",
    "            return\n",
    "            \n",
    "        for n in nums:\n",
    "            if n not in elements:\n",
    "                elements.append(n)\n",
    "                dfs(elements)\n",
    "                elements.pop()\n",
    "    \n",
    "    dfs([])\n",
    "    return result\n",
    "        \n",
    "nums = [1, 2, 3]\n",
    "permute(nums)"
   ]
  },
  {
   "cell_type": "code",
   "execution_count": 3,
   "metadata": {},
   "outputs": [
    {
     "data": {
      "text/plain": [
       "[[1]]"
      ]
     },
     "execution_count": 3,
     "metadata": {},
     "output_type": "execute_result"
    }
   ],
   "source": [
    "nums = [1]\n",
    "permute(nums)"
   ]
  }
 ],
 "metadata": {
  "kernelspec": {
   "display_name": "Python 3",
   "language": "python",
   "name": "python3"
  },
  "language_info": {
   "codemirror_mode": {
    "name": "ipython",
    "version": 3
   },
   "file_extension": ".py",
   "mimetype": "text/x-python",
   "name": "python",
   "nbconvert_exporter": "python",
   "pygments_lexer": "ipython3",
   "version": "3.8.5"
  }
 },
 "nbformat": 4,
 "nbformat_minor": 4
}
