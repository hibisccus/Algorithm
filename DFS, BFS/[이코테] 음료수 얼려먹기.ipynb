{
 "cells": [
  {
   "cell_type": "markdown",
   "id": "661fd514",
   "metadata": {},
   "source": [
    "## 음료수 얼려먹기\n",
    "\n",
    "#### 문제\n",
    "    N × M 크기의 얼음 틀이 있다. 구멍이 뚫려 있는 부분은 0, 칸막이가 존재하는 부분은 1로 표시된다.\n",
    "    구멍이 뚫려 있는 부분끼리 상, 하, 좌, 우로 붙어 있는 경우 서로 연결되어 있는 것으로 간주한다.\n",
    "    이때 얼음 틀의 모양이 주어졌을 때 생성되는 총 아이스크림의 개수를 구하는 프로그램을 작성하라.\n",
    "    다음의 4 × 5 얼음 틀 예시에서는 아이스크림이 총 3개가 생성된다\n",
    "\n",
    "![pic1](https://velog.velcdn.com/images%2Fsuzieep%2Fpost%2F3b7def0f-629d-47bb-9214-5accef563230%2Fimage.png)\n",
    "\n",
    "#### 입력 조건\n",
    "    첫 번째 줄에 얼음 틀의 세로 길이 N과 가로 길이 M이 주어진다. (1 <= N, M <= 1,000)\n",
    "    두 번째 줄부터 N + 1 번째 줄까지 얼음 틀의 형태가 주어진다.\n",
    "    이때 구멍이 뚫려있는 부분은 0, 그렇지 않은 부분은 1이다.\n",
    "    \n",
    "#### 출력 조건\n",
    "    한 번에 만들 수 있는 아이스크림의 개수를 출력한다."
   ]
  },
  {
   "cell_type": "markdown",
   "id": "3ec0c33d",
   "metadata": {},
   "source": [
    "#### 입력 예시\n",
    "\n",
    "    In [1] 4 5\n",
    "           00110\n",
    "           00011\n",
    "           11111\n",
    "           00000\n",
    "           \n",
    "    In [2] 15 14\n",
    "           00000111100000\n",
    "           11111101111110\n",
    "           11011101101110\n",
    "           11011101100000\n",
    "           11011111111111\n",
    "           11011111111100\n",
    "           11000000011111\n",
    "           01111111111111\n",
    "           00000000011111\n",
    "           01111111111000\n",
    "           00011111111000\n",
    "           00000001111000\n",
    "           11111111110011\n",
    "           11100011111111\n",
    "           11100011111111\n",
    "\n",
    "#### 출력 예시\n",
    "\n",
    "    Out [1] 3\n",
    "\n",
    "    Out [2] 8"
   ]
  },
  {
   "cell_type": "markdown",
   "id": "6de779f1",
   "metadata": {},
   "source": [
    "#### 풀이\n",
    "    첫번째 지점 (0, 0)에서부터 시작하며 현재 위치가 0인 곳은 아직 방문하지 않은 곳이며 1은 방문한 곳으로 생각하자. \n",
    "    dfs 함수에서는 먼저 현재 지점에서 이동할 수 없는 부분을 예외처리 해준다.\n",
    "    현재 위치가 1인 경우 False를 출력하여 다음 좌표로 넘어간다.\n",
    "    0일 경우 이제 방문한 곳이 되었기 때문에 1로 만들어 주고, 이후 현재 위치에서 상하좌우를 dfs 함수를 이용하여 재귀적으로 탐색한다.\n",
    "    \n",
    "    지나갈 수 있는 모든 곳을 방문했을 때 (상하좌우가 모두 False를 출력했을 때) True를 출력하여 result 값에 1을 더해준다."
   ]
  },
  {
   "cell_type": "code",
   "execution_count": 7,
   "id": "32bf3d3c",
   "metadata": {},
   "outputs": [
    {
     "name": "stdout",
     "output_type": "stream",
     "text": [
      "4 5\n",
      "00110\n",
      "00011\n",
      "11111\n",
      "00000\n"
     ]
    },
    {
     "data": {
      "text/plain": [
       "3"
      ]
     },
     "execution_count": 7,
     "metadata": {},
     "output_type": "execute_result"
    }
   ],
   "source": [
    "def IceTray(N: int, M: int, graph: list) -> int:\n",
    "    result = 0\n",
    "    \n",
    "    def dfs(x, y):        \n",
    "        # 예외처리\n",
    "        if x <= -1 or x >= N or y <= -1 or y >= M:\n",
    "            return False\n",
    "                \n",
    "        if graph[x][y] == 0:\n",
    "            graph[x][y] = 1\n",
    "            \n",
    "            dfs(x-1, y)\n",
    "            dfs(x, y-1)\n",
    "            dfs(x+1, y)\n",
    "            dfs(x, y+1)            \n",
    "            return True\n",
    "        return False\n",
    "            \n",
    "    for i in range(N):\n",
    "        for j in range(M):\n",
    "            if dfs(i, j) == True:\n",
    "                result += 1\n",
    "                \n",
    "    return result\n",
    "\n",
    "N, M = map(int, input().split())\n",
    "graph = [list(map(int, input())) for _ in range(N)]\n",
    "\n",
    "IceTray(N, M, graph)"
   ]
  },
  {
   "cell_type": "code",
   "execution_count": 8,
   "id": "2c72f332",
   "metadata": {
    "scrolled": true
   },
   "outputs": [
    {
     "name": "stdout",
     "output_type": "stream",
     "text": [
      "15 14\n",
      "00000111100000\n",
      "11111101111110\n",
      "11011101101110\n",
      "11011101100000\n",
      "11011111111111\n",
      "11011111111100\n",
      "11000000011111\n",
      "01111111111111\n",
      "00000000011111\n",
      "01111111111000\n",
      "00011111111000\n",
      "00000001111000\n",
      "11111111110011\n",
      "11100011111111\n",
      "11100011111111\n"
     ]
    },
    {
     "data": {
      "text/plain": [
       "8"
      ]
     },
     "execution_count": 8,
     "metadata": {},
     "output_type": "execute_result"
    }
   ],
   "source": [
    "N, M = map(int, input().split())\n",
    "graph = [list(map(int, input())) for _ in range(N)]\n",
    "\n",
    "IceTray(N, M, graph)"
   ]
  },
  {
   "cell_type": "markdown",
   "id": "485cdcac",
   "metadata": {},
   "source": [
    "#### 문제 참고\n",
    "    이것이 취업을 위한 코딩 테스트다 with 파이썬"
   ]
  }
 ],
 "metadata": {
  "kernelspec": {
   "display_name": "Python 3",
   "language": "python",
   "name": "python3"
  },
  "language_info": {
   "codemirror_mode": {
    "name": "ipython",
    "version": 3
   },
   "file_extension": ".py",
   "mimetype": "text/x-python",
   "name": "python",
   "nbconvert_exporter": "python",
   "pygments_lexer": "ipython3",
   "version": "3.8.8"
  }
 },
 "nbformat": 4,
 "nbformat_minor": 5
}
