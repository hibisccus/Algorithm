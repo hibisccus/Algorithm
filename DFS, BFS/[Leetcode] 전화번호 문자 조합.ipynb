{
 "cells": [
  {
   "cell_type": "markdown",
   "metadata": {},
   "source": [
    "## 17. 전화번호 문자 조합     \n",
    "Leetcode link: [Letter Combinations of a Phone Number](https://leetcode.com/problems/letter-combinations-of-a-phone-number/)\n",
    "\n",
    "#### 문제\n",
    "\n",
    "    2에서 9까지 숫자가 주어졌을 때 전화번호로 조합 가능한 모든 문자를 출력하라.\n",
    "    \n",
    "    Given a string containing digits from 2-9 inclusive, return all possible letter combinations that the number could represent. Return the answer in any order.\n",
    "    A mapping of digits to letters (just like on the telephone buttons) is given below. Note that 1 does not map to any letters.\n",
    "    \n",
    "&nbsp;<img src=\"https://assets.leetcode.com/uploads/2022/03/15/1200px-telephone-keypad2svg.png\" style=\"width: 400px; height:auto;\">\n",
    "    \n",
    "#### 입력 예시\n",
    "\n",
    "    Input [1]: digits = \"23\"\n",
    "    \n",
    "    Input [2]: digits = \"\"\n",
    "    \n",
    "#### 출력 예시\n",
    "    \n",
    "    Output [1]: [\"ad\",\"ae\",\"af\",\"bd\",\"be\",\"bf\",\"cd\",\"ce\",\"cf\"]\n",
    "    \n",
    "    Output [2]: []\n",
    "    \n",
    "#### 설명\n",
    "\n",
    "    2는 abc, 3은 def가 가능하므로 각각 한 문자씩 9개의 문자로 조합 가능하다.\n",
    "    입력받은 숫자가 없는 경우 빈 리스트로 출력한다."
   ]
  },
  {
   "cell_type": "markdown",
   "metadata": {},
   "source": [
    "#### 풀이\n",
    "\n",
    "    입력값을 받아 각 자리수에 해당하는 알파벳을 DFS로 탐색한다.\n",
    "    a > ad > a > ae > a > af > b > ...\n",
    "    이 순으로 백트래킹하여 문자를 조합한다.\n",
    "    입력값의 길이와 조합한 문자의 길이가 같을 것이므로, 조건문을 이용하여 해당 조건을 만족하면 결과 리스트에 추가한다."
   ]
  },
  {
   "cell_type": "code",
   "execution_count": 8,
   "metadata": {},
   "outputs": [
    {
     "data": {
      "text/plain": [
       "['ad', 'ae', 'af', 'bd', 'be', 'bf', 'cd', 'ce', 'cf']"
      ]
     },
     "execution_count": 8,
     "metadata": {},
     "output_type": "execute_result"
    }
   ],
   "source": [
    "# 전화 번호 문자 조합\n",
    "def letterCombinations(digits: str) -> list:        \n",
    "    number = {\n",
    "        '2': 'abc',\n",
    "        '3': 'def',\n",
    "        '4': 'ghi',\n",
    "        '5': 'jkl',\n",
    "        '6': 'mno',\n",
    "        '7': 'pqrs',\n",
    "        '8': 'tuv',\n",
    "        '9': 'wxyz'\n",
    "    }\n",
    "    \n",
    "    result = [] \n",
    "    \n",
    "    if not digits:\n",
    "        return result\n",
    "    \n",
    "    def dfs(index, path):\n",
    "        if len(path) == len(digits):\n",
    "            result.append(path)\n",
    "            return\n",
    "        \n",
    "        for i in range(index, len(digits)):\n",
    "            for j in number[digits[i]]:\n",
    "                dfs(i + 1, path + j)\n",
    "    \n",
    "    dfs(0, \"\")    \n",
    "    \n",
    "    return result\n",
    "    \n",
    "digits = \"23\"\n",
    "letterCombinations(digits)"
   ]
  },
  {
   "cell_type": "code",
   "execution_count": 9,
   "metadata": {
    "scrolled": true
   },
   "outputs": [
    {
     "data": {
      "text/plain": [
       "[]"
      ]
     },
     "execution_count": 9,
     "metadata": {},
     "output_type": "execute_result"
    }
   ],
   "source": [
    "digits = \"\"\n",
    "letterCombinations(digits)"
   ]
  }
 ],
 "metadata": {
  "kernelspec": {
   "display_name": "Python 3",
   "language": "python",
   "name": "python3"
  },
  "language_info": {
   "codemirror_mode": {
    "name": "ipython",
    "version": 3
   },
   "file_extension": ".py",
   "mimetype": "text/x-python",
   "name": "python",
   "nbconvert_exporter": "python",
   "pygments_lexer": "ipython3",
   "version": "3.8.5"
  }
 },
 "nbformat": 4,
 "nbformat_minor": 4
}
