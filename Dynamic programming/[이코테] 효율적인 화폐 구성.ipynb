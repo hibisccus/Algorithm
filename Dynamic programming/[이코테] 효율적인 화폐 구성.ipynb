{
 "cells": [
  {
   "cell_type": "markdown",
   "id": "94970494",
   "metadata": {},
   "source": [
    "## 효율적인 화폐 구성\n",
    "\n",
    "#### 문제\n",
    "    N가지 종류의 화폐가 있다. 이 화폐들의 개수를 최소한으로 이용해서 그 가치의 합이 M원이 되도록 하려고 한다. 이때 각 화폐는 몇 개라도 사용할 수 있으며, 사용한 화폐의 구성은 같지만 순서만 다른 것은 같은 경우로 구분한다. \n",
    "    예를 들어 2원, 3원 단위의 화폐가 있을 때는 15원을 만들기 위해 3원을 5개 사용하는 것이 가장 최소한의 화폐 개수이다.\n",
    "\n",
    "#### 입력 조건\n",
    "    첫째 줄에 N,M이 주어진다(1<= N <= 100, 1<= M <= 10,000)\n",
    "    이후의 N개의 줄에는 각 화폐의 가치가 주어진다. 화폐의 가치는 10,000보다 작거나 같은 자연수이다.\n",
    "\n",
    "#### 출력 조건\n",
    "    첫째 줄에 경우의 수 X를 출력한다.(불가능할 때는 -1을 출력한다)"
   ]
  },
  {
   "cell_type": "markdown",
   "id": "e1d37d8d",
   "metadata": {},
   "source": [
    "#### 입력 예시\n",
    "\n",
    "    In [1] 2 15\n",
    "           2\n",
    "           3\n",
    "           \n",
    "#### 출력 예시\n",
    "\n",
    "    Out [1] 5"
   ]
  },
  {
   "cell_type": "code",
   "execution_count": 1,
   "id": "d65e22c7",
   "metadata": {},
   "outputs": [
    {
     "name": "stdout",
     "output_type": "stream",
     "text": [
      "2 15\n",
      "2\n",
      "3\n"
     ]
    },
    {
     "data": {
      "text/plain": [
       "5"
      ]
     },
     "execution_count": 1,
     "metadata": {},
     "output_type": "execute_result"
    }
   ],
   "source": [
    "def MoneyCompose(N: int, M: int, lst: list) -> int:\n",
    "    d = [10001] * (M + 1)    \n",
    "    d[0] = 0\n",
    "    \n",
    "    for n in range(N):\n",
    "        for m in range(lst[n], M+1):\n",
    "            if d[m - lst[n]] != 10001:\n",
    "                d[m] = min(d[m], d[m - lst[n]] + 1)\n",
    "                \n",
    "    if d[m] == 10001:\n",
    "        return -1\n",
    "    else:\n",
    "        return d[m]\n",
    "    \n",
    "N, M = map(int, input().split())\n",
    "lst = [int(input()) for _ in range(N)]\n",
    "\n",
    "MoneyCompose(N, M, lst)"
   ]
  },
  {
   "cell_type": "code",
   "execution_count": 2,
   "id": "0a09ae54",
   "metadata": {},
   "outputs": [
    {
     "name": "stdout",
     "output_type": "stream",
     "text": [
      "3 4\n",
      "3\n",
      "5\n",
      "7\n"
     ]
    },
    {
     "data": {
      "text/plain": [
       "-1"
      ]
     },
     "execution_count": 2,
     "metadata": {},
     "output_type": "execute_result"
    }
   ],
   "source": [
    "N, M = map(int, input().split())\n",
    "lst = [int(input()) for _ in range(N)]\n",
    "\n",
    "MoneyCompose(N, M, lst)"
   ]
  },
  {
   "cell_type": "markdown",
   "id": "6f5658ee",
   "metadata": {},
   "source": [
    "#### 문제 참고\n",
    "    이것이 취업을 위한 코딩 테스트다 with 파이썬"
   ]
  }
 ],
 "metadata": {
  "kernelspec": {
   "display_name": "Python 3",
   "language": "python",
   "name": "python3"
  },
  "language_info": {
   "codemirror_mode": {
    "name": "ipython",
    "version": 3
   },
   "file_extension": ".py",
   "mimetype": "text/x-python",
   "name": "python",
   "nbconvert_exporter": "python",
   "pygments_lexer": "ipython3",
   "version": "3.8.8"
  }
 },
 "nbformat": 4,
 "nbformat_minor": 5
}
