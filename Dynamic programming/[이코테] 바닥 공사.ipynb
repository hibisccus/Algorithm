{
 "cells": [
  {
   "cell_type": "markdown",
   "id": "f65d3c05",
   "metadata": {},
   "source": [
    "## 바닥 공사\n",
    "\n",
    "#### 문제\n",
    "    가로의 길이가 N, 세로의 길이가 2인 직사각형 형태의 얇은 바닥이 있다.\n",
    "    태일이는 이 얇은 바닥을 1 X 2의 덮개, 2 X 1의 덮개, 2 X 2의 덮개를 이용해 채우고자 한다.\n",
    "    이 때 바닥을 채우는 모든 경우의 수를 구하는 프로그램을 작성하시오.\n",
    "\n",
    "#### 입력 조건\n",
    "    첫째 줄에 N이 주어진다. (1 ≤ N ≤ 1,000)\n",
    "\n",
    "#### 출력 조건\n",
    "    첫째 줄에 N이 1이 될 때까지 1번 혹은 2번의 과정을 수행해야 하는 최솟값을 출력한다.첫째 줄에 2 X N 크기의 바닥을 채우는 방법의 수를 796,796으로 나눈 나머지를 출력한다."
   ]
  },
  {
   "cell_type": "markdown",
   "id": "91f02914",
   "metadata": {},
   "source": [
    "#### 입력 예시\n",
    "\n",
    "    In [1] 3\n",
    "    In [2] 4\n",
    "    \n",
    "#### 출력 예시\n",
    "\n",
    "    Out [1] 5\n",
    "    Out [2] 11"
   ]
  },
  {
   "cell_type": "markdown",
   "id": "b82dbd33",
   "metadata": {},
   "source": [
    "#### 풀이\n",
    "    가장 기본이 되는 바닥 크기인 N이 1과 2인 경우에는 값으로 할당한다. N이 3부터는 이후에는 계속 반복이 되는 구조이므로 점화식으로 구한다.\n",
    "    (n-1까지 채우는 경우의 수 d[n-1] * n번째 칸을 채우는 방법 1가지) + (n-2까지 채우는 경우의 수 d[n-2] * 맨 오른쪽 2칸을 채우는 방법 2가지)\n",
    "    바닥이 2x2일때 1x2 덮개가 2개 사용되는 경우는 바닥이 1x2일때 고려가 되기 때문에 제외한다."
   ]
  },
  {
   "cell_type": "code",
   "execution_count": 1,
   "id": "a60380c8",
   "metadata": {
    "scrolled": true
   },
   "outputs": [
    {
     "name": "stdout",
     "output_type": "stream",
     "text": [
      "3\n"
     ]
    },
    {
     "data": {
      "text/plain": [
       "5"
      ]
     },
     "execution_count": 1,
     "metadata": {},
     "output_type": "execute_result"
    }
   ],
   "source": [
    "def ConstructBottom(N: int) -> int:\n",
    "    d = [0] * (N + 1)\n",
    "    \n",
    "    d[1] = 1 # 1x2 크기의 바닥 -> 1x2 타일 1개\n",
    "    d[2] = 3 # 2x2 크기의 바닥 -> 1x2 타일 2개 or 2x1 타일 2개 or 2x2 타일 1개\n",
    "        \n",
    "    for n in range(3, N + 1):\n",
    "        d[n] = (d[n - 1] + (d[n - 2] * 2)) % 796796\n",
    "        \n",
    "    return d[N]\n",
    "    \n",
    "N = int(input())\n",
    "\n",
    "ConstructBottom(N)"
   ]
  },
  {
   "cell_type": "code",
   "execution_count": 2,
   "id": "1f06e0c2",
   "metadata": {},
   "outputs": [
    {
     "name": "stdout",
     "output_type": "stream",
     "text": [
      "4\n"
     ]
    },
    {
     "data": {
      "text/plain": [
       "11"
      ]
     },
     "execution_count": 2,
     "metadata": {},
     "output_type": "execute_result"
    }
   ],
   "source": [
    "N = int(input())\n",
    "\n",
    "ConstructBottom(N)"
   ]
  },
  {
   "cell_type": "markdown",
   "id": "8745d77c",
   "metadata": {},
   "source": [
    "#### 문제 참고\n",
    "    이것이 취업을 위한 코딩 테스트다 with 파이썬"
   ]
  }
 ],
 "metadata": {
  "kernelspec": {
   "display_name": "Python 3",
   "language": "python",
   "name": "python3"
  },
  "language_info": {
   "codemirror_mode": {
    "name": "ipython",
    "version": 3
   },
   "file_extension": ".py",
   "mimetype": "text/x-python",
   "name": "python",
   "nbconvert_exporter": "python",
   "pygments_lexer": "ipython3",
   "version": "3.8.8"
  }
 },
 "nbformat": 4,
 "nbformat_minor": 5
}
