{
 "cells": [
  {
   "cell_type": "markdown",
   "id": "dcc0dc6f",
   "metadata": {},
   "source": [
    "## 개미 전사\n",
    "\n",
    "#### 문제\n",
    "    개미전사는 부족한 식량을 충당하고자 메뚜기 마을의 식량창고를 몰래 공격하려고 한다. 메뚜기 마을에는 여러 개의 식량창고가 있는데 식량창고는 일직선으로 이어져 있다. 각 식량창고에는 정해진 수의 식량을 저장하고 있ㄷ으며 개미 전사는 식량창고를 선택적으로 약탈하여 식량을 빼앗을 예정이다. 이때 메뚜기 정찰병들은 일직선상에 존재하는 식량창고 중에서 서로 인접한 식량창고가 공격받으면 바로 알아챌 수 있다. 따라서 개미 전사가 정찰병에게 들키지 않고 식량창고를 약탈하기 위해서는 최소한 한 칸 이상 떨어진 식량창고를 약탈해야 한다. 예를 들어 식량창고 4개가 다음과 같이 존재한다고 가정하자.\n",
    "\n",
    "        {1, 3, 1, 5}\n",
    "        이때 개미 전사는 두 번째 식량창고와 네 번째 식량창고를 선택했을 때 최댓값인 총 8개의 식량을 빼앗을 수 있다. 개미 전사는 식량창고가 이렇게 일직선상일 때 최대한 많은 식량을 얻기를 원한다.\n",
    "\n",
    "    개미 전사를 위해 식량창고 N개에 대한 정보가 주어졌을 때 얻을 수 있는 식량의 최댓값을 구하는 프로그램을 작성하시오.\n",
    "\n",
    "#### 입력 조건\n",
    "    첫째 줄에 식량창고의 개수 N이 주어진다. (3<=N<=100)\n",
    "    둘째 줄에 공백으로 구분되어 각 식량창고에 저장된 식량의 개수 K가 주어진다. (0<=K<=1,000)\n",
    "\n",
    "#### 출력\n",
    "    첫째 줄에 개미 전사가 얻을 수 있는 식량의 최댓값을 출력하시오."
   ]
  },
  {
   "cell_type": "markdown",
   "id": "3aff209d",
   "metadata": {},
   "source": [
    "#### 입력 예시\n",
    "\n",
    "    In [1] 4\n",
    "           1 3 1 5\n",
    "#### 출력 예시\n",
    "\n",
    "    Out [1] 8"
   ]
  },
  {
   "cell_type": "markdown",
   "id": "c3a0480d",
   "metadata": {},
   "source": [
    "#### 풀이\n",
    "    현재 위치에서의 식량의 최댓값은 이전(-1) 위치에서의 식량의 최대값과 전전(-2) 위치에서의 식량의 최댓값 + 현재 위치에서의 식량 값 비교\n",
    "    \n",
    "    d[1] 초깃값 설정의 경우, d[0]과 d[1]의 최댓값으로 설정한다. 예를 들어 lst = [3, 1, 0, 5]의 경우를 생각해 보자. \n",
    "    이 경우 lst의 최댓값(d[3])과 그다음 큰 값(d[0])의 합인 8이 답이 되는데, 점화식을 사용할 때 한가지 오류가 생긴다.\n",
    "    d[1]의 값이 1이기 때문에 d[3]의 값은 max(d[2], d[1]+lst[3]) = max(0, 6) = 6이 되어버린다. d[0]의 값이 점화식에 적용되지 못한다.  \n",
    "    따라서 d[0]과 d[1]의 최댓값을 d[1]에 설정한다. 이 부분만 예외처리를 하면 이후 2칸 이상 떨어진 부분은 고려할 필요가 없다."
   ]
  },
  {
   "cell_type": "code",
   "execution_count": 1,
   "id": "291011e1",
   "metadata": {},
   "outputs": [
    {
     "name": "stdout",
     "output_type": "stream",
     "text": [
      "4\n",
      "1 3 1 5\n"
     ]
    },
    {
     "data": {
      "text/plain": [
       "8"
      ]
     },
     "execution_count": 1,
     "metadata": {},
     "output_type": "execute_result"
    }
   ],
   "source": [
    "def AntWarrior(N: int, lst: list) -> int:\n",
    "    d = [0] * (N + 1)\n",
    "    \n",
    "    d[0] = lst[0]\n",
    "    d[1] = max(lst[0], lst[1])\n",
    "\n",
    "    for n in range(2, N):\n",
    "        # 누적 값을 저장하는 d\n",
    "        # 해당 인덱스에서 약탈할 수 있는 식량의 최댓값이 저장된다.\n",
    "        \n",
    "        # 한칸 이상 떨어진 식량 창고를 약탈해야 한다는 조건이 있다.\n",
    "        # 한칸 떨어진 값과 두칸 떨어진 값 + 현재 값중에 큰 값을 선택한다.\n",
    "        d[n] = max(d[n-1], d[n-2] + lst[n])\n",
    "    \n",
    "    return d[N-1]\n",
    "    \n",
    "N = int(input())\n",
    "lst = list(map(int, input().split()))\n",
    "\n",
    "AntWarrior(N, lst)"
   ]
  },
  {
   "cell_type": "code",
   "execution_count": 2,
   "id": "f5722c6d",
   "metadata": {},
   "outputs": [
    {
     "name": "stdout",
     "output_type": "stream",
     "text": [
      "4\n",
      "3 1 0 5\n"
     ]
    },
    {
     "data": {
      "text/plain": [
       "8"
      ]
     },
     "execution_count": 2,
     "metadata": {},
     "output_type": "execute_result"
    }
   ],
   "source": [
    "N = int(input())\n",
    "lst = list(map(int, input().split()))\n",
    "\n",
    "AntWarrior(N, lst)"
   ]
  },
  {
   "cell_type": "markdown",
   "id": "b39a86c0",
   "metadata": {},
   "source": [
    "#### 문제 참고\n",
    "    이것이 취업을 위한 코딩 테스트다 with 파이썬"
   ]
  }
 ],
 "metadata": {
  "kernelspec": {
   "display_name": "Python 3",
   "language": "python",
   "name": "python3"
  },
  "language_info": {
   "codemirror_mode": {
    "name": "ipython",
    "version": 3
   },
   "file_extension": ".py",
   "mimetype": "text/x-python",
   "name": "python",
   "nbconvert_exporter": "python",
   "pygments_lexer": "ipython3",
   "version": "3.8.8"
  }
 },
 "nbformat": 4,
 "nbformat_minor": 5
}
