{
 "cells": [
  {
   "cell_type": "markdown",
   "metadata": {},
   "source": [
    "## 78. 부분 집합    \n",
    "Leetcode link: [Subsets](https://leetcode.com/problems/subsets/)\n",
    "\n",
    "#### 문제\n",
    "\n",
    "    모든 부분 집합을 리턴하라.\n",
    "    \n",
    "    Given an integer array nums of unique elements, return all possible subsets (the power set). \n",
    "    The solution set must not contain duplicate subsets. Return the solution in any order.\n",
    "    \n",
    "#### 입력 예시\n",
    "\n",
    "    Input [1]: nums = [1,2,3]\n",
    "    \n",
    "    Input [2]: nums = [0]\n",
    "    \n",
    "#### 출력 예시\n",
    "    \n",
    "    Output [1]: [[],[1],[2],[1,2],[3],[1,3],[2,3],[1,2,3]]\n",
    "    \n",
    "    Output [2]: [[], [0]]"
   ]
  },
  {
   "cell_type": "code",
   "execution_count": 1,
   "metadata": {},
   "outputs": [
    {
     "data": {
      "text/plain": [
       "[[], [1], [1, 2], [1, 2, 3], [1, 3], [2], [2, 3], [3]]"
      ]
     },
     "execution_count": 1,
     "metadata": {},
     "output_type": "execute_result"
    }
   ],
   "source": [
    "# 부분 집합\n",
    "def subsets(nums: list) -> list:\n",
    "    results = []\n",
    "    \n",
    "    def dfs(elements, index):\n",
    "        results.append(elements)\n",
    "        \n",
    "        for i in range(index, len(nums)):\n",
    "            dfs(elements + [nums[i]], i + 1)\n",
    "    \n",
    "    dfs([], 0)\n",
    "    return results\n",
    "    \n",
    "nums = [1, 2, 3]\n",
    "subsets(nums)"
   ]
  },
  {
   "cell_type": "code",
   "execution_count": 2,
   "metadata": {},
   "outputs": [
    {
     "data": {
      "text/plain": [
       "[[], [0]]"
      ]
     },
     "execution_count": 2,
     "metadata": {},
     "output_type": "execute_result"
    }
   ],
   "source": [
    "nums = [0]\n",
    "subsets(nums)"
   ]
  }
 ],
 "metadata": {
  "kernelspec": {
   "display_name": "Python 3",
   "language": "python",
   "name": "python3"
  },
  "language_info": {
   "codemirror_mode": {
    "name": "ipython",
    "version": 3
   },
   "file_extension": ".py",
   "mimetype": "text/x-python",
   "name": "python",
   "nbconvert_exporter": "python",
   "pygments_lexer": "ipython3",
   "version": "3.8.5"
  }
 },
 "nbformat": 4,
 "nbformat_minor": 4
}
