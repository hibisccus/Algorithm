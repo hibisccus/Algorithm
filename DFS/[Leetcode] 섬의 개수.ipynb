{
 "cells": [
  {
   "cell_type": "markdown",
   "metadata": {},
   "source": [
    "## 200. 섬의 개수     \n",
    "Leetcode link: [Number of Islands](https://leetcode.com/problems/number-of-islands/)\n",
    "\n",
    "#### 문제\n",
    "\n",
    "    1을 육지로, 0을 물로 가정한 2D 그리드 맵이 주어졌을 때, 섬의 개수를 계산하라.\n",
    "    (연결되어 있는 1의 덩어리 개수를 구하라)\n",
    "    \n",
    "    Given an m x n 2D binary grid grid which represents a map of '1's (land) and '0's (water), return the number of islands.\n",
    "    An island is surrounded by water and is formed by connecting adjacent lands horizontally or vertically. You may assume all four edges of the grid are all surrounded by water.\n",
    "    \n",
    "#### 입력 예시\n",
    "\n",
    "    Input: grid = [\n",
    "      [\"1\",\"1\",\"1\",\"1\",\"0\"],\n",
    "      [\"1\",\"1\",\"0\",\"1\",\"0\"],\n",
    "      [\"1\",\"1\",\"0\",\"0\",\"0\"],\n",
    "      [\"0\",\"0\",\"0\",\"0\",\"0\"]\n",
    "    ]\n",
    "    \n",
    "#### 출력 예시\n",
    "    \n",
    "    Output: 1"
   ]
  },
  {
   "cell_type": "markdown",
   "metadata": {},
   "source": [
    "#### 풀이\n",
    "    \n",
    "    동서남북이 모두 연결된 그래프로 가정하고 동일한 형태로 처리할 수 있으며, 네 방향 각각 DFS 재귀를 이용해 탐색을 끝마치면 1이 증가하는 형태로 육지의 개수를 파악할 수 있다.\n",
    "    해당 위치에 도달하면 0으로 설정하여 육지가 아닌 것으로 만들면 이후 재방문하지 않는다."
   ]
  },
  {
   "cell_type": "code",
   "execution_count": 1,
   "metadata": {},
   "outputs": [
    {
     "data": {
      "text/plain": [
       "1"
      ]
     },
     "execution_count": 1,
     "metadata": {},
     "output_type": "execute_result"
    }
   ],
   "source": [
    "# 섬의 개수\n",
    "def numIslands(grid: list) -> int:\n",
    "    if not grid:\n",
    "        return 0\n",
    "    \n",
    "    count = 0\n",
    "    \n",
    "    def dfs(i, j):\n",
    "        if i < 0 or i >= len(grid) or j < 0 or j >= len(grid[0]) or grid[i][j] != '1':\n",
    "            return\n",
    "            \n",
    "        grid[i][j] = 0\n",
    "            \n",
    "        dfs(i - 1, j)\n",
    "        dfs(i + 1, j)\n",
    "        dfs(i, j - 1)\n",
    "        dfs(i, j + 1)\n",
    "    \n",
    "    for i in range(len(grid)):\n",
    "        for j in range(len(grid[0])):\n",
    "            if grid[i][j] == '1':\n",
    "                dfs(i, j)\n",
    "                count += 1\n",
    "                       \n",
    "    return count\n",
    "    \n",
    "grid = [[\"1\",\"1\",\"1\",\"1\",\"0\"],\n",
    "        [\"1\",\"1\",\"0\",\"1\",\"0\"],\n",
    "        [\"1\",\"1\",\"0\",\"0\",\"0\"],\n",
    "        [\"0\",\"0\",\"0\",\"0\",\"0\"]]\n",
    "                       \n",
    "numIslands(grid)"
   ]
  }
 ],
 "metadata": {
  "kernelspec": {
   "display_name": "Python 3",
   "language": "python",
   "name": "python3"
  },
  "language_info": {
   "codemirror_mode": {
    "name": "ipython",
    "version": 3
   },
   "file_extension": ".py",
   "mimetype": "text/x-python",
   "name": "python",
   "nbconvert_exporter": "python",
   "pygments_lexer": "ipython3",
   "version": "3.8.5"
  }
 },
 "nbformat": 4,
 "nbformat_minor": 4
}
