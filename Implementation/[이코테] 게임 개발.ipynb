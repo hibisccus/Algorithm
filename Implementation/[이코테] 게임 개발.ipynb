{
 "cells": [
  {
   "cell_type": "markdown",
   "id": "0fe6fabc",
   "metadata": {},
   "source": [
    "## 게임 개발\n",
    "\n",
    "#### 문제\n",
    "    현민이는 게임 캐릭터가 맵 안에서 움직이는 시스템을 개발 중이다. 캐릭터가 있는 장소는 1 X 1 크기의 정사각형으로 이뤄진 N X M 크기의 직사각형으로, 각각의 칸은 육지 또는 바다이다. 캐릭터는 동서남북 중 한 곳을 바라본다.\n",
    "\n",
    "    맵의 각 칸은 (A, B)로 나타낼 수 있고, A는 북쪽으로부터 떨어진 칸의 개수, B는 서쪽으로부터 떨어진 칸의 개수이다. 캐릭터는 상하좌우로 움직일 수 있고, 바다로 되어 있는 공간에는 갈 수 없다. 캐릭터의 움직임을 설정하기 위해 정해 놓은 매뉴얼은 이러하다.\n",
    "\n",
    "    1. 현재 위치에서 현재 방향을 기준으로 왼쪽 방향(반시계 방향으로 90도 회전한 방향)부터 차례대로 갈 곳을 정한다.\n",
    "    2. 캐릭터의 바로 왼쪽 방향에 아직 가보지 않은 칸이 존재한다면, 왼쪽 방향으로 횐전한 다음 왼쪽으로 한 칸을 전진한다. 왼쪽 방향에 가보지 않은 칸이 없다면, 왼쪽 방향으로 회전만 수행하고 1단계로 돌아간다.\n",
    "    3. 만약 네 방향 모두 이미 가본 칸이거나 바다로 되어 있는 칸인 경우에는, 바라보는 방향을 유지한 채로 한 칸 뒤로 가고 1단계로 돌아간다. 단, 이때 뒤쪽 방향이 바다인 칸이라 뒤로 갈 수 없는 경우에는 움직임을 멈춘다.\n",
    "\n",
    "    현민이는 위 과정을 반복적으로 수행하면서 캐릭터의 움직임에 이상이 있는지 테스트하려고 한다. 메뉴얼에 따라 캐릭터를 이동시킨 뒤에, 캐릭터가 방문한 칸의 수를 출력하는 프로그램을 만드시오.\n",
    "\n",
    "#### 입력 조건\n",
    "    첫째 줄에 맵의 세로 크기 N과 가로 크기 M을 공백으로 구분하여 입력한다. (3 <= N, M <= 50)\n",
    "\n",
    "    둘째 줄에 게임 캐릭터가 있는 칸의 좌표 (A, B)와 바라보는 방햔 d가 각각 서로 공백으로 구분하여 주어진다. 방향 d의 값으로는 다음과 같이 4가지가 존재한다.\n",
    "\n",
    "        0 : 북쪽\n",
    "        1 : 동쪽\n",
    "        2 : 남쪽\n",
    "        3 : 서쪽\n",
    "\n",
    "    셋째 줄부터 맵이 육지인지 바다인지에 대한 정보가 주어진다. N개의 줄에 맵의 상태가 북쪽부터 남쪽 순서대로, 각 줄의 데이터는 서쪽부터 동쪽 순서대로 주어진다. 맵의 외각은 항상 바다로 되어 있다.\n",
    "\n",
    "        0 : 육지\n",
    "        1 : 바다\n",
    "        \n",
    "    처음에 게임 캐릭터가 위치한 칸의 상태는 항상 육지이다.\n",
    "\n",
    "#### 출력 조건\n",
    "    첫째 줄에 이동을 마친 후 캐릭터가 방문한 칸의 수를 출력한다."
   ]
  },
  {
   "cell_type": "markdown",
   "id": "90ca38a9",
   "metadata": {},
   "source": [
    "#### 입력 예시\n",
    "    In [1] 4 4\n",
    "           1 1 0 \n",
    "           1 1 1 1\n",
    "           1 0 0 1\n",
    "           1 1 0 1\n",
    "           1 1 1 1\n",
    "\n",
    "#### 출력 예시\n",
    "    Out [1] 3"
   ]
  },
  {
   "cell_type": "markdown",
   "id": "2fd26fc2",
   "metadata": {},
   "source": [
    "#### 풀이\n",
    "    이동할 방향은 북동남서 순이다. 회전하면서 한칸씩 앞에 있는 곳을 체크할 것이므로 x, y 각 방향에 맞는 이동 거리를 리스트로 만들어서\n",
    "    기존 x, y값에 더해주는 방식을 취한다. 한번 들러본 좌표값은 0에서 1로 변경해 준다.\n",
    "    \n",
    "    3번 조건 중 이동할 부분이 없는 경우 \"바다가 아닌 이상\" 무조건 한칸 뒤로 간다는 조건 때문에 입력 리스트의 좌표값을 직접 변경시키는 것은 X\n",
    "    입력받은 리스트와 같은 크기의 리스트를 하나 더 만들어서 그 리스트의 좌표값을 변경하고 조건문에 추가해주는 방법을 사용한다.\n",
    "    \n",
    "    turn() 함수는 단순히 방향만 바꾸어주는 역할을 하므로, 가본 방향의 체크를 하기 위해 turn_time 변수를 하나 추가하여 이후 조건문에서\n",
    "    네 방향 모두 가본 칸인지 체크할 수 있어야 한다."
   ]
  },
  {
   "cell_type": "code",
   "execution_count": 18,
   "id": "02c64214",
   "metadata": {},
   "outputs": [
    {
     "name": "stdout",
     "output_type": "stream",
     "text": [
      "4 4\n",
      "1 1 0\n",
      "1 1 1 1\n",
      "1 0 0 1\n",
      "1 1 0 1\n",
      "1 1 1 1\n"
     ]
    },
    {
     "data": {
      "text/plain": [
       "3"
      ]
     },
     "execution_count": 18,
     "metadata": {},
     "output_type": "execute_result"
    }
   ],
   "source": [
    "def DevelopGame(N: int, M: int, x: int, y: int, direction: int, coord: list) -> int:\n",
    "    \n",
    "    dx = [-1, 0, 1, 0]\n",
    "    dy = [0, -1, 0, 1]    \n",
    "    d = [[0] * M for _ in range(N)]\n",
    "    d[x][y] = 1\n",
    "    \n",
    "    count = 1\n",
    "    turn_time = 0\n",
    "    \n",
    "    def turn():\n",
    "        nonlocal direction\n",
    "        direction += 1\n",
    "        if direction > 3:\n",
    "            direction = 0 \n",
    "        \n",
    "    while True:        \n",
    "        turn()\n",
    "        nx = x + dx[direction]\n",
    "        ny = y + dy[direction]\n",
    "\n",
    "        if d[nx][ny] == 0 and coord[nx][ny] == 0:\n",
    "            d[nx][ny] = 1\n",
    "            x, y = nx, ny\n",
    "            count += 1\n",
    "            turn_time = 0\n",
    "            continue\n",
    "            \n",
    "        else:\n",
    "            turn_time += 1\n",
    "            \n",
    "        if turn_time == 4:\n",
    "            nx = x - dx[direction]\n",
    "            ny = y - dy[direction]\n",
    "            \n",
    "            if coord[nx][ny] == 0:\n",
    "                x, y = nx, ny\n",
    "            else:\n",
    "                break\n",
    "            turn_time = 0\n",
    "    \n",
    "    return count\n",
    "\n",
    "N, M = map(int, input().split())\n",
    "x, y, d = map(int, input().split())\n",
    "coord = [list(map(int, input().split())) for _ in range(N)]\n",
    "\n",
    "DevelopGame(N, M, x, y, direction, coord)"
   ]
  },
  {
   "cell_type": "markdown",
   "id": "3c6bc372",
   "metadata": {},
   "source": [
    "#### 문제 참고\n",
    "    이것이 취업을 위한 코딩 테스트다 with 파이썬"
   ]
  }
 ],
 "metadata": {
  "kernelspec": {
   "display_name": "Python 3",
   "language": "python",
   "name": "python3"
  },
  "language_info": {
   "codemirror_mode": {
    "name": "ipython",
    "version": 3
   },
   "file_extension": ".py",
   "mimetype": "text/x-python",
   "name": "python",
   "nbconvert_exporter": "python",
   "pygments_lexer": "ipython3",
   "version": "3.8.8"
  }
 },
 "nbformat": 4,
 "nbformat_minor": 5
}
