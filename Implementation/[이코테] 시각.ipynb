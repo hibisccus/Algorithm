{
 "cells": [
  {
   "cell_type": "markdown",
   "id": "ca381901",
   "metadata": {},
   "source": [
    "## 시각\n",
    "\n",
    "#### 문제\n",
    "    정수 N이 입력되면 00시 00분 00초부터 N시 59분 59초까지의 모든 시각 중에서 3이 하나라도 포함되는 모든 경우의 수를 구하는 프로그램을 작성하라. 예를 들어 1을 입력했을 때 다음은 3이 하나라도 포함되어 있으므로 세어야 하는 시각이다\n",
    "\n",
    "        00시 00분 03초\n",
    "        00시 13분 30초\n",
    "    \n",
    "    반면에 다음은 3이 하나도 포함되어 있지 않으므로 세면 안 되는 시각이다.\n",
    "\n",
    "        00시 02분 55초\n",
    "        01시 27분 45초\n",
    "\n",
    "#### 입력 조건\n",
    "    첫째 줄에 정수 N이 입력된다.(0<=N<=23)\n",
    "\n",
    "#### 출력 조건\n",
    "    00시 00분 00초부터 N시 59분 59초까지의 모든 시각 중에서 3이 하나라도 포함되는 모든 경우의 수를 출력한다."
   ]
  },
  {
   "cell_type": "markdown",
   "id": "7b463e13",
   "metadata": {},
   "source": [
    "#### 입력 예시\n",
    "    In [1] 5\n",
    "\n",
    "#### 출력 예시\n",
    "    Out [1] 11475"
   ]
  },
  {
   "cell_type": "markdown",
   "id": "93f2778d",
   "metadata": {},
   "source": [
    "#### 풀이\n",
    "    완전 탐색 문제로서, 처음부터 하나씩 3이 포함되어 있는지 체크하면 된다. "
   ]
  },
  {
   "cell_type": "code",
   "execution_count": 1,
   "id": "f3e7d66d",
   "metadata": {},
   "outputs": [
    {
     "name": "stdout",
     "output_type": "stream",
     "text": [
      "5\n"
     ]
    },
    {
     "data": {
      "text/plain": [
       "11475"
      ]
     },
     "execution_count": 1,
     "metadata": {},
     "output_type": "execute_result"
    }
   ],
   "source": [
    "def clock(N: int) -> int:\n",
    "    count = 0\n",
    "    \n",
    "    for h in range(N+1):\n",
    "        for m in range(60):\n",
    "            for s in range(60):\n",
    "                if '3' in str(h) + str(m) + str(s):\n",
    "                    count += 1\n",
    "                    \n",
    "    return count\n",
    "    \n",
    "N = int(input())\n",
    "clock(N)"
   ]
  },
  {
   "cell_type": "markdown",
   "id": "4b77757a",
   "metadata": {},
   "source": [
    "#### 문제 참고\n",
    "    이것이 취업을 위한 코딩 테스트다 with 파이썬"
   ]
  }
 ],
 "metadata": {
  "kernelspec": {
   "display_name": "Python 3",
   "language": "python",
   "name": "python3"
  },
  "language_info": {
   "codemirror_mode": {
    "name": "ipython",
    "version": 3
   },
   "file_extension": ".py",
   "mimetype": "text/x-python",
   "name": "python",
   "nbconvert_exporter": "python",
   "pygments_lexer": "ipython3",
   "version": "3.8.8"
  }
 },
 "nbformat": 4,
 "nbformat_minor": 5
}
