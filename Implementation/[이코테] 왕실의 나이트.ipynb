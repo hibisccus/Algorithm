{
 "cells": [
  {
   "cell_type": "markdown",
   "id": "2641e2ea",
   "metadata": {},
   "source": [
    "## 왕실의 나이트\n",
    "\n",
    "#### 문제\n",
    "    행복 왕국의 왕실 정원은 체스판과 같은 8 × 8 좌표 평면이다. 왕실 정원의 특정한 한 칸에 나이트가 서 있다.\n",
    "    나이트는 매우 충성스러운 신하로서 매일 무술을 연마한다.\n",
    "    나이트는 말을 타고 있기 때문에 이동을 할 때는 L자 형태로만 이동할 수 있으며 정원 밖으로는 나갈 수 없다.\n",
    "    나이트는 특정 위치에서 다음과 같은 2가지 경우로 이동할 수 있다.\n",
    "\n",
    "        1. 수평으로 두 칸 이동한 뒤에 수직으로 한 칸 이동하기\n",
    "        2. 수직으로 두 칸 이동한 뒤에 수평으로 한 칸 이동하기\n",
    "        \n",
    "![img1](https://velog.velcdn.com/images%2Fsuzieep%2Fpost%2Fc01d7972-7c64-400b-a07c-664bb10ebc88%2Fimage.png)\n",
    "\n",
    "    이처럼 8 × 8 좌표 평면상에서 나이트의 위치가 주어졌을 때 나이트가 이동할 수 있는 경우의 수를 출력하는 프로그램을 작성하라. \n",
    "    왕실의 정원에서 행 위치를 표현할 때는 1부터 8로 표현하며, 열 위치를 표현할 때는 a 부터 h로 표현한다.\n",
    "\n",
    "#### 입력 조건\n",
    "    첫째 줄에 8x8 좌표 평면상에서 현재 나이트가 위치한 곳의 좌표를 나타내는 두 문자로 구성된 문자열이 입력된다. 입력 문자는 a1 처럼 열과 행으로 이뤄진다.\n",
    "\n",
    "#### 출력 조건\n",
    "    첫째 줄에 나이트가 이동할 수 있는 경우의 수를 출력하시오."
   ]
  },
  {
   "cell_type": "markdown",
   "id": "b72f7eaf",
   "metadata": {},
   "source": [
    "#### 입력 예시\n",
    "    In [1] a1\n",
    "\n",
    "#### 출력 예시\n",
    "    Out [1] 2"
   ]
  },
  {
   "cell_type": "markdown",
   "id": "d004dafb",
   "metadata": {},
   "source": [
    "#### 풀이\n",
    "    2가지의 모든 이동 경로를 리스트에 저장하여, 현재 위치에 더해 해당 좌표 평면에 있는지 확인하면 된다.\n",
    "    현재 위치에서 이동이 불가능한 지점은 예외 처리를 해준다."
   ]
  },
  {
   "cell_type": "code",
   "execution_count": 1,
   "id": "9fc2a0b5",
   "metadata": {},
   "outputs": [
    {
     "name": "stdout",
     "output_type": "stream",
     "text": [
      "a1\n"
     ]
    },
    {
     "data": {
      "text/plain": [
       "2"
      ]
     },
     "execution_count": 1,
     "metadata": {},
     "output_type": "execute_result"
    }
   ],
   "source": [
    "def KnightOfKingdom(pos: str):\n",
    "    x = int(pos[-1])\n",
    "    y = int(ord(pos[0])) - int(ord('a')) + 1\n",
    "    steps = [(2, 1), (2, -1), (-2, 1), (-2, -1),\n",
    "               (1, 2), (1, -2), (-1, 2), (-1, -2)]\n",
    "    \n",
    "    result = 0\n",
    "    for step in steps:\n",
    "        nx = x + step[0]\n",
    "        ny = y + step[-1]\n",
    "        \n",
    "        if nx >= 1 and ny >= 1 and nx <= 8 and ny <= 8:\n",
    "            result += 1\n",
    "            \n",
    "    return result\n",
    "\n",
    "pos = input()\n",
    "KnightOfKingdom(pos)"
   ]
  },
  {
   "cell_type": "code",
   "execution_count": 2,
   "id": "bbfe1ce4",
   "metadata": {},
   "outputs": [
    {
     "name": "stdout",
     "output_type": "stream",
     "text": [
      "c2\n"
     ]
    },
    {
     "data": {
      "text/plain": [
       "6"
      ]
     },
     "execution_count": 2,
     "metadata": {},
     "output_type": "execute_result"
    }
   ],
   "source": [
    "pos = input()\n",
    "KnightOfKingdom(pos)"
   ]
  },
  {
   "cell_type": "markdown",
   "id": "844494bc",
   "metadata": {},
   "source": [
    "#### 문제 참고\n",
    "    이것이 취업을 위한 코딩 테스트다 with 파이썬"
   ]
  }
 ],
 "metadata": {
  "kernelspec": {
   "display_name": "Python 3",
   "language": "python",
   "name": "python3"
  },
  "language_info": {
   "codemirror_mode": {
    "name": "ipython",
    "version": 3
   },
   "file_extension": ".py",
   "mimetype": "text/x-python",
   "name": "python",
   "nbconvert_exporter": "python",
   "pygments_lexer": "ipython3",
   "version": "3.8.8"
  }
 },
 "nbformat": 4,
 "nbformat_minor": 5
}
