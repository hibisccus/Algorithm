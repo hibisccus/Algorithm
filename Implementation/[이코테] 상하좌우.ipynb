{
 "cells": [
  {
   "cell_type": "markdown",
   "id": "602ae285",
   "metadata": {},
   "source": [
    "## 상하좌우\n",
    "\n",
    "#### 문제\n",
    "    여행가 A는 N × N 크기의 정사각형 공간 위에 서 있다. 이 공간은 1 × 1 크기의 정사각형으로 나누어져 있다.\n",
    "    가장 왼쪽 위 좌표는 (1, 1)이며, 가장 오른쪽 아래 좌표는 (N, N)에 해당한다.\n",
    "    여행가 A는 상, 하, 좌, 우 방향으로 이동할 수 있으며, 시작 좌표는 항상 (1, 1)이다. 우리 앞에는 여행가 A가\n",
    "    이동할 계획이 적힌 계획서가 놓여 있다.\n",
    "\n",
    "    계획서에는 하나의 줄에 띄어쓰기를 기준으로 L, R, U, D 중 하나의 문자가 반복적으로 적혀있다.\n",
    "    각 문자의 의미는 다음과 같다.\n",
    "\n",
    "    L: 왼쪽으로 한 칸 이동\n",
    "    R: 오른쪽으로 한 칸 이동\n",
    "    U: 위로 한 칸 이동\n",
    "    D: 아래로 한 칸 이동\n",
    "\n",
    "    이때 여행가 A가 N × N 크기의 정사각형 공간을 벗어나는 움직임은 무시된다.\n",
    "    예를 들어 (1, 1)의 위치에서 L 혹은 U를 만나면 무시된다.\n",
    "\n",
    "#### 입력 조건\n",
    "    첫째 줄에 공간의 크기를 나타내는 N이 주어진다. (1<=N<=100)\n",
    "    둘째 줄에 여행가 A가 이동할 계획서 내용이 주어진다. (1<=이동 횟수<=100)\n",
    "    \n",
    "#### 출력 조건\n",
    "    첫째 줄에 여행가 A가 최종적으로 도달할 지점의 좌표(X, Y)를 공백으로 구분하여 출력한다."
   ]
  },
  {
   "cell_type": "markdown",
   "id": "97c6993c",
   "metadata": {},
   "source": [
    "#### 입력 예시\n",
    "    In [1] 5\n",
    "           R R R U D D\n",
    "    \n",
    "#### 출력 예시\n",
    "    Out [1] 3 4"
   ]
  },
  {
   "cell_type": "markdown",
   "id": "d7768ae6",
   "metadata": {},
   "source": [
    "#### 풀이\n",
    "    해당 방향에 따라 이동, 방향에 따라 이동할 수 없는 부분을 조건에 추가하여 제외하면 된다."
   ]
  },
  {
   "cell_type": "code",
   "execution_count": 3,
   "id": "33a2e8be",
   "metadata": {},
   "outputs": [
    {
     "name": "stdout",
     "output_type": "stream",
     "text": [
      "5\n",
      "R R R U D D\n",
      "3 4\n"
     ]
    }
   ],
   "source": [
    "def LRUD(N: int, lst: list): \n",
    "    x, y = 1, 1\n",
    "    \n",
    "    for direction in lst:                \n",
    "        if direction == 'L' and y > 1:\n",
    "            y -= 1\n",
    "            \n",
    "        elif direction == 'R' and y < N:\n",
    "            y += 1   \n",
    "            \n",
    "        elif direction == 'U' and x > 1:\n",
    "            x -= 1\n",
    "            \n",
    "        elif direction == 'D' and x < N:\n",
    "            x += 1\n",
    "            \n",
    "    print(x, y)  \n",
    "    \n",
    "N = int(input())   \n",
    "lst = list(input().split())\n",
    "\n",
    "LRUD(N, lst)"
   ]
  },
  {
   "cell_type": "markdown",
   "id": "2192bad5",
   "metadata": {},
   "source": [
    "#### 책에서의 풀이"
   ]
  },
  {
   "cell_type": "code",
   "execution_count": 4,
   "id": "ea1957f4",
   "metadata": {},
   "outputs": [
    {
     "name": "stdout",
     "output_type": "stream",
     "text": [
      "5\n",
      "R R R U D D\n",
      "3 4\n"
     ]
    }
   ],
   "source": [
    "def LRUD(N: int, lst: list) -> list:\n",
    "    movement = ['L', 'R', 'U', 'D']\n",
    "    dx = [0, 0, -1, 1]\n",
    "    dy = [-1, 1, 0, 0]\n",
    "    x, y = 1, 1\n",
    "    \n",
    "    for direction in lst:\n",
    "        for m in range(len(movement)):\n",
    "            if direction == movement[m]:\n",
    "                nx = x + dx[m]\n",
    "                ny = y + dy[m]\n",
    "        if nx < 1 or ny < 1 or nx > N or ny > N:\n",
    "            continue\n",
    "            \n",
    "        x, y = nx, ny\n",
    "        \n",
    "    print(x, y)\n",
    "\n",
    "N = int(input())   \n",
    "lst = list(input().split())\n",
    "\n",
    "LRUD(N, lst)"
   ]
  },
  {
   "cell_type": "markdown",
   "id": "212ea8f6",
   "metadata": {},
   "source": [
    "#### 문제 참고\n",
    "    이것이 취업을 위한 코딩 테스트다 with 파이썬"
   ]
  }
 ],
 "metadata": {
  "kernelspec": {
   "display_name": "Python 3",
   "language": "python",
   "name": "python3"
  },
  "language_info": {
   "codemirror_mode": {
    "name": "ipython",
    "version": 3
   },
   "file_extension": ".py",
   "mimetype": "text/x-python",
   "name": "python",
   "nbconvert_exporter": "python",
   "pygments_lexer": "ipython3",
   "version": "3.8.8"
  }
 },
 "nbformat": 4,
 "nbformat_minor": 5
}
